{
 "cells": [
  {
   "cell_type": "code",
   "execution_count": 5,
   "id": "bd1586b4-8e72-4eac-968a-018ec62bcd2e",
   "metadata": {},
   "outputs": [],
   "source": [
    "import pandas as pd"
   ]
  },
  {
   "cell_type": "code",
   "execution_count": 13,
   "id": "9de51a60-399b-4063-9a38-55fcd0891e90",
   "metadata": {},
   "outputs": [
    {
     "name": "stdout",
     "output_type": "stream",
     "text": [
      "0    10\n",
      "1    20\n",
      "2    30\n",
      "dtype: int64\n"
     ]
    }
   ],
   "source": [
    "s1 = pd.Series([10,20,30]) # s should ne in cap\n",
    "print(s1)"
   ]
  },
  {
   "cell_type": "code",
   "execution_count": 15,
   "id": "2e829689-95e2-4b95-bd0c-609e76fac40a",
   "metadata": {},
   "outputs": [],
   "source": [
    "import pandas as pd"
   ]
  },
  {
   "cell_type": "code",
   "execution_count": 23,
   "id": "b4e1fecd-322b-47a6-add4-ffdd62385134",
   "metadata": {},
   "outputs": [
    {
     "name": "stdout",
     "output_type": "stream",
     "text": [
      "     name  age       city\n",
      "0  sheikh   20  bangalore\n",
      "1   sania   21     mysore\n",
      "2   mirza   22   chittore\n"
     ]
    }
   ],
   "source": [
    "data = {'name' : ['sheikh','sania','mirza'],\n",
    "        'age': [20,21,22],\n",
    "        'city': ['bangalore','mysore','chittore']}\n",
    "df = pd.DataFrame(data)\n",
    "print(df)"
   ]
  },
  {
   "cell_type": "code",
   "execution_count": 31,
   "id": "b576ada5-3f6a-40de-a61a-3394b5b90ba3",
   "metadata": {},
   "outputs": [
    {
     "name": "stdout",
     "output_type": "stream",
     "text": [
      "     name  age       city               gmail\n",
      "0  sheikh   20  bangalore  sheikh02@gmail.com\n",
      "1   sania   21     mysore   sania042gmail.com\n",
      "2   mirza   22   chittore   mirza06@gmail.com\n",
      "adding new column\n",
      "     name  age       city               gmail               email\n",
      "0  sheikh   20  bangalore  sheikh02@gmail.com  sheikh02@gmail.com\n",
      "1   sania   21     mysore   sania042gmail.com   sania042gmail.com\n",
      "2   mirza   22   chittore   mirza06@gmail.com   mirza06@gmail.com\n"
     ]
    }
   ],
   "source": [
    "data = {'name' : ['sheikh','sania','mirza'],\n",
    "        'age': [20,21,22],\n",
    "        'city': ['bangalore','mysore','chittore'],\n",
    "        'gmail':['sheikh02@gmail.com','sania042gmail.com','mirza06@gmail.com']\n",
    "       }\n",
    "df = pd.DataFrame(data)\n",
    "print(df)\n",
    "print(\"adding new column\")\n",
    "df['email'] = ['sheikh02@gmail.com','sania042gmail.com','mirza06@gmail.com']\n",
    "print(df)"
   ]
  },
  {
   "cell_type": "code",
   "execution_count": null,
   "id": "770a5485-1180-4a95-858a-e07debf79954",
   "metadata": {},
   "outputs": [],
   "source": []
  }
 ],
 "metadata": {
  "kernelspec": {
   "display_name": "Python [conda env:New folder]",
   "language": "python",
   "name": "conda-env-New_folder-py"
  },
  "language_info": {
   "codemirror_mode": {
    "name": "ipython",
    "version": 3
   },
   "file_extension": ".py",
   "mimetype": "text/x-python",
   "name": "python",
   "nbconvert_exporter": "python",
   "pygments_lexer": "ipython3",
   "version": "3.12.7"
  }
 },
 "nbformat": 4,
 "nbformat_minor": 5
}
