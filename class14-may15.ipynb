{
 "cells": [
  {
   "cell_type": "markdown",
   "id": "9aeb40d3-0983-4453-a3df-0df17b5005b5",
   "metadata": {},
   "source": [
    "# functions"
   ]
  },
  {
   "cell_type": "code",
   "execution_count": 2,
   "id": "22901fab-b4cd-43e4-83b0-64c66143e9e0",
   "metadata": {},
   "outputs": [],
   "source": [
    "# functions:block of code that performs a specific task\n",
    "\n",
    "# syntax: def function name():\n",
    "#function body\n",
    "#code to execute"
   ]
  },
  {
   "cell_type": "code",
   "execution_count": 4,
   "id": "fc414f23-63cc-4ca8-83fb-9e37d1ef5f3a",
   "metadata": {},
   "outputs": [],
   "source": [
    "def add_two():\n",
    "    a=10\n",
    "    b=29\n",
    "    c=a+b\n",
    "    print(c)"
   ]
  },
  {
   "cell_type": "code",
   "execution_count": 6,
   "id": "a2dbff14-a5bd-4db0-94cb-0d7e3d165fa6",
   "metadata": {},
   "outputs": [
    {
     "name": "stdout",
     "output_type": "stream",
     "text": [
      "39\n"
     ]
    }
   ],
   "source": [
    "add_two()"
   ]
  },
  {
   "cell_type": "code",
   "execution_count": 8,
   "id": "13a16764-03ed-4bd3-b409-0ab184c20be4",
   "metadata": {},
   "outputs": [
    {
     "name": "stdout",
     "output_type": "stream",
     "text": [
      "hello world!\n"
     ]
    }
   ],
   "source": [
    "def greet():\n",
    "    print(\"hello world!\")\n",
    "    \n",
    "greet()"
   ]
  },
  {
   "cell_type": "code",
   "execution_count": 10,
   "id": "16ef5a8f-339c-4502-ac62-ded2c46a85db",
   "metadata": {},
   "outputs": [
    {
     "name": "stdin",
     "output_type": "stream",
     "text": [
      "enter your name mehak\n"
     ]
    },
    {
     "name": "stdout",
     "output_type": "stream",
     "text": [
      "hello mehak welcome to the party\n"
     ]
    }
   ],
   "source": [
    "def greet():\n",
    "    name = input(\"enter your name\")\n",
    "    print(f\"hello {name} welcome to the party\")\n",
    "    \n",
    "greet()"
   ]
  },
  {
   "cell_type": "code",
   "execution_count": null,
   "id": "757c2f61-4492-46e5-b0d2-9e11f657ca5e",
   "metadata": {},
   "outputs": [],
   "source": [
    "#user defined functions\n",
    "#built in functions\n",
    "#methods"
   ]
  },
  {
   "cell_type": "code",
   "execution_count": 12,
   "id": "777e52a6-147a-48c2-a3ae-7a4cdaff80b0",
   "metadata": {},
   "outputs": [
    {
     "name": "stdout",
     "output_type": "stream",
     "text": [
      "20\n"
     ]
    }
   ],
   "source": [
    "def sub():\n",
    "    a=10\n",
    "    b=30\n",
    "    c=b-a\n",
    "    print(c)\n",
    "sub()"
   ]
  },
  {
   "cell_type": "code",
   "execution_count": 14,
   "id": "7bb242c7-4ee4-4b10-b5eb-2ba0d092de0f",
   "metadata": {},
   "outputs": [
    {
     "name": "stdout",
     "output_type": "stream",
     "text": [
      "(30, 10, 200, 2.0)\n"
     ]
    }
   ],
   "source": [
    "#basic calculator\n",
    "def calculations():\n",
    "    a=10\n",
    "    b=20\n",
    "    c=b+a,b-a,b*a,b/a\n",
    "    print(c)\n",
    "calculations()"
   ]
  },
  {
   "cell_type": "code",
   "execution_count": 16,
   "id": "8ce0263c-3dd1-4c36-888e-7f0419e569d5",
   "metadata": {},
   "outputs": [],
   "source": [
    "def multiplication_table():\n",
    " num = int(input(\"enter a number for the multiplication table:\"))\n",
    " for i in range(1,11):\n",
    "   print(f\"{num}x{i}={num*i}\")\n",
    " "
   ]
  },
  {
   "cell_type": "code",
   "execution_count": 18,
   "id": "e9610a2e-4066-4fa9-8827-39265c0fe49c",
   "metadata": {},
   "outputs": [
    {
     "name": "stdin",
     "output_type": "stream",
     "text": [
      "enter a number for the multiplication table: 19\n"
     ]
    },
    {
     "name": "stdout",
     "output_type": "stream",
     "text": [
      "19x1=19\n",
      "19x2=38\n",
      "19x3=57\n",
      "19x4=76\n",
      "19x5=95\n",
      "19x6=114\n",
      "19x7=133\n",
      "19x8=152\n",
      "19x9=171\n",
      "19x10=190\n"
     ]
    }
   ],
   "source": [
    "multiplication_table()"
   ]
  },
  {
   "cell_type": "code",
   "execution_count": 20,
   "id": "51c46e8b-585f-440f-a50a-ddb991d39e11",
   "metadata": {},
   "outputs": [
    {
     "name": "stdout",
     "output_type": "stream",
     "text": [
      "30\n"
     ]
    }
   ],
   "source": [
    "#parameters\n",
    "#arguments\n",
    "def func(a,b):\n",
    "    c=a+b\n",
    "    print(c)\n",
    "func(10,20)"
   ]
  },
  {
   "cell_type": "code",
   "execution_count": 22,
   "id": "5348c6ee-f268-414a-b696-3033164c3200",
   "metadata": {},
   "outputs": [
    {
     "name": "stdout",
     "output_type": "stream",
     "text": [
      "39\n"
     ]
    }
   ],
   "source": [
    "add_two()"
   ]
  },
  {
   "cell_type": "code",
   "execution_count": 24,
   "id": "34826206-174b-4705-b04a-fb7bcb54a911",
   "metadata": {},
   "outputs": [
    {
     "data": {
      "text/plain": [
       "120"
      ]
     },
     "execution_count": 24,
     "metadata": {},
     "output_type": "execute_result"
    }
   ],
   "source": [
    "def func2():\n",
    "    a=100\n",
    "    b=20\n",
    "    c=a+b\n",
    "    return c\n",
    "func2()"
   ]
  },
  {
   "cell_type": "code",
   "execution_count": 26,
   "id": "d07c643f-4e20-457c-9a1a-7a987584b28b",
   "metadata": {},
   "outputs": [
    {
     "name": "stdout",
     "output_type": "stream",
     "text": [
      "even\n"
     ]
    }
   ],
   "source": [
    "def check_even(number):\n",
    "    if number % 2==0:\n",
    "        return\"even\"\n",
    "        return \"odd\"\n",
    "result=check_even(4)\n",
    "print(result)"
   ]
  },
  {
   "cell_type": "code",
   "execution_count": 28,
   "id": "527f8333-24dd-49d1-8118-89eb7494f05f",
   "metadata": {},
   "outputs": [
    {
     "data": {
      "text/plain": [
       "'even'"
      ]
     },
     "execution_count": 28,
     "metadata": {},
     "output_type": "execute_result"
    }
   ],
   "source": [
    "check_even(4)"
   ]
  },
  {
   "cell_type": "code",
   "execution_count": 30,
   "id": "e0014ee9-f00c-4320-ab2f-8f671cb81bb2",
   "metadata": {},
   "outputs": [
    {
     "name": "stdout",
     "output_type": "stream",
     "text": [
      "[1, 2, 3, 4]\n"
     ]
    }
   ],
   "source": [
    "def create_list():\n",
    "    return[1,2,3,4]\n",
    "my_list=create_list()\n",
    "print(my_list)"
   ]
  },
  {
   "cell_type": "code",
   "execution_count": null,
   "id": "d026c8bf-73f8-4324-bf05-bd7eae33fbbb",
   "metadata": {},
   "outputs": [],
   "source": []
  }
 ],
 "metadata": {
  "kernelspec": {
   "display_name": "Python [conda env:base] *",
   "language": "python",
   "name": "conda-base-py"
  },
  "language_info": {
   "codemirror_mode": {
    "name": "ipython",
    "version": 3
   },
   "file_extension": ".py",
   "mimetype": "text/x-python",
   "name": "python",
   "nbconvert_exporter": "python",
   "pygments_lexer": "ipython3",
   "version": "3.12.7"
  }
 },
 "nbformat": 4,
 "nbformat_minor": 5
}
