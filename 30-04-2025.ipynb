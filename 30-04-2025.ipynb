{
 "cells": [
  {
   "cell_type": "code",
   "execution_count": 7,
   "id": "29cea644-356d-440a-bc63-b14370151e3f",
   "metadata": {},
   "outputs": [
    {
     "name": "stdout",
     "output_type": "stream",
     "text": [
      "strong password\n"
     ]
    }
   ],
   "source": [
    "# question\n",
    "password = \"sheikh sania\"\n",
    "if len(password)<6:\n",
    "    print(\"week password\")\n",
    "elif len(password)==8:\n",
    "    print(\"moderate password\")\n",
    "elif len(password)>8:\n",
    "    print(\"strong password\")"
   ]
  },
  {
   "cell_type": "code",
   "execution_count": 23,
   "id": "48d58488-da6f-4584-a3c4-84f3c822a624",
   "metadata": {},
   "outputs": [
    {
     "name": "stdout",
     "output_type": "stream",
     "text": [
      "1\n",
      "2\n",
      "3\n",
      "4\n",
      "5\n"
     ]
    }
   ],
   "source": [
    "#for loop\n",
    "a = [1,2,3,4,5]\n",
    "for i in a:\n",
    "    print(i)"
   ]
  },
  {
   "cell_type": "raw",
   "id": "84426ab5-f6c0-4560-bb39-4b2ca43e79d1",
   "metadata": {},
   "source": [
    "syntax: for var in sequence:"
   ]
  },
  {
   "cell_type": "markdown",
   "id": "b71aefe7-f06c-44df-903d-f5b682cefea3",
   "metadata": {},
   "source": [
    "# sequences"
   ]
  },
  {
   "cell_type": "code",
   "execution_count": null,
   "id": "804ace31-b172-42ec-ab5e-e54ca441cd1d",
   "metadata": {},
   "outputs": [],
   "source": [
    "*tuple\n",
    "*list\n",
    "*strings\n",
    "*ranges\n",
    "*sets\n",
    "*dictionaries"
   ]
  },
  {
   "cell_type": "code",
   "execution_count": 26,
   "id": "81aa8fd8-73e9-49a6-9090-35f1e5bd0ce9",
   "metadata": {},
   "outputs": [
    {
     "name": "stdout",
     "output_type": "stream",
     "text": [
      "apple\n",
      "banana\n",
      "mango\n"
     ]
    }
   ],
   "source": [
    "#ex list\n",
    "fruits = ['apple', 'banana', 'mango']\n",
    "for fruit in fruits:\n",
    "    print(fruit)"
   ]
  },
  {
   "cell_type": "code",
   "execution_count": 28,
   "id": "3c4bb058-df58-4fd9-ab1e-695eb498b7c4",
   "metadata": {},
   "outputs": [
    {
     "name": "stdout",
     "output_type": "stream",
     "text": [
      "h\n",
      "e\n",
      "l\n",
      "l\n",
      "o\n"
     ]
    }
   ],
   "source": [
    "# string\n",
    "word = \"hello\"\n",
    "for i in word: #we can put anything in place of (i) and put same word in print\n",
    "    print(i)"
   ]
  },
  {
   "cell_type": "code",
   "execution_count": 30,
   "id": "5c9e51cc-dd76-416b-80b1-911f854b25f7",
   "metadata": {},
   "outputs": [
    {
     "name": "stdout",
     "output_type": "stream",
     "text": [
      "0\n",
      "1\n",
      "2\n",
      "3\n",
      "4\n",
      "5\n",
      "6\n",
      "7\n",
      "8\n",
      "9\n",
      "10\n"
     ]
    }
   ],
   "source": [
    "#range\n",
    "for i in range(0, 11):\n",
    "    print(i)"
   ]
  },
  {
   "cell_type": "code",
   "execution_count": 32,
   "id": "613cd5e4-bd25-4960-9a4a-3cb42f2ed848",
   "metadata": {},
   "outputs": [
    {
     "name": "stdout",
     "output_type": "stream",
     "text": [
      "0\n",
      "2\n",
      "4\n",
      "6\n",
      "8\n",
      "10\n"
     ]
    }
   ],
   "source": [
    "for i in range(0, 11,2): #here with 2 we can skip no\n",
    "    print(i)"
   ]
  },
  {
   "cell_type": "code",
   "execution_count": 34,
   "id": "6d9422a0-7d31-4b35-bbab-9e9a9f97e13e",
   "metadata": {},
   "outputs": [
    {
     "name": "stdout",
     "output_type": "stream",
     "text": [
      "0\n",
      "3\n",
      "6\n",
      "9\n"
     ]
    }
   ],
   "source": [
    "for i in range(0, 11,3): #here with 2 we can skip no\n",
    "    print(i)"
   ]
  },
  {
   "cell_type": "code",
   "execution_count": 36,
   "id": "d9eef804-231c-4096-a787-85bc50f65c30",
   "metadata": {},
   "outputs": [
    {
     "name": "stdout",
     "output_type": "stream",
     "text": [
      "0\n",
      "2\n",
      "4\n",
      "6\n",
      "8\n",
      "10\n",
      "loop is executed\n"
     ]
    }
   ],
   "source": [
    "#looping with else\n",
    "for i in range(0, 11,2): #here after printing u can use else to print staement\n",
    "    print(i)\n",
    "else:\n",
    "    print(\"loop is executed\")"
   ]
  },
  {
   "cell_type": "code",
   "execution_count": 60,
   "id": "3c45004a-641a-4177-8791-e59b9828aeb5",
   "metadata": {},
   "outputs": [
    {
     "name": "stdout",
     "output_type": "stream",
     "text": [
      " i= 0, j=0\n",
      " i= 0, j=1\n",
      " i= 1, j=0\n",
      " i= 1, j=1\n",
      " i= 2, j=0\n",
      " i= 2, j=1\n"
     ]
    }
   ],
   "source": [
    "# nested  for loop\n",
    "for i in range(3):\n",
    "    for j in range(2):\n",
    "        print(f\" i= {i}, j={j}\") // print(i,j) # we can call any variable using curly braces"
   ]
  },
  {
   "cell_type": "code",
   "execution_count": 64,
   "id": "71e07975-0640-4cce-b6f8-f7253b81d6ba",
   "metadata": {},
   "outputs": [
    {
     "name": "stdout",
     "output_type": "stream",
     "text": [
      "my name is sania\n"
     ]
    }
   ],
   "source": [
    "name = \"sania\"\n",
    "print(f\"my name is {name}\") // here f and {} are important"
   ]
  },
  {
   "cell_type": "code",
   "execution_count": 66,
   "id": "bf0fa17b-df4f-47e2-86b6-4e811abc240d",
   "metadata": {},
   "outputs": [
    {
     "name": "stdout",
     "output_type": "stream",
     "text": [
      "this is outer loop\n",
      "this is inner loop\n",
      "this is inner loop\n",
      "this is inner loop\n",
      "this is outer loop\n",
      "this is inner loop\n",
      "this is inner loop\n",
      "this is inner loop\n",
      "this is outer loop\n",
      "this is inner loop\n",
      "this is inner loop\n",
      "this is inner loop\n"
     ]
    }
   ],
   "source": [
    "for i in range(3):\n",
    "    print(\"this is outer loop\")\n",
    "    for j in range(3):\n",
    "        print(\"this is inner loop\")"
   ]
  },
  {
   "cell_type": "code",
   "execution_count": 72,
   "id": "ac72e761-206e-46b0-86d8-44adba727d8b",
   "metadata": {},
   "outputs": [
    {
     "name": "stdout",
     "output_type": "stream",
     "text": [
      "0\n",
      "this is first\n",
      "this is second\n",
      "this is third\n",
      "1\n",
      "this is first\n",
      "this is second\n",
      "this is third\n",
      "2\n",
      "this is first\n",
      "this is second\n",
      "this is third\n"
     ]
    }
   ],
   "source": [
    "for i in range(3):\n",
    "    print(i)\n",
    "    print(\"this is first\")\n",
    "    print(\"this is second\")\n",
    "    print(\"this is third\")"
   ]
  },
  {
   "cell_type": "code",
   "execution_count": 84,
   "id": "61c97209-e522-4551-be5a-70cb660c521c",
   "metadata": {},
   "outputs": [
    {
     "name": "stdout",
     "output_type": "stream",
     "text": [
      "0 = h\n",
      "1 = e\n",
      "2 = l\n",
      "3 = l\n",
      "4 = o\n",
      "rest of code\n"
     ]
    }
   ],
   "source": [
    "#loop with index\n",
    "str = \"hello\"\n",
    "n = len(str)\n",
    "for i in range(n):\n",
    "    print(i,\"=\",str[i])\n",
    "else:\n",
    "    print(\"rest of code\")"
   ]
  },
  {
   "cell_type": "code",
   "execution_count": 106,
   "id": "3944b2a1-7c28-4bc7-892b-b1eb0b2c37ee",
   "metadata": {},
   "outputs": [],
   "source": [
    "#break \n",
    "for num in range(10):\n",
    "    if num==5:\n",
    "        break\n",
    "        print(num)"
   ]
  },
  {
   "cell_type": "raw",
   "id": "c40110a1-b0e5-4f24-9d0f-323df947782d",
   "metadata": {},
   "source": [
    "#continue"
   ]
  },
  {
   "cell_type": "code",
   "execution_count": 108,
   "id": "d87a4862-a62b-4b5e-9cff-fc1b229312bd",
   "metadata": {},
   "outputs": [],
   "source": [
    "for number in range(5):\n",
    "    if number==2:\n",
    "        continue # skip the number when continue is used\n",
    "        print(number)"
   ]
  },
  {
   "cell_type": "code",
   "execution_count": null,
   "id": "48d0b147-f914-41d1-949f-bc784d1c7a08",
   "metadata": {},
   "outputs": [],
   "source": [
    "# pass"
   ]
  },
  {
   "cell_type": "code",
   "execution_count": null,
   "id": "cc742377-468d-4f8b-8e16-2ab95d05971c",
   "metadata": {},
   "outputs": [],
   "source": [
    "it is similar to continue given example how 3 is not printed in continue same in pass 3 will not print"
   ]
  },
  {
   "cell_type": "code",
   "execution_count": 138,
   "id": "69003cc2-c906-4809-85c2-a2d0ebc265f1",
   "metadata": {},
   "outputs": [
    {
     "name": "stdout",
     "output_type": "stream",
     "text": [
      "the number target is found\n"
     ]
    }
   ],
   "source": [
    "# search a specific num and print stop\n",
    "number = [1,2,3,4,5,6]\n",
    "target = 3\n",
    "for number in number:\n",
    "    if n==number:\n",
    "        print(\"the number target is found\")\n",
    "        break"
   ]
  },
  {
   "cell_type": "code",
   "execution_count": 130,
   "id": "57f407ba-a1f8-4626-ae22-03fbc7529c9b",
   "metadata": {},
   "outputs": [
    {
     "name": "stdout",
     "output_type": "stream",
     "text": [
      "0\n",
      "1\n",
      "2\n",
      "3\n",
      "4\n"
     ]
    }
   ],
   "source": [
    "for  i in range(5):\n",
    "    print(i)"
   ]
  },
  {
   "cell_type": "code",
   "execution_count": 132,
   "id": "92ea885b-b74d-47cc-bbaf-6e071f89c97c",
   "metadata": {},
   "outputs": [
    {
     "name": "stdout",
     "output_type": "stream",
     "text": [
      "sheikh\n"
     ]
    }
   ],
   "source": [
    "print(\"sheikh\")"
   ]
  },
  {
   "cell_type": "code",
   "execution_count": null,
   "id": "21238c41-12ea-4c50-8226-8cf23dcabb06",
   "metadata": {},
   "outputs": [],
   "source": []
  }
 ],
 "metadata": {
  "kernelspec": {
   "display_name": "Python [conda env:New folder]",
   "language": "python",
   "name": "conda-env-New_folder-py"
  },
  "language_info": {
   "codemirror_mode": {
    "name": "ipython",
    "version": 3
   },
   "file_extension": ".py",
   "mimetype": "text/x-python",
   "name": "python",
   "nbconvert_exporter": "python",
   "pygments_lexer": "ipython3",
   "version": "3.12.7"
  }
 },
 "nbformat": 4,
 "nbformat_minor": 5
}
