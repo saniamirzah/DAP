{
 "cells": [
  {
   "cell_type": "markdown",
   "id": "547cf3d7-f814-4667-8505-16be78629208",
   "metadata": {},
   "source": [
    "## Types of variable in functions \n"
   ]
  },
  {
   "cell_type": "code",
   "execution_count": 2,
   "id": "f9fa3315-c0ca-4dc1-943b-db4eca3061af",
   "metadata": {},
   "outputs": [
    {
     "name": "stdout",
     "output_type": "stream",
     "text": [
      "220\n"
     ]
    }
   ],
   "source": [
    "# local variable\n",
    "def func13():\n",
    "    ab = 190\n",
    "    cd =30 \n",
    "    de = ab + cd \n",
    "    print(de)\n",
    "\n",
    "func13()"
   ]
  },
  {
   "cell_type": "code",
   "execution_count": 6,
   "id": "2451e8e6-eb82-4fab-b0ba-3e591e43d53c",
   "metadata": {},
   "outputs": [
    {
     "name": "stdout",
     "output_type": "stream",
     "text": [
      "30\n"
     ]
    }
   ],
   "source": [
    "# global variable \n",
    "eja = 20 \n",
    "def func12():\n",
    "    i = eja + 10\n",
    "    print(i)\n",
    "\n",
    "func12()"
   ]
  },
  {
   "cell_type": "code",
   "execution_count": 8,
   "id": "cdc676e0-f580-4372-8b9d-3666d1aa8da9",
   "metadata": {},
   "outputs": [
    {
     "data": {
      "text/plain": [
       "20"
      ]
     },
     "execution_count": 8,
     "metadata": {},
     "output_type": "execute_result"
    }
   ],
   "source": [
    "eja"
   ]
  },
  {
   "cell_type": "markdown",
   "id": "aa5f2d47-88d6-480d-98b3-b48b943bd5ee",
   "metadata": {},
   "source": [
    "## Nested function"
   ]
  },
  {
   "cell_type": "code",
   "execution_count": 12,
   "id": "3066822f-2cdf-4e38-93ea-7da391966845",
   "metadata": {},
   "outputs": [
    {
     "name": "stdout",
     "output_type": "stream",
     "text": [
      "first\n",
      "hello\n"
     ]
    }
   ],
   "source": [
    "def outer_func():\n",
    "    print(\"first\")\n",
    "    def inner_func():\n",
    "        print(\"hello\")\n",
    "    inner_func()\n",
    "\n",
    "outer_func()"
   ]
  },
  {
   "cell_type": "markdown",
   "id": "1c01520e-a711-4ea1-9e97-3cac7f666c49",
   "metadata": {},
   "source": [
    "### deleting a function "
   ]
  },
  {
   "cell_type": "code",
   "execution_count": 15,
   "id": "f6b25e2a-b95f-4380-b7b9-11cbfddc10b5",
   "metadata": {},
   "outputs": [],
   "source": [
    "def my_function():\n",
    "    print(\"hello, world\")"
   ]
  },
  {
   "cell_type": "code",
   "execution_count": 17,
   "id": "8f02f0d8-8a1f-48bd-96bd-a344ad92d881",
   "metadata": {},
   "outputs": [
    {
     "name": "stdout",
     "output_type": "stream",
     "text": [
      "hello, world\n"
     ]
    }
   ],
   "source": [
    "my_function()"
   ]
  },
  {
   "cell_type": "code",
   "execution_count": 54,
   "id": "5f9a0c77-e95e-4ae0-9caa-762165945645",
   "metadata": {},
   "outputs": [],
   "source": [
    "del my_function\n"
   ]
  },
  {
   "cell_type": "markdown",
   "id": "ea464c14-dd68-4a00-975e-8aaf52bc44b7",
   "metadata": {},
   "source": [
    "### lambda function"
   ]
  },
  {
   "cell_type": "code",
   "execution_count": 46,
   "id": "33e11390-59c2-4397-b12c-3db84dc30a70",
   "metadata": {},
   "outputs": [],
   "source": [
    "#it's small, anonymous func defined using lamda keyword it have one expression\n",
    "# lambda arguments: expression \n",
    "def func21 (a,b,c):\n",
    "    ba = a+b+c\n",
    "    return b"
   ]
  },
  {
   "cell_type": "code",
   "execution_count": 57,
   "id": "b9fc01a2-1d2e-4187-8375-16f53f9133e5",
   "metadata": {},
   "outputs": [],
   "source": [
    "ab = func21(20,10,30)"
   ]
  },
  {
   "cell_type": "code",
   "execution_count": 59,
   "id": "49ba8463-ae48-4815-8017-60ab177438db",
   "metadata": {},
   "outputs": [
    {
     "data": {
      "text/plain": [
       "10"
      ]
     },
     "execution_count": 59,
     "metadata": {},
     "output_type": "execute_result"
    }
   ],
   "source": [
    "ab"
   ]
  },
  {
   "cell_type": "code",
   "execution_count": 69,
   "id": "e417b769-eea6-45a6-b634-b0c47fd540c2",
   "metadata": {},
   "outputs": [
    {
     "data": {
      "text/plain": [
       "90"
      ]
     },
     "execution_count": 69,
     "metadata": {},
     "output_type": "execute_result"
    }
   ],
   "source": [
    "ba = lambda a, b, c: a + b + c\n",
    "ba(20, 30, 40)  \n"
   ]
  },
  {
   "cell_type": "code",
   "execution_count": 71,
   "id": "b7325790-8c74-42b1-8aba-d497632b1987",
   "metadata": {},
   "outputs": [],
   "source": [
    "a = lambda c: c*10"
   ]
  },
  {
   "cell_type": "code",
   "execution_count": 73,
   "id": "03653565-9b65-4cd0-9d69-ce64d55b96d8",
   "metadata": {},
   "outputs": [
    {
     "data": {
      "text/plain": [
       "20"
      ]
     },
     "execution_count": 73,
     "metadata": {},
     "output_type": "execute_result"
    }
   ],
   "source": [
    "a(2)"
   ]
  },
  {
   "cell_type": "code",
   "execution_count": null,
   "id": "a02d9324-c17b-431b-9835-bd5567db0598",
   "metadata": {},
   "outputs": [],
   "source": []
  }
 ],
 "metadata": {
  "kernelspec": {
   "display_name": "Python [conda env:base] *",
   "language": "python",
   "name": "conda-base-py"
  },
  "language_info": {
   "codemirror_mode": {
    "name": "ipython",
    "version": 3
   },
   "file_extension": ".py",
   "mimetype": "text/x-python",
   "name": "python",
   "nbconvert_exporter": "python",
   "pygments_lexer": "ipython3",
   "version": "3.12.7"
  }
 },
 "nbformat": 4,
 "nbformat_minor": 5
}
