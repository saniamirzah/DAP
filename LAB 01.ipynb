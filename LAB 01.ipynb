{
 "cells": [
  {
   "cell_type": "code",
   "execution_count": 3,
   "id": "ed08d182-2d9e-4c55-8e0c-18f2f1221e88",
   "metadata": {},
   "outputs": [
    {
     "name": "stdin",
     "output_type": "stream",
     "text": [
      "Enter the first number:  5\n",
      "Enter the second number:  8\n"
     ]
    },
    {
     "name": "stdout",
     "output_type": "stream",
     "text": [
      "Multiplication: 40.0\n",
      "Sum: 13.0\n"
     ]
    }
   ],
   "source": [
    "# 1. Calculate the multiplication and sum of two numbers\n",
    "def multiply_and_sum(a, b):\n",
    "    multiplication = a * b\n",
    "    summation = a + b\n",
    "    return multiplication, summation\n",
    "\n",
    "# Example usage\n",
    "num1 = float(input(\"Enter the first number: \"))\n",
    "num2 = float(input(\"Enter the second number: \"))\n",
    "result = multiply_and_sum(num1, num2)\n",
    "\n",
    "print(f\"Multiplication: {result[0]}\")\n",
    "print(f\"Sum: {result[1]}\")\n"
   ]
  },
  {
   "cell_type": "code",
   "execution_count": 5,
   "id": "85bd1d71-a869-49dd-98c1-7b016a39ad6b",
   "metadata": {},
   "outputs": [
    {
     "name": "stdout",
     "output_type": "stream",
     "text": [
      "The largest variable is: 25\n"
     ]
    }
   ],
   "source": [
    "# 2. Declare two variables and print that which variable is largest using ternaryoperators\n",
    "# Declare two variables\n",
    "a = 15\n",
    "b = 25\n",
    "\n",
    "# Use a ternary operator to determine the largest variable\n",
    "largest = a if a > b else b\n",
    "\n",
    "# Print the result\n",
    "print(f\"The largest variable is: {largest}\")\n"
   ]
  },
  {
   "cell_type": "code",
   "execution_count": null,
   "id": "4fec31a4-7006-4e1c-97a6-77f34ac950e1",
   "metadata": {},
   "outputs": [
    {
     "name": "stdin",
     "output_type": "stream",
     "text": [
      "Enter your name:  sheikh\n",
      "Enter your age:  20\n"
     ]
    }
   ],
   "source": [
    "# 3.Take input from the user (name, age, and city) and print it in a formatted string.\n",
    "# Take input from the user\n",
    "name = input(\"Enter your name: \")\n",
    "age = input(\"Enter your age: \")\n",
    "city = input(\"Enter your city: \")\n",
    "\n",
    "# Print the formatted string\n",
    "print(f\"Hello, my name is {name}, I am {age} years old, and I live in {city}.\")\n"
   ]
  },
  {
   "cell_type": "code",
   "execution_count": null,
   "id": "f8cc57dd-142e-4652-95cd-a9cb7a3aa28b",
   "metadata": {},
   "outputs": [],
   "source": []
  }
 ],
 "metadata": {
  "kernelspec": {
   "display_name": "Python [conda env:New folder]",
   "language": "python",
   "name": "conda-env-New_folder-py"
  },
  "language_info": {
   "codemirror_mode": {
    "name": "ipython",
    "version": 3
   },
   "file_extension": ".py",
   "mimetype": "text/x-python",
   "name": "python",
   "nbconvert_exporter": "python",
   "pygments_lexer": "ipython3",
   "version": "3.12.7"
  }
 },
 "nbformat": 4,
 "nbformat_minor": 5
}
