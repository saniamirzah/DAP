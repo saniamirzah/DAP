{
 "cells": [
  {
   "cell_type": "markdown",
   "id": "580819da-0f57-4a3f-a9e4-b7d81584a17b",
   "metadata": {},
   "source": [
    "# loop"
   ]
  },
  {
   "cell_type": "code",
   "execution_count": null,
   "id": "e48147b5-6baa-432f-adbf-029d3a48e268",
   "metadata": {},
   "outputs": [],
   "source": [
    "while loop with condition "
   ]
  },
  {
   "cell_type": "code",
   "execution_count": 4,
   "id": "5d3caf8f-7051-4e6e-9d49-c725b676a659",
   "metadata": {},
   "outputs": [
    {
     "name": "stdout",
     "output_type": "stream",
     "text": [
      "current number is: 10\n",
      "current number is: 8\n",
      "current number is: 6\n",
      "current number is: 4\n",
      "current number is: 2\n"
     ]
    }
   ],
   "source": [
    "# incremaent\n",
    "num=10\n",
    "while num>0:\n",
    "    print(\"current number is:\" , num)\n",
    "    num -=2"
   ]
  },
  {
   "cell_type": "code",
   "execution_count": 8,
   "id": "0158ed2f-f8b1-429b-9297-5a480eec6524",
   "metadata": {},
   "outputs": [],
   "source": [
    "# decrement\n",
    "counter = 2 \n",
    "while counter >= 5:\n",
    "    print(\"curent number is\", counter)\n",
    "    counter += 2"
   ]
  },
  {
   "cell_type": "code",
   "execution_count": null,
   "id": "71cf9abf-182a-4b34-9b35-0868bff7791a",
   "metadata": {},
   "outputs": [],
   "source": [
    ">>>infinite loop  if the condition in a while loop nver becomes false\n",
    "(it never stops) use this carefully or the sys will crash"
   ]
  },
  {
   "cell_type": "code",
   "execution_count": null,
   "id": "3e15fa6c-8481-4099-b376-a6c67a3488ef",
   "metadata": {},
   "outputs": [],
   "source": [
    "while true:\n",
    "    print(\"print this\") // we have to specify break to stop the loop"
   ]
  },
  {
   "cell_type": "code",
   "execution_count": null,
   "id": "c214c4ac-d27a-4ad3-bbb2-5c5b7577f938",
   "metadata": {},
   "outputs": [],
   "source": [
    ">>> using else with loop\n",
    "python allows else state to be used with a while loop. the else block condition"
   ]
  },
  {
   "cell_type": "code",
   "execution_count": 10,
   "id": "3cf629bd-b635-4514-a15b-43fb880ee9bc",
   "metadata": {},
   "outputs": [
    {
     "name": "stdout",
     "output_type": "stream",
     "text": [
      "x is: 3\n",
      "x is: 2\n",
      "x is: 1\n"
     ]
    }
   ],
   "source": [
    "x=3\n",
    "while x>0:\n",
    "    print(\"x is:\",x)\n",
    "    x-=1\n",
    "    "
   ]
  },
  {
   "cell_type": "code",
   "execution_count": null,
   "id": "027fb2e2-c601-4e82-a44d-c96598844b2e",
   "metadata": {},
   "outputs": [],
   "source": [
    ">>> strings\n",
    "immutable(cant be changed once created)\n",
    "index(accessing particular index)\n",
    "iterable(aloows to access eah character individually)\n"
   ]
  },
  {
   "cell_type": "code",
   "execution_count": 12,
   "id": "82a8056e-c536-4329-b63e-38f3768320e5",
   "metadata": {},
   "outputs": [],
   "source": [
    "# creating string\n",
    "str = ' sania'"
   ]
  },
  {
   "cell_type": "code",
   "execution_count": 14,
   "id": "7bf7d06b-3dda-4bff-9fef-6d69d01b650b",
   "metadata": {},
   "outputs": [
    {
     "data": {
      "text/plain": [
       "' sania'"
      ]
     },
     "execution_count": 14,
     "metadata": {},
     "output_type": "execute_result"
    }
   ],
   "source": [
    "str"
   ]
  },
  {
   "cell_type": "code",
   "execution_count": 16,
   "id": "77260990-03d2-4c8c-88e4-82df9ef6460c",
   "metadata": {},
   "outputs": [
    {
     "data": {
      "text/plain": [
       "'i'"
      ]
     },
     "execution_count": 16,
     "metadata": {},
     "output_type": "execute_result"
    }
   ],
   "source": [
    "#indexing\n",
    "str = \"sania\"\n",
    "str[3]"
   ]
  },
  {
   "cell_type": "code",
   "execution_count": 24,
   "id": "704b10d2-d82b-43b9-b446-48d378eedfc0",
   "metadata": {},
   "outputs": [
    {
     "data": {
      "text/plain": [
       "'n'"
      ]
     },
     "execution_count": 24,
     "metadata": {},
     "output_type": "execute_result"
    }
   ],
   "source": [
    "str[2]"
   ]
  },
  {
   "cell_type": "code",
   "execution_count": 26,
   "id": "d8d4cc77-886b-43e6-a5cd-c9b0fe711047",
   "metadata": {},
   "outputs": [
    {
     "data": {
      "text/plain": [
       "'e'"
      ]
     },
     "execution_count": 26,
     "metadata": {},
     "output_type": "execute_result"
    }
   ],
   "source": [
    "#negative indices\n",
    "my_string = \"sheikh\"\n",
    "my_string[2]"
   ]
  },
  {
   "cell_type": "code",
   "execution_count": 28,
   "id": "ff225954-97d4-404c-9373-a4e56ecc2925",
   "metadata": {},
   "outputs": [
    {
     "data": {
      "text/plain": [
       "'k'"
      ]
     },
     "execution_count": 28,
     "metadata": {},
     "output_type": "execute_result"
    }
   ],
   "source": [
    "my_string[-2] // ulta"
   ]
  },
  {
   "cell_type": "code",
   "execution_count": null,
   "id": "b30383c0-56a4-4e8d-a4c4-b8ac24ecaa80",
   "metadata": {},
   "outputs": [],
   "source": [
    ">>>slicing(extracting part from whole string)"
   ]
  },
  {
   "cell_type": "code",
   "execution_count": 30,
   "id": "4c5b4a64-8b3e-4f97-a11f-dfab7c2d7f96",
   "metadata": {},
   "outputs": [
    {
     "data": {
      "text/plain": [
       "'shei'"
      ]
     },
     "execution_count": 30,
     "metadata": {},
     "output_type": "execute_result"
    }
   ],
   "source": [
    "my_string = \"sheikh sania\"\n",
    "my_string[0:4]"
   ]
  },
  {
   "cell_type": "code",
   "execution_count": 34,
   "id": "0a0d2c1d-9549-4f73-b1ad-d01e22665fdb",
   "metadata": {},
   "outputs": [
    {
     "data": {
      "text/plain": [
       "'sheikh sa'"
      ]
     },
     "execution_count": 34,
     "metadata": {},
     "output_type": "execute_result"
    }
   ],
   "source": [
    "my_string[0:9]"
   ]
  },
  {
   "cell_type": "code",
   "execution_count": 36,
   "id": "1e229560-bee6-4c83-b44e-f3387c678eb2",
   "metadata": {},
   "outputs": [
    {
     "data": {
      "text/plain": [
       "'si '"
      ]
     },
     "execution_count": 36,
     "metadata": {},
     "output_type": "execute_result"
    }
   ],
   "source": [
    "my_string[0:9:3]"
   ]
  },
  {
   "cell_type": "code",
   "execution_count": 38,
   "id": "e47827b2-503a-40a8-9c10-a3603e909668",
   "metadata": {},
   "outputs": [
    {
     "data": {
      "text/plain": [
       "'sheikh sa'"
      ]
     },
     "execution_count": 38,
     "metadata": {},
     "output_type": "execute_result"
    }
   ],
   "source": [
    "my_string[ :9] //end"
   ]
  },
  {
   "cell_type": "code",
   "execution_count": 40,
   "id": "92496c75-c318-4e39-b50a-f1b63124be11",
   "metadata": {},
   "outputs": [
    {
     "data": {
      "text/plain": [
       "'eikh sania'"
      ]
     },
     "execution_count": 40,
     "metadata": {},
     "output_type": "execute_result"
    }
   ],
   "source": [
    "my_string[2: ] //omit"
   ]
  },
  {
   "cell_type": "code",
   "execution_count": 50,
   "id": "283b4914-9c48-4440-afe2-582d2da17b44",
   "metadata": {},
   "outputs": [],
   "source": [
    "text = \"python programmig\"\n",
    "reversed_text = text[::-1]"
   ]
  },
  {
   "cell_type": "code",
   "execution_count": null,
   "id": "53cc0038-dc9f-4ac0-9121-93177dbd3976",
   "metadata": {},
   "outputs": [],
   "source": [
    ">> editng ang deleting"
   ]
  },
  {
   "cell_type": "code",
   "execution_count": null,
   "id": "28e42263-c6ae-40d9-a866-9e20708dc760",
   "metadata": {},
   "outputs": [],
   "source": [
    "1. string replacement"
   ]
  },
  {
   "cell_type": "code",
   "execution_count": 58,
   "id": "ce03af41-8acf-4757-9cbf-97d5b97bd7fc",
   "metadata": {},
   "outputs": [],
   "source": [
    "original_str=\"hello world\"\n",
    "new_string=original_str.replace(\"world\", \"sania\")"
   ]
  },
  {
   "cell_type": "code",
   "execution_count": 62,
   "id": "31c5dee2-9fb3-4554-9989-c32606d5c992",
   "metadata": {},
   "outputs": [
    {
     "data": {
      "text/plain": [
       "'hello sania'"
      ]
     },
     "execution_count": 62,
     "metadata": {},
     "output_type": "execute_result"
    }
   ],
   "source": [
    "new_string"
   ]
  },
  {
   "cell_type": "code",
   "execution_count": 66,
   "id": "b38f3576-8195-46f4-99dc-5d346488c111",
   "metadata": {},
   "outputs": [
    {
     "data": {
      "text/plain": [
       "'i am sania'"
      ]
     },
     "execution_count": 66,
     "metadata": {},
     "output_type": "execute_result"
    }
   ],
   "source": [
    "name = \"i am sheikh\"\n",
    "new_word = name.replace(\"sheikh\", \"sania\")\n",
    "new_word"
   ]
  },
  {
   "cell_type": "markdown",
   "id": "50d858ea-4bbd-4227-9cfc-cb98d24b6026",
   "metadata": {},
   "source": [
    "2. concatination"
   ]
  },
  {
   "cell_type": "code",
   "execution_count": 74,
   "id": "0621bda6-dedc-4139-8c73-44226e41a63c",
   "metadata": {},
   "outputs": [
    {
     "data": {
      "text/plain": [
       "'hello world'"
      ]
     },
     "execution_count": 74,
     "metadata": {},
     "output_type": "execute_result"
    }
   ],
   "source": [
    "first = \"hello\"\n",
    "second =\"world\"\n",
    "combined_string=first+\" \"+second\n",
    "combined_string"
   ]
  },
  {
   "cell_type": "code",
   "execution_count": null,
   "id": "bd8ef14c-0767-40a3-9c7f-043de2bd8b86",
   "metadata": {},
   "outputs": [],
   "source": [
    "3. formatting"
   ]
  },
  {
   "cell_type": "code",
   "execution_count": 76,
   "id": "8a549902-f9ad-435f-bf13-9fc6bd18bc85",
   "metadata": {},
   "outputs": [
    {
     "name": "stdout",
     "output_type": "stream",
     "text": [
      "my name is sania my age is 21\n"
     ]
    }
   ],
   "source": [
    "name = \"sania\"\n",
    "age = 21\n",
    "print(\"my name is\",name,\"my age is\",age)"
   ]
  },
  {
   "cell_type": "code",
   "execution_count": 84,
   "id": "ff645ca6-e85a-458f-be1d-74c6b910b135",
   "metadata": {},
   "outputs": [
    {
     "data": {
      "text/plain": [
       "'my name issania my age is 21'"
      ]
     },
     "execution_count": 84,
     "metadata": {},
     "output_type": "execute_result"
    }
   ],
   "source": [
    "f\"my name is{name} my age is {age}\" # even like this we can print"
   ]
  },
  {
   "cell_type": "code",
   "execution_count": null,
   "id": "b65e3408-accf-4fff-8994-d24b8f9a380a",
   "metadata": {},
   "outputs": [],
   "source": [
    "deleting variable"
   ]
  },
  {
   "cell_type": "code",
   "execution_count": 96,
   "id": "d3fdf876-bf60-47ee-ad2a-d6ad1eb0649b",
   "metadata": {},
   "outputs": [
    {
     "data": {
      "text/plain": [
       "'sania'"
      ]
     },
     "execution_count": 96,
     "metadata": {},
     "output_type": "execute_result"
    }
   ],
   "source": [
    "my_name = \"sania\"\n",
    "my_name"
   ]
  },
  {
   "cell_type": "markdown",
   "id": "990803e7-7560-49f7-b630-69887429c130",
   "metadata": {},
   "source": [
    "del my_name // it is used to delete the string"
   ]
  },
  {
   "cell_type": "code",
   "execution_count": null,
   "id": "d5dad450-8f24-4020-a91b-5e5940a5449e",
   "metadata": {},
   "outputs": [],
   "source": []
  },
  {
   "cell_type": "code",
   "execution_count": null,
   "id": "40770d92-cd4a-4c9e-9129-012eb551ae82",
   "metadata": {},
   "outputs": [],
   "source": []
  },
  {
   "cell_type": "code",
   "execution_count": null,
   "id": "419ddb80-3cf2-4384-bc68-924ea1a1a2e6",
   "metadata": {},
   "outputs": [],
   "source": []
  },
  {
   "cell_type": "code",
   "execution_count": null,
   "id": "ae170bb1-71d4-4918-8d5b-7cb2f75969a4",
   "metadata": {},
   "outputs": [],
   "source": []
  }
 ],
 "metadata": {
  "kernelspec": {
   "display_name": "Python [conda env:New folder]",
   "language": "python",
   "name": "conda-env-New_folder-py"
  },
  "language_info": {
   "codemirror_mode": {
    "name": "ipython",
    "version": 3
   },
   "file_extension": ".py",
   "mimetype": "text/x-python",
   "name": "python",
   "nbconvert_exporter": "python",
   "pygments_lexer": "ipython3",
   "version": "3.12.7"
  }
 },
 "nbformat": 4,
 "nbformat_minor": 5
}
