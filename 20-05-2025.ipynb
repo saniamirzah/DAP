{
 "cells": [
  {
   "cell_type": "code",
   "execution_count": 7,
   "id": "0c2133b0-a78d-46a9-9918-b014cfffa64e",
   "metadata": {},
   "outputs": [],
   "source": [
    "class MyList:\n",
    "    def __init__(self):\n",
    "        self.items = []  # empty list\n",
    "\n",
    "    def append(self, item):\n",
    "        self.items.append(item)  # add an item\n",
    "\n",
    "    def remove(self, item):\n",
    "        if item in self.items:\n",
    "            self.items.remove(item)  # remove item\n",
    "        else:\n",
    "            print(f\"{item} not found in the list\")\n",
    "\n",
    "    def display(self):\n",
    "        \"\"\"method to display current list\"\"\"\n",
    "        print(self.items)\n",
    "\n",
    "    def size(self):\n",
    "        return len(self.items)  # return size of list\n"
   ]
  },
  {
   "cell_type": "code",
   "execution_count": 9,
   "id": "e65762fe-ebd1-41eb-a503-385359a40934",
   "metadata": {},
   "outputs": [],
   "source": [
    "l = MyList()"
   ]
  },
  {
   "cell_type": "code",
   "execution_count": 11,
   "id": "6475064c-61e3-4854-98d8-6fb35b7a03f5",
   "metadata": {},
   "outputs": [],
   "source": [
    "l.append(1)\n",
    "l.append(2)\n",
    "l.append(3)"
   ]
  },
  {
   "cell_type": "code",
   "execution_count": 13,
   "id": "8b9dd263-6e7b-479c-9a29-9f6ed35c8703",
   "metadata": {},
   "outputs": [
    {
     "name": "stdout",
     "output_type": "stream",
     "text": [
      "[1, 2, 3]\n"
     ]
    }
   ],
   "source": [
    "l.display()"
   ]
  },
  {
   "cell_type": "code",
   "execution_count": 15,
   "id": "b6aec262-87d0-4127-aa14-857eabb43055",
   "metadata": {},
   "outputs": [],
   "source": [
    "l.remove(2)"
   ]
  },
  {
   "cell_type": "code",
   "execution_count": 17,
   "id": "fe1028ee-c632-42f2-a48f-f9f72d3f19a8",
   "metadata": {},
   "outputs": [
    {
     "name": "stdout",
     "output_type": "stream",
     "text": [
      "[1, 3]\n"
     ]
    }
   ],
   "source": [
    "l.display()"
   ]
  },
  {
   "cell_type": "markdown",
   "id": "56777d23-0248-4202-9f76-4357d9524ff7",
   "metadata": {},
   "source": [
    "# Attribute and Methods"
   ]
  },
  {
   "cell_type": "code",
   "execution_count": 21,
   "id": "e1918370-086c-47aa-8cad-b282a7a0a7b2",
   "metadata": {},
   "outputs": [],
   "source": [
    "#module\n",
    "#library\n"
   ]
  },
  {
   "cell_type": "code",
   "execution_count": 25,
   "id": "28bd9c6b-a640-4888-8573-e6092a5a03d6",
   "metadata": {},
   "outputs": [],
   "source": [
    "class Car:\n",
    "    wheels = 4\n",
    "\n",
    "    def __init__(self, make, model):\n",
    "        self.make = make\n",
    "        self.model1 = model1\n",
    "\n",
    "    @classmethod\n",
    "    def set_wheels(cls, number):\n",
    "        cls.wheels = number\n",
    "\n",
    "    def car_info(self):\n",
    "        return f\"{self.make} {self.model1} has {Car.wheels} wheels.\""
   ]
  },
  {
   "cell_type": "markdown",
   "id": "ef9f65ac-fffa-4a3d-8bb4-88996956719d",
   "metadata": {},
   "source": [
    "# pillars of OOP \n",
    " ## 1 encapsulation\n",
    " ## 2 inheritance\n",
    " ## 3 polymorphism\n",
    " ## 4 abstaction"
   ]
  },
  {
   "cell_type": "code",
   "execution_count": 30,
   "id": "0e53d90c-863e-44aa-8222-f3aedaacb365",
   "metadata": {},
   "outputs": [
    {
     "name": "stdin",
     "output_type": "stream",
     "text": [
      "enter a number: mehak\n"
     ]
    },
    {
     "name": "stdout",
     "output_type": "stream",
     "text": [
      "oops that was not a valid number.\n"
     ]
    }
   ],
   "source": [
    "#example for basic try _ except\n",
    "\n",
    "try:\n",
    "    value = int(input(\"enter a number:\"))\n",
    "    print(\"you entered:\", value)\n",
    "\n",
    "except ValueError:\n",
    "    print(\"oops that was not a valid number.\")"
   ]
  },
  {
   "cell_type": "code",
   "execution_count": 34,
   "id": "55d66e2f-159d-48c4-8f4b-f616899541ac",
   "metadata": {},
   "outputs": [
    {
     "name": "stdin",
     "output_type": "stream",
     "text": [
      "enter a number  0\n"
     ]
    },
    {
     "name": "stdout",
     "output_type": "stream",
     "text": [
      "u cannot divide by 0\n"
     ]
    }
   ],
   "source": [
    "try:\n",
    "    x = int(input(\"enter a number \"))\n",
    "    result = 10/x \n",
    "    print(\"result is\", result)\n",
    "\n",
    "except ValueError:\n",
    "    print(\"that was not a number\")\n",
    "\n",
    "except ZeroDivisionError:\n",
    "    print(\"u cannot divide by 0\")\n",
    "    "
   ]
  },
  {
   "cell_type": "code",
   "execution_count": 38,
   "id": "82a8e1f5-cc86-4fde-9def-08c62d3d4e3f",
   "metadata": {},
   "outputs": [
    {
     "name": "stdout",
     "output_type": "stream",
     "text": [
      "result is  5.0\n",
      "this block runs anyways\n"
     ]
    }
   ],
   "source": [
    "try:\n",
    "    x = 10\n",
    "    y = 2\n",
    "    result = x/y\n",
    "\n",
    "except ZeroDivisionError:\n",
    "    print(\"Cannot divide by zero\")\n",
    "\n",
    "else:\n",
    "    print(\"result is \", result)\n",
    "\n",
    "finally:\n",
    "    print(\"this block runs anyways\")"
   ]
  },
  {
   "cell_type": "code",
   "execution_count": 40,
   "id": "913804c9-1a89-4c3a-a816-6a32831b7df8",
   "metadata": {},
   "outputs": [
    {
     "name": "stdout",
     "output_type": "stream",
     "text": [
      "Custom exception caught: Age cannot be negative\n"
     ]
    }
   ],
   "source": [
    "# custom exception for negative age\n",
    "\n",
    "class NegativeAgeError(Exception):\n",
    "    pass\n",
    "\n",
    "def validate_age(age):\n",
    "    if age < 0:\n",
    "        raise NegativeAgeError(\"Age cannot be negative\")\n",
    "    else:\n",
    "        print(\"Valid age\",age)\n",
    "\n",
    "try:\n",
    "    validate_age(-60)\n",
    "\n",
    "except NegativeAgeError as e:\n",
    "    print(\"Custom exception caught:\", e)"
   ]
  },
  {
   "cell_type": "code",
   "execution_count": 44,
   "id": "3c4c4b39-b3b6-4d45-b273-46c2d075998a",
   "metadata": {},
   "outputs": [
    {
     "name": "stdin",
     "output_type": "stream",
     "text": [
      "enter amount to withdraw: 34\n"
     ]
    },
    {
     "name": "stdout",
     "output_type": "stream",
     "text": [
      "withdawal succesfully ! remaining balance :966\n"
     ]
    }
   ],
   "source": [
    "class InsufficientFundsError(Exception):\n",
    "    pass\n",
    "\n",
    "balance = 1000\n",
    "\n",
    "try:\n",
    "    amount = int(input(\"enter amount to withdraw:\"))\n",
    "\n",
    "    if amount> balance:\n",
    "        raise InsufficientFundsError(\"you don't have engough money\")\n",
    "\n",
    "    balance -= amount\n",
    "    print(f\"withdawal succesfully ! remaining balance :{balance}\")\n",
    "\n",
    "except InsufficientFundsError as e:\n",
    "    print(\"Custom Error :\", e)\n",
    "\n",
    "except ValueError:\n",
    "    print(\"Please enter a valid number\")\n",
    "    "
   ]
  },
  {
   "cell_type": "code",
   "execution_count": null,
   "id": "c18d4f86-b482-4dae-af5c-ec4506fb70de",
   "metadata": {},
   "outputs": [],
   "source": []
  }
 ],
 "metadata": {
  "kernelspec": {
   "display_name": "Python [conda env:base] *",
   "language": "python",
   "name": "conda-base-py"
  },
  "language_info": {
   "codemirror_mode": {
    "name": "ipython",
    "version": 3
   },
   "file_extension": ".py",
   "mimetype": "text/x-python",
   "name": "python",
   "nbconvert_exporter": "python",
   "pygments_lexer": "ipython3",
   "version": "3.12.7"
  }
 },
 "nbformat": 4,
 "nbformat_minor": 5
}
