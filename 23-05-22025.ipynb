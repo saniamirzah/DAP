{
 "cells": [
  {
   "cell_type": "code",
   "execution_count": 1,
   "id": "f540ea44-8854-438a-8e73-cd6dde9ee8e2",
   "metadata": {},
   "outputs": [],
   "source": [
    "import numpy as np"
   ]
  },
  {
   "cell_type": "code",
   "execution_count": 3,
   "id": "c4bc0d75-4baa-4610-b2e9-5dcb204c41f6",
   "metadata": {},
   "outputs": [
    {
     "name": "stdout",
     "output_type": "stream",
     "text": [
      " Uniform distribution \n",
      "  [[0.87139383 0.38876674 0.56023299]\n",
      " [0.26062167 0.72009309 0.22413388]\n",
      " [0.93770571 0.60265386 0.45818139]]\n"
     ]
    }
   ],
   "source": [
    "#uniform distribution\n",
    "uniform = np.random.rand(3,3)\n",
    "print(\" Uniform distribution \\n \", uniform)"
   ]
  },
  {
   "cell_type": "code",
   "execution_count": 7,
   "id": "437b6523-9557-44f5-a370-86069d9b752c",
   "metadata": {},
   "outputs": [
    {
     "data": {
      "text/plain": [
       "(array([3, 4], dtype=int64),)"
      ]
     },
     "execution_count": 7,
     "metadata": {},
     "output_type": "execute_result"
    }
   ],
   "source": [
    "#searching in arrays \n",
    "\n",
    "arr = np.array([1,2,3,4,5])\n",
    "np.where(arr>3)"
   ]
  },
  {
   "cell_type": "code",
   "execution_count": 9,
   "id": "140b8e84-c2e0-4da5-b65f-43ac3259d6ce",
   "metadata": {},
   "outputs": [
    {
     "data": {
      "text/plain": [
       "(array([0], dtype=int64),)"
      ]
     },
     "execution_count": 9,
     "metadata": {},
     "output_type": "execute_result"
    }
   ],
   "source": [
    "np.where(arr<2)"
   ]
  },
  {
   "cell_type": "code",
   "execution_count": 11,
   "id": "549ff835-0850-4699-a1d5-6e57dbe30d58",
   "metadata": {},
   "outputs": [
    {
     "name": "stdout",
     "output_type": "stream",
     "text": [
      "where > 3: (array([3, 4], dtype=int64),)\n"
     ]
    }
   ],
   "source": [
    "print(\"where > 3:\", np.where(arr>3))\n"
   ]
  },
  {
   "cell_type": "markdown",
   "id": "9e7b912e-075e-4810-99f7-55630cc8ceeb",
   "metadata": {},
   "source": [
    "### np.argmax() / np.argmin()"
   ]
  },
  {
   "cell_type": "code",
   "execution_count": 17,
   "id": "3ab7221e-7f6e-4409-b7e8-34a5e6850d64",
   "metadata": {},
   "outputs": [],
   "source": [
    "arr = np.array([1,2,3,4,5])"
   ]
  },
  {
   "cell_type": "code",
   "execution_count": 19,
   "id": "01a708ad-3d1f-4a97-9f3d-84b9ea61f777",
   "metadata": {},
   "outputs": [
    {
     "data": {
      "text/plain": [
       "4"
      ]
     },
     "execution_count": 19,
     "metadata": {},
     "output_type": "execute_result"
    }
   ],
   "source": [
    "np.argmax(arr)"
   ]
  },
  {
   "cell_type": "code",
   "execution_count": 21,
   "id": "efbaabe8-4998-4329-babc-0b7992745824",
   "metadata": {},
   "outputs": [
    {
     "data": {
      "text/plain": [
       "0"
      ]
     },
     "execution_count": 21,
     "metadata": {},
     "output_type": "execute_result"
    }
   ],
   "source": [
    "np.argmin(arr)"
   ]
  },
  {
   "cell_type": "markdown",
   "id": "3427ec37-1aec-4dca-87ca-af10ba4e314b",
   "metadata": {},
   "source": [
    "### np.searchsorted()"
   ]
  },
  {
   "cell_type": "code",
   "execution_count": 30,
   "id": "3d1cabca-7b88-4927-80ae-93ed9dc993d1",
   "metadata": {},
   "outputs": [],
   "source": [
    "sorted_arr = np.array([1,3,5, 7])"
   ]
  },
  {
   "cell_type": "code",
   "execution_count": 32,
   "id": "6f326646-71e3-472f-bf01-8450417da472",
   "metadata": {},
   "outputs": [
    {
     "data": {
      "text/plain": [
       "3"
      ]
     },
     "execution_count": 32,
     "metadata": {},
     "output_type": "execute_result"
    }
   ],
   "source": [
    "np.searchsorted(sorted_arr,6)"
   ]
  },
  {
   "cell_type": "code",
   "execution_count": 34,
   "id": "94047ccf-c629-41a1-971b-d7996d5f8deb",
   "metadata": {},
   "outputs": [
    {
     "data": {
      "text/plain": [
       "4"
      ]
     },
     "execution_count": 34,
     "metadata": {},
     "output_type": "execute_result"
    }
   ],
   "source": [
    "np.searchsorted(sorted_arr,100)"
   ]
  },
  {
   "cell_type": "code",
   "execution_count": 38,
   "id": "57e0ba18-43ba-4658-95d4-4bd35f80038d",
   "metadata": {},
   "outputs": [
    {
     "name": "stdout",
     "output_type": "stream",
     "text": [
      "Insert 6 at index  3\n"
     ]
    }
   ],
   "source": [
    "print(\"Insert 6 at index \", np.searchsorted(sorted_arr,6))"
   ]
  },
  {
   "cell_type": "markdown",
   "id": "f8e0c5eb-762c-41a2-9cca-25df074fee5c",
   "metadata": {},
   "source": [
    "### np.extact()"
   ]
  },
  {
   "cell_type": "code",
   "execution_count": 41,
   "id": "ae1ef115-254b-4982-9453-a3b4ca6d2aa6",
   "metadata": {},
   "outputs": [],
   "source": [
    "arr = np.array([1,2,3,4,5])"
   ]
  },
  {
   "cell_type": "code",
   "execution_count": 47,
   "id": "d682fc3e-e3c7-43b5-bdfd-492413315572",
   "metadata": {},
   "outputs": [
    {
     "data": {
      "text/plain": [
       "array([4, 5])"
      ]
     },
     "execution_count": 47,
     "metadata": {},
     "output_type": "execute_result"
    }
   ],
   "source": [
    "np.extract(arr>3, arr)"
   ]
  },
  {
   "cell_type": "code",
   "execution_count": 49,
   "id": "77a82d5c-deaf-446a-ba4f-d99df59e7239",
   "metadata": {},
   "outputs": [
    {
     "name": "stdout",
     "output_type": "stream",
     "text": [
      "extact > 3: [4 5]\n"
     ]
    }
   ],
   "source": [
    "print(\"extact > 3:\", np.extract(arr>3, arr))"
   ]
  },
  {
   "cell_type": "markdown",
   "id": "adb05eef-b697-47b5-93ab-8a335832beb9",
   "metadata": {},
   "source": [
    "### transposing array"
   ]
  },
  {
   "cell_type": "code",
   "execution_count": 54,
   "id": "9bab2b11-7145-47c2-901d-861a8b733d0b",
   "metadata": {},
   "outputs": [],
   "source": [
    "matrix = np.array([[1,2,3],\n",
    "                  [4,5,6]])"
   ]
  },
  {
   "cell_type": "code",
   "execution_count": 56,
   "id": "4ef320ba-11c3-4f4b-bbaf-0766bec219d2",
   "metadata": {},
   "outputs": [
    {
     "name": "stdout",
     "output_type": "stream",
     "text": [
      " Transposed  [[1 4]\n",
      " [2 5]\n",
      " [3 6]]\n"
     ]
    }
   ],
   "source": [
    "# same as yesterday class \n",
    "\n",
    "\n",
    "\n",
    "print (\" Transposed \", np.transpose(matrix))\n",
    "\n"
   ]
  },
  {
   "cell_type": "markdown",
   "id": "82556c25-c714-4f6c-9aa6-bc391b640db6",
   "metadata": {},
   "source": [
    "### mean calculation "
   ]
  },
  {
   "cell_type": "code",
   "execution_count": 59,
   "id": "1c3eaa2f-283f-46e9-8df5-26dfc8b4a4a0",
   "metadata": {},
   "outputs": [],
   "source": [
    "arr = np.array([1,2,3,4,5])"
   ]
  },
  {
   "cell_type": "code",
   "execution_count": 61,
   "id": "979308eb-6a40-47f4-9374-40524f2c9818",
   "metadata": {},
   "outputs": [
    {
     "name": "stdout",
     "output_type": "stream",
     "text": [
      " mean value : 3.0\n"
     ]
    }
   ],
   "source": [
    "print(\" mean value :\", np.mean(arr))"
   ]
  },
  {
   "cell_type": "code",
   "execution_count": 63,
   "id": "d33cd413-ccf4-408d-9891-a0ed50012e3c",
   "metadata": {},
   "outputs": [
    {
     "data": {
      "text/plain": [
       "3.0"
      ]
     },
     "execution_count": 63,
     "metadata": {},
     "output_type": "execute_result"
    }
   ],
   "source": [
    "np.mean(arr)"
   ]
  },
  {
   "cell_type": "markdown",
   "id": "704ba771-3ae8-4913-9c6a-20947a099d02",
   "metadata": {},
   "source": [
    "### splitting arrays"
   ]
  },
  {
   "cell_type": "code",
   "execution_count": 66,
   "id": "1437ddbf-bc4a-4a42-a3e0-042d7e36bef7",
   "metadata": {},
   "outputs": [
    {
     "data": {
      "text/plain": [
       "[array([1, 2]), array([3, 4]), array([5, 6])]"
      ]
     },
     "execution_count": 66,
     "metadata": {},
     "output_type": "execute_result"
    }
   ],
   "source": [
    "#equal part split \n",
    "arr = np.array([1,2,3,4,5,6])\n",
    "\n",
    "np.split(arr, 3)"
   ]
  },
  {
   "cell_type": "code",
   "execution_count": 70,
   "id": "a860953f-b900-472b-aabf-fdf1476b3d80",
   "metadata": {},
   "outputs": [
    {
     "name": "stdout",
     "output_type": "stream",
     "text": [
      "split at indies : [array([1, 2]), array([3]), array([4, 5, 6])]\n"
     ]
    }
   ],
   "source": [
    "#split specific positions\n",
    "print (\"split at indies :\", np.split(arr, [2,3]))"
   ]
  },
  {
   "cell_type": "code",
   "execution_count": 74,
   "id": "ffa10b6f-0429-4eab-9273-5ad6b794d143",
   "metadata": {},
   "outputs": [
    {
     "data": {
      "text/plain": [
       "[array([[1],\n",
       "        [4]]),\n",
       " array([[2],\n",
       "        [5]]),\n",
       " array([[3],\n",
       "        [6]])]"
      ]
     },
     "execution_count": 74,
     "metadata": {},
     "output_type": "execute_result"
    }
   ],
   "source": [
    "#split matrix,3,axis=1\n",
    "\n",
    "np.split(matrix, 3, axis=1)"
   ]
  },
  {
   "cell_type": "code",
   "execution_count": 76,
   "id": "fbfd921e-9c61-4b44-92dd-d2cb1b0a5cd0",
   "metadata": {},
   "outputs": [
    {
     "data": {
      "text/plain": [
       "[array([[1, 2, 3]]), array([[4, 5, 6]])]"
      ]
     },
     "execution_count": 76,
     "metadata": {},
     "output_type": "execute_result"
    }
   ],
   "source": [
    "#split matrix,2,axis=0\n",
    "\n",
    "np.split(matrix, 2, axis=0)"
   ]
  },
  {
   "cell_type": "markdown",
   "id": "c1350ecc-1748-4ec1-8a15-ac526daed2fb",
   "metadata": {},
   "source": [
    "### sorting arrays"
   ]
  },
  {
   "cell_type": "code",
   "execution_count": 79,
   "id": "f87112a4-ccfd-4e82-873b-72a691f994d3",
   "metadata": {},
   "outputs": [],
   "source": [
    "arr = np.array([3,5,1,4,2])"
   ]
  },
  {
   "cell_type": "code",
   "execution_count": 81,
   "id": "f58eb684-8f9c-4073-99fa-c060273429b4",
   "metadata": {},
   "outputs": [
    {
     "data": {
      "text/plain": [
       "array([1, 2, 3, 4, 5])"
      ]
     },
     "execution_count": 81,
     "metadata": {},
     "output_type": "execute_result"
    }
   ],
   "source": [
    "np.sort(arr)"
   ]
  },
  {
   "cell_type": "code",
   "execution_count": 83,
   "id": "62cbe607-f479-4ae1-994b-240ebf797058",
   "metadata": {},
   "outputs": [],
   "source": [
    "arr.sort()"
   ]
  },
  {
   "cell_type": "code",
   "execution_count": 85,
   "id": "e344f055-ac84-4010-abcd-382ebcf44ed3",
   "metadata": {},
   "outputs": [
    {
     "data": {
      "text/plain": [
       "array([1, 2, 3, 4, 5])"
      ]
     },
     "execution_count": 85,
     "metadata": {},
     "output_type": "execute_result"
    }
   ],
   "source": [
    "arr"
   ]
  },
  {
   "cell_type": "code",
   "execution_count": 97,
   "id": "76ee318a-c1d8-4c3b-bd23-f8c09378d26d",
   "metadata": {},
   "outputs": [
    {
     "data": {
      "text/plain": [
       "array([[1, 2, 3],\n",
       "       [4, 5, 6]])"
      ]
     },
     "execution_count": 97,
     "metadata": {},
     "output_type": "execute_result"
    }
   ],
   "source": [
    "np.sort(matrix,axis=1) #rows"
   ]
  },
  {
   "cell_type": "code",
   "execution_count": 99,
   "id": "63d03197-98ae-42cf-8372-77fd73b4a002",
   "metadata": {},
   "outputs": [
    {
     "data": {
      "text/plain": [
       "array([[1, 2, 3],\n",
       "       [4, 5, 6]])"
      ]
     },
     "execution_count": 99,
     "metadata": {},
     "output_type": "execute_result"
    }
   ],
   "source": [
    "np.sort(matrix,axis=0) #coloum"
   ]
  },
  {
   "cell_type": "code",
   "execution_count": null,
   "id": "17888388-dc28-4a08-bbad-0c254dc27050",
   "metadata": {},
   "outputs": [],
   "source": []
  }
 ],
 "metadata": {
  "kernelspec": {
   "display_name": "Python [conda env:base] *",
   "language": "python",
   "name": "conda-base-py"
  },
  "language_info": {
   "codemirror_mode": {
    "name": "ipython",
    "version": 3
   },
   "file_extension": ".py",
   "mimetype": "text/x-python",
   "name": "python",
   "nbconvert_exporter": "python",
   "pygments_lexer": "ipython3",
   "version": "3.12.7"
  }
 },
 "nbformat": 4,
 "nbformat_minor": 5
}
