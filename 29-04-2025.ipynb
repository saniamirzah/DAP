{
 "cells": [
  {
   "cell_type": "code",
   "execution_count": 5,
   "id": "5fc5daa0-a7ea-4b9d-b356-b7109f06c937",
   "metadata": {},
   "outputs": [
    {
     "name": "stdout",
     "output_type": "stream",
     "text": [
      "has the student passed? True\n"
     ]
    }
   ],
   "source": [
    "score = 75\n",
    "has_passed = (score>=60)\n",
    "print(\"has the student passed?\",has_passed)"
   ]
  },
  {
   "cell_type": "code",
   "execution_count": 7,
   "id": "420123fd-44d3-4d10-adad-80c4022a39e3",
   "metadata": {},
   "outputs": [
    {
     "data": {
      "text/plain": [
       "True"
      ]
     },
     "execution_count": 7,
     "metadata": {},
     "output_type": "execute_result"
    }
   ],
   "source": [
    "(score>=60)"
   ]
  },
  {
   "cell_type": "code",
   "execution_count": 15,
   "id": "0bae8e92-bd08-4a10-bdab-584beba36b45",
   "metadata": {},
   "outputs": [
    {
     "name": "stdout",
     "output_type": "stream",
     "text": [
      "True\n"
     ]
    }
   ],
   "source": [
    "#senario2 u have to item priced $40,$50 check if item 1 is less than item2\n",
    "first_item = 40\n",
    "second_item = 50\n",
    "check = (first_item<= second_item)\n",
    "print(check)"
   ]
  },
  {
   "cell_type": "markdown",
   "id": "fe5d7d62-70bd-497a-a93d-965d4c62146e",
   "metadata": {},
   "source": [
    "# logicaloperators"
   ]
  },
  {
   "cell_type": "code",
   "execution_count": null,
   "id": "39f5b517-a40b-4a49-bfc4-e20b31bcf1cb",
   "metadata": {},
   "outputs": [],
   "source": [
    "* And operator\n",
    "* or operatpor\n",
    "* not operator"
   ]
  },
  {
   "cell_type": "code",
   "execution_count": 17,
   "id": "d8f9094b-e5a0-42cb-8b23-e2ceb8a5a2d0",
   "metadata": {},
   "outputs": [
    {
     "data": {
      "text/plain": [
       "False"
      ]
     },
     "execution_count": 17,
     "metadata": {},
     "output_type": "execute_result"
    }
   ],
   "source": [
    "#example\n",
    "3>2 and 3<2"
   ]
  },
  {
   "cell_type": "code",
   "execution_count": 19,
   "id": "fb57e91b-42fa-4437-9d5a-0f06c0f36057",
   "metadata": {},
   "outputs": [
    {
     "data": {
      "text/plain": [
       "False"
      ]
     },
     "execution_count": 19,
     "metadata": {},
     "output_type": "execute_result"
    }
   ],
   "source": [
    "#ex\n",
    "3>2 and 4>5"
   ]
  },
  {
   "cell_type": "code",
   "execution_count": 21,
   "id": "dd214965-43ff-4792-ab1f-c90cad1936bc",
   "metadata": {},
   "outputs": [
    {
     "data": {
      "text/plain": [
       "False"
      ]
     },
     "execution_count": 21,
     "metadata": {},
     "output_type": "execute_result"
    }
   ],
   "source": [
    "2<2 and 3<3"
   ]
  },
  {
   "cell_type": "code",
   "execution_count": 25,
   "id": "c7d3adda-288d-4aba-8915-8217803fbfa4",
   "metadata": {},
   "outputs": [
    {
     "data": {
      "text/plain": [
       "False"
      ]
     },
     "execution_count": 25,
     "metadata": {},
     "output_type": "execute_result"
    }
   ],
   "source": [
    "5>10 and 11<10\n",
    "True and False #it should be in cap"
   ]
  },
  {
   "cell_type": "markdown",
   "id": "9e1e3004-c69e-4e99-84d9-b680360a55a7",
   "metadata": {},
   "source": [
    "# bitwise operator"
   ]
  },
  {
   "cell_type": "code",
   "execution_count": null,
   "id": "449a9131-d4bb-4c58-9d44-250c0a302f88",
   "metadata": {},
   "outputs": [],
   "source": [
    "a computer converts into bits using binary encoding where each piece of data is represented as a combination of these two binary digits"
   ]
  },
  {
   "cell_type": "code",
   "execution_count": null,
   "id": "a8904dab-2fdb-4197-8062-40a1b950f599",
   "metadata": {},
   "outputs": [],
   "source": [
    "ex: 1 = 1000"
   ]
  },
  {
   "cell_type": "code",
   "execution_count": null,
   "id": "67c66e7c-904c-493c-a970-f83e2dd81212",
   "metadata": {},
   "outputs": [],
   "source": [
    "TYPES OF BITWISE OPERATOR\n",
    "> AND(&)\n"
   ]
  },
  {
   "cell_type": "code",
   "execution_count": 28,
   "id": "8c5797a3-118b-46ea-9443-defb1a12e12b",
   "metadata": {},
   "outputs": [
    {
     "name": "stdout",
     "output_type": "stream",
     "text": [
      "1\n"
     ]
    }
   ],
   "source": [
    "# example\n",
    "a = 5 #binary: 0101\n",
    "b = 3 #binary:0011\n",
    "result = a &b\n",
    "print(result)"
   ]
  },
  {
   "cell_type": "code",
   "execution_count": null,
   "id": "1a990c30-8a22-4e3f-9ceb-2989c0912cd5",
   "metadata": {},
   "outputs": [],
   "source": [
    ">or operator(|)"
   ]
  },
  {
   "cell_type": "code",
   "execution_count": null,
   "id": "01baed61-2c1f-4a5e-ae66-f5eeacc19dc3",
   "metadata": {},
   "outputs": [],
   "source": [
    ">not operator(~)"
   ]
  },
  {
   "cell_type": "markdown",
   "id": "75df0429-6cea-45de-90b3-b96b46ff4026",
   "metadata": {},
   "source": [
    "# membership operator"
   ]
  },
  {
   "cell_type": "code",
   "execution_count": null,
   "id": "a8d027b2-d2de-458e-b228-8d6737473e84",
   "metadata": {},
   "outputs": [],
   "source": [
    "are used to test whether a value or variable exists within a sequence or a variable"
   ]
  },
  {
   "cell_type": "code",
   "execution_count": null,
   "id": "ebd9450f-7250-4155-a0c4-f7ea0ecc7329",
   "metadata": {},
   "outputs": [],
   "source": [
    "> in operator : check if specific value is  present in a sequence"
   ]
  },
  {
   "cell_type": "code",
   "execution_count": 31,
   "id": "e6e5f4b0-1414-4b90-8865-2c9c5902d2b3",
   "metadata": {},
   "outputs": [
    {
     "name": "stdout",
     "output_type": "stream",
     "text": [
      "True\n"
     ]
    }
   ],
   "source": [
    "# example \n",
    "my_list = [1,2,3,4,5]\n",
    "print(3 in my_list)"
   ]
  },
  {
   "cell_type": "code",
   "execution_count": 33,
   "id": "51aef862-92cc-48a9-972e-c4fe5ecaf37a",
   "metadata": {},
   "outputs": [
    {
     "name": "stdout",
     "output_type": "stream",
     "text": [
      "False\n"
     ]
    }
   ],
   "source": [
    "print(6 in my_list)"
   ]
  },
  {
   "cell_type": "code",
   "execution_count": null,
   "id": "94812257-56c0-4b9b-8d06-26cfefb1c33d",
   "metadata": {},
   "outputs": [],
   "source": [
    ">not operator: check if specific value is not present in a sequence"
   ]
  },
  {
   "cell_type": "code",
   "execution_count": 35,
   "id": "f9b1ad97-8ab3-4d9c-8a6f-3f5ae6f86406",
   "metadata": {},
   "outputs": [
    {
     "name": "stdout",
     "output_type": "stream",
     "text": [
      "True\n"
     ]
    }
   ],
   "source": [
    "# example\n",
    "my_list = [1,2,3,4,5]\n",
    "print(10 not in my_list)"
   ]
  },
  {
   "cell_type": "code",
   "execution_count": 37,
   "id": "6bf86b0a-9b71-4d3b-9236-8d06856341a7",
   "metadata": {},
   "outputs": [
    {
     "name": "stdout",
     "output_type": "stream",
     "text": [
      "True\n"
     ]
    }
   ],
   "source": [
    "fruits= [\"apple\", \"mango\", \"grapes\"]\n",
    "print(\"apple\" in fruits) # use of in"
   ]
  },
  {
   "cell_type": "code",
   "execution_count": 39,
   "id": "300d7a3f-f23c-49a8-ac01-a7ce38fc7bd8",
   "metadata": {},
   "outputs": [
    {
     "name": "stdout",
     "output_type": "stream",
     "text": [
      "True\n"
     ]
    }
   ],
   "source": [
    "print(\"pinapple\" not in fruits) #use of not in"
   ]
  },
  {
   "cell_type": "code",
   "execution_count": 41,
   "id": "1db7a217-1c4c-433e-9771-2c614da2f62e",
   "metadata": {},
   "outputs": [
    {
     "name": "stdout",
     "output_type": "stream",
     "text": [
      "False\n"
     ]
    }
   ],
   "source": [
    "print(\"guava\" in fruits) # use of in"
   ]
  },
  {
   "cell_type": "code",
   "execution_count": 43,
   "id": "3de21a2b-c5cc-4313-9f94-80e5bf1fce09",
   "metadata": {},
   "outputs": [
    {
     "name": "stdout",
     "output_type": "stream",
     "text": [
      "False\n"
     ]
    }
   ],
   "source": [
    "print(\"apple\" not in fruits) #use of not in"
   ]
  },
  {
   "cell_type": "code",
   "execution_count": 45,
   "id": "0ba47054-5b73-4a7d-9913-cd37ab62547b",
   "metadata": {},
   "outputs": [
    {
     "name": "stdout",
     "output_type": "stream",
     "text": [
      "True\n"
     ]
    }
   ],
   "source": [
    "#using string\n",
    "message = (\" i love programming language\")\n",
    "print(\"love\" in message)"
   ]
  },
  {
   "cell_type": "code",
   "execution_count": 47,
   "id": "c61d39cd-b107-4abc-8dd2-23e7becf7897",
   "metadata": {},
   "outputs": [
    {
     "name": "stdout",
     "output_type": "stream",
     "text": [
      "True\n"
     ]
    }
   ],
   "source": [
    "print(\"java\" not in message)"
   ]
  },
  {
   "cell_type": "code",
   "execution_count": 49,
   "id": "f4e9e080-3ea5-4476-adf7-1338dbd0dd9b",
   "metadata": {},
   "outputs": [
    {
     "name": "stdout",
     "output_type": "stream",
     "text": [
      "True\n"
     ]
    }
   ],
   "source": [
    "#using dictionary\n",
    "person = {\"name\": \"sania\" , \"age\":21, \"city\":\"bangalore\"}\n",
    "print(\"name\" in person)"
   ]
  },
  {
   "cell_type": "code",
   "execution_count": 51,
   "id": "a2cfee71-fdcb-4001-adb1-20dd7a830291",
   "metadata": {},
   "outputs": [
    {
     "name": "stdout",
     "output_type": "stream",
     "text": [
      "True\n"
     ]
    }
   ],
   "source": [
    "print(22 not in person)"
   ]
  },
  {
   "cell_type": "code",
   "execution_count": 55,
   "id": "c686f449-83c7-49a5-afdc-3bd3d75928bf",
   "metadata": {},
   "outputs": [
    {
     "name": "stdout",
     "output_type": "stream",
     "text": [
      "False\n"
     ]
    }
   ],
   "source": [
    "print(\"sania\" in person)"
   ]
  },
  {
   "cell_type": "markdown",
   "id": "489c9a45-8d46-4bbf-8c45-ac8e75c75eed",
   "metadata": {},
   "source": [
    "# statements in python"
   ]
  },
  {
   "cell_type": "code",
   "execution_count": null,
   "id": "26ca2863-f022-4000-8d7e-5a5ecbe690bb",
   "metadata": {},
   "outputs": [],
   "source": [
    "> if condition"
   ]
  },
  {
   "cell_type": "code",
   "execution_count": 60,
   "id": "437b2d81-3386-4676-87c3-18fd7d39d474",
   "metadata": {},
   "outputs": [
    {
     "data": {
      "text/plain": [
       "True"
      ]
     },
     "execution_count": 60,
     "metadata": {},
     "output_type": "execute_result"
    }
   ],
   "source": [
    "# example\n",
    "a =[1,2,3]\n",
    "1 in a"
   ]
  },
  {
   "cell_type": "code",
   "execution_count": 70,
   "id": "80b17bd2-ddf6-450a-b399-ead23003d98a",
   "metadata": {},
   "outputs": [
    {
     "name": "stdout",
     "output_type": "stream",
     "text": [
      " i  got it\n",
      "this will be printed\n"
     ]
    }
   ],
   "source": [
    "# ex\n",
    "if 1 in a:\n",
    "    print(\" i  got it\")\n",
    "print(\"this will be printed\")"
   ]
  },
  {
   "cell_type": "code",
   "execution_count": 72,
   "id": "ec85df74-855a-4e65-8ad0-ed623eb88136",
   "metadata": {},
   "outputs": [
    {
     "name": "stdout",
     "output_type": "stream",
     "text": [
      "this will be printed\n"
     ]
    }
   ],
   "source": [
    "# ex\n",
    "if 10 in a:\n",
    "    print(\" i  got it\")\n",
    "print(\"this will be printed\")"
   ]
  },
  {
   "cell_type": "code",
   "execution_count": 90,
   "id": "83576e48-426f-4fbc-82fb-c2153e1d89bd",
   "metadata": {},
   "outputs": [
    {
     "name": "stdout",
     "output_type": "stream",
     "text": [
      "ur eligible to vote\n",
      "this will be printed any how\n"
     ]
    }
   ],
   "source": [
    "# ex\n",
    "age = 20\n",
    "if age >= 19:\n",
    "    print(\"ur eligible to vote\")\n",
    "\n",
    "    print(\"this will be printed any how\")"
   ]
  },
  {
   "cell_type": "code",
   "execution_count": 96,
   "id": "29f9d90f-7e0a-4bd5-80c8-3f4cc5baaadb",
   "metadata": {},
   "outputs": [
    {
     "name": "stdout",
     "output_type": "stream",
     "text": [
      "greater\n"
     ]
    }
   ],
   "source": [
    "# ex\n",
    "if 5>2:\n",
    "    print(\"greater\")\n"
   ]
  },
  {
   "cell_type": "code",
   "execution_count": 112,
   "id": "ab0e8a21-7064-48fb-9bbc-0bad10a58c40",
   "metadata": {},
   "outputs": [
    {
     "name": "stdout",
     "output_type": "stream",
     "text": [
      " smaller\n"
     ]
    }
   ],
   "source": [
    "if 5<2:\n",
    "    print(\"greater\")\n",
    "print(\" smaller\")"
   ]
  },
  {
   "cell_type": "code",
   "execution_count": 118,
   "id": "308c9f03-7d34-4cd5-87ae-272864999a7b",
   "metadata": {},
   "outputs": [],
   "source": [
    "if 5>2 and 7<3:\n",
    "    print(\"if statement with logical operator\")\n",
    "    print(\"statement 2\")"
   ]
  },
  {
   "cell_type": "code",
   "execution_count": null,
   "id": "07e274ca-d9c9-4a76-93c5-d61abd810413",
   "metadata": {},
   "outputs": [],
   "source": [
    "> if else statement"
   ]
  },
  {
   "cell_type": "code",
   "execution_count": 120,
   "id": "b9ff1e3e-e814-468b-8f45-884bba0a3f0f",
   "metadata": {},
   "outputs": [
    {
     "name": "stdout",
     "output_type": "stream",
     "text": [
      "it is normal temperature\n"
     ]
    }
   ],
   "source": [
    "temperature = 30\n",
    "if temperature > 30:\n",
    "    print(\"it is a hot day\")\n",
    "else:\n",
    "    print(\"it is normal temperature\")"
   ]
  },
  {
   "cell_type": "code",
   "execution_count": 134,
   "id": "5e14b908-9394-4b4d-88ef-5e6f3c718bee",
   "metadata": {},
   "outputs": [
    {
     "name": "stdout",
     "output_type": "stream",
     "text": [
      "it is odd\n"
     ]
    }
   ],
   "source": [
    "num = 22\n",
    "if num%2 == 0:\n",
    "    print(\"it is odd\")\n",
    "else:\n",
    "    print(\"it is even\")\n"
   ]
  },
  {
   "cell_type": "code",
   "execution_count": 138,
   "id": "3ccec440-9560-46ab-8c4d-a138fc076cce",
   "metadata": {},
   "outputs": [
    {
     "name": "stdout",
     "output_type": "stream",
     "text": [
      "it is even\n"
     ]
    }
   ],
   "source": [
    "num = 21\n",
    "if (num%2 == 0):\n",
    "    print(\"it is odd\")\n",
    "else:\n",
    "    print(\"it is even\")\n"
   ]
  },
  {
   "cell_type": "code",
   "execution_count": null,
   "id": "2b8d2a83-ba17-48b2-85c7-5e70a01997cb",
   "metadata": {},
   "outputs": [],
   "source": [
    ">elif statement : we can check multiple conditions"
   ]
  },
  {
   "cell_type": "code",
   "execution_count": 140,
   "id": "752ddfb0-6a5c-4200-a1d1-60cd1d5f4d98",
   "metadata": {},
   "outputs": [
    {
     "name": "stdout",
     "output_type": "stream",
     "text": [
      "grade : D\n"
     ]
    }
   ],
   "source": [
    "marks = 60\n",
    "if marks>=90:\n",
    "    print(\"grade: A\")\n",
    "elif marks>=80:\n",
    "    print(\"grade:b\")\n",
    "elif marks>=70:\n",
    "    print(\"grade:C\")\n",
    "elif marks>=60:\n",
    "    print(\"grade : D\")\n",
    "else:\n",
    "    print(\"grade : E\")"
   ]
  },
  {
   "cell_type": "code",
   "execution_count": null,
   "id": "f166b9eb-2d73-442e-a81a-e0cd39b041fa",
   "metadata": {},
   "outputs": [],
   "source": [
    "> multiple if statements"
   ]
  },
  {
   "cell_type": "code",
   "execution_count": 150,
   "id": "f5fcc601-90ed-4984-acab-842b6277e82e",
   "metadata": {},
   "outputs": [
    {
     "name": "stdout",
     "output_type": "stream",
     "text": [
      "grade : D\n"
     ]
    }
   ],
   "source": [
    "marks = 25\n",
    "\n",
    "if marks>=60:\n",
    "    print(\"grade: A\")\n",
    "if marks>=80:\n",
    "    print(\"grade:b\")\n",
    "if marks>=70:\n",
    "    print(\"grade:C\")\n",
    "else:\n",
    "    print(\"grade : D\")"
   ]
  },
  {
   "cell_type": "code",
   "execution_count": null,
   "id": "44642cb5-9dba-4444-86a9-3311e89a4fc9",
   "metadata": {},
   "outputs": [],
   "source": [
    "> NESTED IF"
   ]
  },
  {
   "cell_type": "code",
   "execution_count": 162,
   "id": "00453d33-f2f2-4a32-9d3b-a3961cb70107",
   "metadata": {},
   "outputs": [
    {
     "name": "stdout",
     "output_type": "stream",
     "text": [
      "number is positive\n",
      "num is odd\n"
     ]
    }
   ],
   "source": [
    "num=1\n",
    "if num>0:\n",
    "    print(\"number is positive\")\n",
    "    if num%2==0:\n",
    "        print(\"num is even\")\n",
    "    else:\n",
    "        print(\"num is odd\")"
   ]
  },
  {
   "cell_type": "code",
   "execution_count": 165,
   "id": "fbbe5e3b-b83a-4a92-ab11-c64946459307",
   "metadata": {},
   "outputs": [
    {
     "name": "stdout",
     "output_type": "stream",
     "text": [
      "number is positive\n",
      "num is even\n"
     ]
    }
   ],
   "source": [
    "num=12\n",
    "if num>0:\n",
    "    print(\"number is positive\")\n",
    "    if num%2==0:\n",
    "        print(\"num is even\")\n",
    "    else:\n",
    "        print(\"num is odd\")"
   ]
  },
  {
   "cell_type": "code",
   "execution_count": null,
   "id": "e141761a-7aca-4ac6-84fd-ee3632ea0a99",
   "metadata": {},
   "outputs": [],
   "source": []
  }
 ],
 "metadata": {
  "kernelspec": {
   "display_name": "Python [conda env:New folder]",
   "language": "python",
   "name": "conda-env-New_folder-py"
  },
  "language_info": {
   "codemirror_mode": {
    "name": "ipython",
    "version": 3
   },
   "file_extension": ".py",
   "mimetype": "text/x-python",
   "name": "python",
   "nbconvert_exporter": "python",
   "pygments_lexer": "ipython3",
   "version": "3.12.7"
  }
 },
 "nbformat": 4,
 "nbformat_minor": 5
}
