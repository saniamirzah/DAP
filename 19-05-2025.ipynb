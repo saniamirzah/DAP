{
 "cells": [
  {
   "cell_type": "markdown",
   "id": "a17ee78c-8c8d-4ca4-ba21-778e46500253",
   "metadata": {},
   "source": [
    "## object oriented programing"
   ]
  },
  {
   "cell_type": "markdown",
   "id": "0a00ac19-6bb6-495c-b953-5dedd790b63f",
   "metadata": {},
   "source": [
    "### class and object"
   ]
  },
  {
   "cell_type": "code",
   "execution_count": 29,
   "id": "a9a429c2-f1c7-418d-bed9-9cd0cad5f407",
   "metadata": {},
   "outputs": [],
   "source": [
    "a = \"hello world\"      #class"
   ]
  },
  {
   "cell_type": "code",
   "execution_count": 31,
   "id": "96a157e1-bd7e-4c73-b09e-470ab0c9a468",
   "metadata": {},
   "outputs": [
    {
     "name": "stdout",
     "output_type": "stream",
     "text": [
      "<class 'str'>\n"
     ]
    }
   ],
   "source": [
    "print(type(a))"
   ]
  },
  {
   "cell_type": "code",
   "execution_count": 33,
   "id": "8f62dae5-ea1e-4ee6-ba8e-a2fb63e00e26",
   "metadata": {},
   "outputs": [
    {
     "data": {
      "text/plain": [
       "'Hello world'"
      ]
     },
     "execution_count": 33,
     "metadata": {},
     "output_type": "execute_result"
    }
   ],
   "source": [
    "a.capitalize()"
   ]
  },
  {
   "cell_type": "code",
   "execution_count": 35,
   "id": "e6602037-6c87-4174-86ad-28d41241a75a",
   "metadata": {},
   "outputs": [],
   "source": [
    "l = [1,2,3]"
   ]
  },
  {
   "cell_type": "code",
   "execution_count": 37,
   "id": "2ab4523f-1c76-470f-a9f2-432d3982614c",
   "metadata": {},
   "outputs": [
    {
     "name": "stdout",
     "output_type": "stream",
     "text": [
      "<class 'list'>\n"
     ]
    }
   ],
   "source": [
    "print(type(l))"
   ]
  },
  {
   "cell_type": "code",
   "execution_count": 3,
   "id": "ec8cf792-e3ec-4b55-92f8-0b09ec9bebe5",
   "metadata": {},
   "outputs": [],
   "source": [
    "lis = [1,2,3,4,5,6,7]"
   ]
  },
  {
   "cell_type": "code",
   "execution_count": 5,
   "id": "9ff3b1ee-1324-4477-ab95-576bbb297f99",
   "metadata": {},
   "outputs": [],
   "source": [
    "lis.append(9)"
   ]
  },
  {
   "cell_type": "code",
   "execution_count": 7,
   "id": "0f94a9cd-4511-4274-a8ec-3e1e9477da9c",
   "metadata": {},
   "outputs": [
    {
     "data": {
      "text/plain": [
       "[1, 2, 3, 4, 5, 6, 7, 9]"
      ]
     },
     "execution_count": 7,
     "metadata": {},
     "output_type": "execute_result"
    }
   ],
   "source": [
    "lis"
   ]
  },
  {
   "cell_type": "code",
   "execution_count": 11,
   "id": "3c29846f-350a-4468-b4d2-011775e52866",
   "metadata": {},
   "outputs": [
    {
     "data": {
      "text/plain": [
       "9"
      ]
     },
     "execution_count": 11,
     "metadata": {},
     "output_type": "execute_result"
    }
   ],
   "source": [
    "max(lis)"
   ]
  },
  {
   "cell_type": "code",
   "execution_count": 13,
   "id": "9e597909-4305-4047-8549-e04b4d3cb7dd",
   "metadata": {},
   "outputs": [
    {
     "data": {
      "text/plain": [
       "1"
      ]
     },
     "execution_count": 13,
     "metadata": {},
     "output_type": "execute_result"
    }
   ],
   "source": [
    "min(lis)"
   ]
  },
  {
   "cell_type": "code",
   "execution_count": 15,
   "id": "81ce67d3-e548-43e4-af13-8ab835ebe89e",
   "metadata": {},
   "outputs": [
    {
     "data": {
      "text/plain": [
       "8"
      ]
     },
     "execution_count": 15,
     "metadata": {},
     "output_type": "execute_result"
    }
   ],
   "source": [
    "len(lis)"
   ]
  },
  {
   "cell_type": "code",
   "execution_count": 17,
   "id": "60aae971-28f5-43fe-a55c-3151cd1f364c",
   "metadata": {},
   "outputs": [
    {
     "data": {
      "text/plain": [
       "37"
      ]
     },
     "execution_count": 17,
     "metadata": {},
     "output_type": "execute_result"
    }
   ],
   "source": [
    "sum(lis)"
   ]
  },
  {
   "cell_type": "code",
   "execution_count": 21,
   "id": "7d2c3cf2-3a87-43a2-bbd9-ea90755afb29",
   "metadata": {},
   "outputs": [],
   "source": [
    "lis.extend([4,7,0])"
   ]
  },
  {
   "cell_type": "code",
   "execution_count": 23,
   "id": "5732e6f5-bb83-41e4-af07-3f8ce692a051",
   "metadata": {},
   "outputs": [
    {
     "data": {
      "text/plain": [
       "[1, 2, 3, 4, 5, 6, 7, 9, 4, 7, 0]"
      ]
     },
     "execution_count": 23,
     "metadata": {},
     "output_type": "execute_result"
    }
   ],
   "source": [
    "lis"
   ]
  },
  {
   "cell_type": "code",
   "execution_count": 39,
   "id": "73d0bf54-63be-4ec9-91de-a3efcdd8cd53",
   "metadata": {},
   "outputs": [],
   "source": [
    "class Mobile_phone1:\n",
    "\n",
    "    def __init__(self,a_col,b_size,c_numc):\n",
    "        self.color = a_col\n",
    "        self.size = b_size\n",
    "        self.camera = c_numc\n",
    "\n",
    "    def calling(self,call_rates):\n",
    "        print(f\"i am calling using {self.color} cell phone and the call rates per second is {call_rates}\")\n",
    "        "
   ]
  },
  {
   "cell_type": "code",
   "execution_count": 43,
   "id": "d6655970-b7eb-4744-8664-acca96632626",
   "metadata": {},
   "outputs": [],
   "source": [
    "samsung = Mobile_phone1(\"red\",10,2)"
   ]
  },
  {
   "cell_type": "code",
   "execution_count": 45,
   "id": "e34bfc7e-0c6c-4561-ac47-92d463d0d62c",
   "metadata": {},
   "outputs": [
    {
     "data": {
      "text/plain": [
       "'red'"
      ]
     },
     "execution_count": 45,
     "metadata": {},
     "output_type": "execute_result"
    }
   ],
   "source": [
    "samsung.color"
   ]
  },
  {
   "cell_type": "code",
   "execution_count": 47,
   "id": "47662516-b33c-4862-b82d-1e6d678b98dd",
   "metadata": {},
   "outputs": [
    {
     "data": {
      "text/plain": [
       "2"
      ]
     },
     "execution_count": 47,
     "metadata": {},
     "output_type": "execute_result"
    }
   ],
   "source": [
    "samsung.camera"
   ]
  },
  {
   "cell_type": "code",
   "execution_count": 49,
   "id": "6be988a8-03c4-4d71-bbb3-eadb4bdf61de",
   "metadata": {},
   "outputs": [
    {
     "data": {
      "text/plain": [
       "10"
      ]
     },
     "execution_count": 49,
     "metadata": {},
     "output_type": "execute_result"
    }
   ],
   "source": [
    "samsung.size"
   ]
  },
  {
   "cell_type": "code",
   "execution_count": 51,
   "id": "73797039-f8a3-42db-aee1-ff4473da55c9",
   "metadata": {},
   "outputs": [
    {
     "name": "stdout",
     "output_type": "stream",
     "text": [
      "i am calling using red cell phone and the call rates per second is 0.5\n"
     ]
    }
   ],
   "source": [
    "samsung.calling(0.5)"
   ]
  },
  {
   "cell_type": "code",
   "execution_count": null,
   "id": "48b99bec-722c-47c8-9121-56a325ff8005",
   "metadata": {},
   "outputs": [],
   "source": [
    "\n",
    "#camelcase \n",
    "\n",
    "class Myclassname:\n",
    "\n",
    "#snakecase\n",
    "\n",
    "class my_class_name:\n",
    "    "
   ]
  },
  {
   "cell_type": "markdown",
   "id": "96ed6726-7869-49e6-af56-9029fba2e5cd",
   "metadata": {},
   "source": [
    "### Object"
   ]
  },
  {
   "cell_type": "code",
   "execution_count": 54,
   "id": "560ca100-581f-4291-954f-df8b8f93c2d5",
   "metadata": {},
   "outputs": [],
   "source": [
    "#it is fundamental concept in OOP it is instance of a class "
   ]
  },
  {
   "cell_type": "markdown",
   "id": "87e5725e-705a-4302-8d3f-8a5928ad44e3",
   "metadata": {},
   "source": [
    "### Constructor"
   ]
  },
  {
   "cell_type": "code",
   "execution_count": null,
   "id": "4917e199-4c10-4ffa-9965-d4950d1adeef",
   "metadata": {},
   "outputs": [],
   "source": [
    "# the constructor method is named __init__ it atomatically calls "
   ]
  },
  {
   "cell_type": "code",
   "execution_count": null,
   "id": "918c305c-da65-49c7-b4a5-2f7b571bb293",
   "metadata": {},
   "outputs": [],
   "source": [
    "# having a method inside a constructor\n",
    "#self"
   ]
  },
  {
   "cell_type": "code",
   "execution_count": 87,
   "id": "bfdae661-a5fc-44cd-b214-ed87fa55a519",
   "metadata": {},
   "outputs": [],
   "source": [
    "class Person:\n",
    "    def __init__(self, a, b):\n",
    "        self.name = a\n",
    "        self.age = b\n",
    "\n",
    "    def introduce(self, a):\n",
    "        print(f\"My name is {self.name} and i am {self.age} years old.\")\n",
    "        "
   ]
  },
  {
   "cell_type": "code",
   "execution_count": 89,
   "id": "84d7fcc3-844b-4567-8ae1-3effc1df546a",
   "metadata": {},
   "outputs": [],
   "source": [
    "person1 = Person(\"mehak\", 20)"
   ]
  },
  {
   "cell_type": "code",
   "execution_count": 93,
   "id": "8e75ff11-d5df-42aa-93b9-f5b4e71c11b5",
   "metadata": {},
   "outputs": [
    {
     "name": "stdout",
     "output_type": "stream",
     "text": [
      "My name is mehak and i am 20 years old.\n"
     ]
    }
   ],
   "source": [
    "person1.introduce(\"mehak\")"
   ]
  },
  {
   "cell_type": "code",
   "execution_count": null,
   "id": "1e31bc87-2db7-4b80-b836-fb7f5b430d9f",
   "metadata": {},
   "outputs": [],
   "source": []
  }
 ],
 "metadata": {
  "kernelspec": {
   "display_name": "Python [conda env:base] *",
   "language": "python",
   "name": "conda-base-py"
  },
  "language_info": {
   "codemirror_mode": {
    "name": "ipython",
    "version": 3
   },
   "file_extension": ".py",
   "mimetype": "text/x-python",
   "name": "python",
   "nbconvert_exporter": "python",
   "pygments_lexer": "ipython3",
   "version": "3.12.7"
  }
 },
 "nbformat": 4,
 "nbformat_minor": 5
}
