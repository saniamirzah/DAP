{
 "cells": [
  {
   "cell_type": "markdown",
   "id": "1f2d1b4f-7b0b-4bc0-b664-49b6b7edacc6",
   "metadata": {},
   "source": [
    "ARRAY"
   ]
  },
  {
   "cell_type": "code",
   "execution_count": 2,
   "id": "f3a54b3e-f99d-4075-9e04-0a635a1c4b33",
   "metadata": {},
   "outputs": [
    {
     "data": {
      "text/plain": [
       "array('i', [1, 2, 3, 4, 5])"
      ]
     },
     "execution_count": 2,
     "metadata": {},
     "output_type": "execute_result"
    }
   ],
   "source": [
    "import array\n",
    "numbers = array.array('i',[1,2,3,4,5]) //i indicates integer\n",
    "numbers\n"
   ]
  },
  {
   "cell_type": "code",
   "execution_count": null,
   "id": "ca914344-2c2f-4d3a-a712-462c62fa5713",
   "metadata": {},
   "outputs": [],
   "source": [
    "diff b/w array and list\n",
    "list can have diff data types\n",
    "array has same data  types"
   ]
  },
  {
   "cell_type": "code",
   "execution_count": 6,
   "id": "4f02c818-692d-4631-8a2a-fc76cd6fb1c1",
   "metadata": {},
   "outputs": [
    {
     "data": {
      "text/plain": [
       "[1, 'hello', 3.14, True]"
      ]
     },
     "execution_count": 6,
     "metadata": {},
     "output_type": "execute_result"
    }
   ],
   "source": [
    "#example\n",
    "my_list = [1,\"hello\",3.14,True]\n",
    "my_list"
   ]
  },
  {
   "cell_type": "code",
   "execution_count": null,
   "id": "7f8df886-13fc-4633-83f2-f7862fcf7cbc",
   "metadata": {},
   "outputs": [],
   "source": [
    "2. module requrement"
   ]
  },
  {
   "cell_type": "code",
   "execution_count": null,
   "id": "18b60405-7e71-4c2d-9b91-2d52f896f354",
   "metadata": {},
   "outputs": [],
   "source": [
    "list are import in python\n",
    "array needs to be imported"
   ]
  },
  {
   "cell_type": "code",
   "execution_count": null,
   "id": "fd0ffc35-d2a6-44e1-9d3c-c433a527b489",
   "metadata": {},
   "outputs": [],
   "source": [
    "3. flexibility and functionality\n",
    "4.performance\n",
    "list r slow\n",
    "array r fast\n"
   ]
  },
  {
   "cell_type": "markdown",
   "id": "6ecd2704-ddeb-49dc-be8a-3dc214da5f4f",
   "metadata": {},
   "source": [
    "# indexing and slicing"
   ]
  },
  {
   "cell_type": "code",
   "execution_count": 14,
   "id": "1a66766a-49a9-4599-9c3e-5a47520d811b",
   "metadata": {},
   "outputs": [
    {
     "name": "stdout",
     "output_type": "stream",
     "text": [
      "apple\n",
      "date\n"
     ]
    }
   ],
   "source": [
    " #indexing a list\n",
    "fruits = [\"apple\",\"banana\",\"cherry\",\"date\"]\n",
    "print(fruits[0])          \n",
    "print(fruits[3])"
   ]
  },
  {
   "cell_type": "code",
   "execution_count": 16,
   "id": "4b919a5a-cf0c-4690-a079-48ca339e1755",
   "metadata": {},
   "outputs": [
    {
     "name": "stdout",
     "output_type": "stream",
     "text": [
      "date\n",
      "banana\n"
     ]
    }
   ],
   "source": [
    "print(fruits[-1])          \n",
    "print(fruits[-3])"
   ]
  },
  {
   "cell_type": "code",
   "execution_count": 18,
   "id": "ea4fb2a1-97e4-4d1e-bd85-e82efbb2d841",
   "metadata": {},
   "outputs": [
    {
     "data": {
      "text/plain": [
       "[10, 20, 30, 40, 50, 60, 70, 80, 90]"
      ]
     },
     "execution_count": 18,
     "metadata": {},
     "output_type": "execute_result"
    }
   ],
   "source": [
    "# slicing a list\n",
    "numbers = [10,20,30,40,50,60,70,80,90]\n",
    "numbers"
   ]
  },
  {
   "cell_type": "code",
   "execution_count": 20,
   "id": "e2325e59-686e-470d-a767-09d6c5f7c8f8",
   "metadata": {},
   "outputs": [
    {
     "data": {
      "text/plain": [
       "[30, 40, 50]"
      ]
     },
     "execution_count": 20,
     "metadata": {},
     "output_type": "execute_result"
    }
   ],
   "source": [
    "numbers[2:5] //slicing"
   ]
  },
  {
   "cell_type": "code",
   "execution_count": 24,
   "id": "34797d68-473a-4451-b8b2-83df5654e5fa",
   "metadata": {},
   "outputs": [
    {
     "data": {
      "text/plain": [
       "[50, 60, 70]"
      ]
     },
     "execution_count": 24,
     "metadata": {},
     "output_type": "execute_result"
    }
   ],
   "source": [
    "numbers[-5:-2]"
   ]
  },
  {
   "cell_type": "code",
   "execution_count": 26,
   "id": "18c0028c-0f74-4bf8-b4e1-ea5a8936f4ec",
   "metadata": {},
   "outputs": [
    {
     "data": {
      "text/plain": [
       "[20, 50, 80]"
      ]
     },
     "execution_count": 26,
     "metadata": {},
     "output_type": "execute_result"
    }
   ],
   "source": [
    "numbers[1:8:3]"
   ]
  },
  {
   "cell_type": "code",
   "execution_count": 28,
   "id": "b5c1f754-eb5b-45a6-b41f-691499cfd98a",
   "metadata": {},
   "outputs": [
    {
     "data": {
      "text/plain": [
       "[40, 50, 60, 70, 80, 90]"
      ]
     },
     "execution_count": 28,
     "metadata": {},
     "output_type": "execute_result"
    }
   ],
   "source": [
    "numbers[3: ] //ommits first 3 then prints the rest"
   ]
  },
  {
   "cell_type": "code",
   "execution_count": 30,
   "id": "a77aaf11-6fb5-4794-b08b-610b78841103",
   "metadata": {},
   "outputs": [
    {
     "data": {
      "text/plain": [
       "[10, 20, 30, 40]"
      ]
     },
     "execution_count": 30,
     "metadata": {},
     "output_type": "execute_result"
    }
   ],
   "source": [
    "numbers[ :4] //from tillthe specified value is printed"
   ]
  },
  {
   "cell_type": "code",
   "execution_count": 32,
   "id": "afe50e3e-7106-4234-a655-e46c34521456",
   "metadata": {},
   "outputs": [
    {
     "data": {
      "text/plain": [
       "[10, 20, 30, 40, 50, 60, 70, 80, 90]"
      ]
     },
     "execution_count": 32,
     "metadata": {},
     "output_type": "execute_result"
    }
   ],
   "source": [
    "numbers[:] // prints the entire list"
   ]
  },
  {
   "cell_type": "code",
   "execution_count": 34,
   "id": "810b865c-b83e-40f1-ae50-da6c56fc0148",
   "metadata": {},
   "outputs": [
    {
     "data": {
      "text/plain": [
       "[90, 80, 70, 60, 50, 40, 30, 20, 10]"
      ]
     },
     "execution_count": 34,
     "metadata": {},
     "output_type": "execute_result"
    }
   ],
   "source": [
    "numbers[::-1] //gives the reverse form"
   ]
  },
  {
   "cell_type": "code",
   "execution_count": 36,
   "id": "97fdf3ab-a1e9-418f-9e8a-9ac77cf66650",
   "metadata": {},
   "outputs": [
    {
     "data": {
      "text/plain": [
       "[10, 1, 60, 70, 80, 90, 100]"
      ]
     },
     "execution_count": 36,
     "metadata": {},
     "output_type": "execute_result"
    }
   ],
   "source": [
    "numbers = [10,20,30,40,50,60,70,80,90,100]\n",
    "numbers[1:5] = [1]\n",
    "numbers"
   ]
  },
  {
   "cell_type": "code",
   "execution_count": 38,
   "id": "151bbe35-d52d-42da-a5db-19445877c620",
   "metadata": {},
   "outputs": [
    {
     "data": {
      "text/plain": [
       "[10, 1, 2, 3, 4, 5, 90, 100]"
      ]
     },
     "execution_count": 38,
     "metadata": {},
     "output_type": "execute_result"
    }
   ],
   "source": [
    "numbers[1:5] = [1,2,3,4,5]\n",
    "numbers"
   ]
  },
  {
   "cell_type": "markdown",
   "id": "1f047a01-5649-4b3e-8ddd-8e1349b6b415",
   "metadata": {},
   "source": [
    "## editind elements in list"
   ]
  },
  {
   "cell_type": "code",
   "execution_count": 41,
   "id": "147467da-bbb2-4b52-850e-1778978b0d5e",
   "metadata": {},
   "outputs": [
    {
     "data": {
      "text/plain": [
       "['apple', 'banana', 'coffe', 'date']"
      ]
     },
     "execution_count": 41,
     "metadata": {},
     "output_type": "execute_result"
    }
   ],
   "source": [
    "fruits = [\"apple\",\"banana\",\"cherry\",\"date\"]\n",
    "fruits[2] = \"coffe\"\n",
    "fruits"
   ]
  },
  {
   "cell_type": "code",
   "execution_count": 43,
   "id": "a1bda569-8b54-490b-a648-317acd97478d",
   "metadata": {},
   "outputs": [
    {
     "data": {
      "text/plain": [
       "[15, 20, 30, 40, 55]"
      ]
     },
     "execution_count": 43,
     "metadata": {},
     "output_type": "execute_result"
    }
   ],
   "source": [
    "numbers = [10,20,30,40,50]\n",
    "numbers[0]=15\n",
    "numbers[-1] =55\n",
    "numbers"
   ]
  },
  {
   "cell_type": "code",
   "execution_count": 53,
   "id": "8e097022-7849-4f9e-b81e-2f5106ddd759",
   "metadata": {},
   "outputs": [
    {
     "data": {
      "text/plain": [
       "['red', 'green', 'blue', 'yellow', 'purple']"
      ]
     },
     "execution_count": 53,
     "metadata": {},
     "output_type": "execute_result"
    }
   ],
   "source": [
    "# replacing a range elements\n"
   ]
  },
  {
   "cell_type": "code",
   "execution_count": 59,
   "id": "ce732353-b236-4f4f-8087-64716f46b0fa",
   "metadata": {},
   "outputs": [
    {
     "data": {
      "text/plain": [
       "['red', 'cyan', 'magenta', 'yellow', 'purple']"
      ]
     },
     "execution_count": 59,
     "metadata": {},
     "output_type": "execute_result"
    }
   ],
   "source": [
    "colors[1:3] =[\"cyan\", \"magenta\"]\n",
    "colors"
   ]
  },
  {
   "cell_type": "code",
   "execution_count": 61,
   "id": "f2a646d3-4a59-4833-9214-f96be1de8d17",
   "metadata": {},
   "outputs": [
    {
     "data": {
      "text/plain": [
       "['cat', 'hamster', 'rabbit', 'elephant']"
      ]
     },
     "execution_count": 61,
     "metadata": {},
     "output_type": "execute_result"
    }
   ],
   "source": [
    "#inserting elements while replacing\n",
    "animals = [\"cat\",\"dog\",\"elephant\"]\n",
    "animals[1:2] = [\"hamster\",\"rabbit\"]\n",
    "animals"
   ]
  },
  {
   "cell_type": "code",
   "execution_count": 63,
   "id": "6cc9f9f5-cc74-4f03-9961-a69223edb14d",
   "metadata": {},
   "outputs": [
    {
     "data": {
      "text/plain": [
       "['cat', 'dog', 'elephant']"
      ]
     },
     "execution_count": 63,
     "metadata": {},
     "output_type": "execute_result"
    }
   ],
   "source": [
    "#deleting items\n",
    "animals = [\"cat\",\"dog\",\"elephant\"]\n",
    "animals"
   ]
  },
  {
   "cell_type": "code",
   "execution_count": 65,
   "id": "d3756703-21a8-4978-b921-4ebd73b43963",
   "metadata": {},
   "outputs": [],
   "source": [
    "del animals[1]"
   ]
  },
  {
   "cell_type": "code",
   "execution_count": 67,
   "id": "89dea230-122d-489b-b246-65ab4478cff7",
   "metadata": {},
   "outputs": [
    {
     "data": {
      "text/plain": [
       "['cat', 'elephant']"
      ]
     },
     "execution_count": 67,
     "metadata": {},
     "output_type": "execute_result"
    }
   ],
   "source": [
    "animals"
   ]
  },
  {
   "cell_type": "code",
   "execution_count": 69,
   "id": "c761398a-57c8-40f2-ab40-41721aa98da5",
   "metadata": {},
   "outputs": [
    {
     "ename": "NameError",
     "evalue": "name 'animals' is not defined",
     "output_type": "error",
     "traceback": [
      "\u001b[1;31m---------------------------------------------------------------------------\u001b[0m",
      "\u001b[1;31mNameError\u001b[0m                                 Traceback (most recent call last)",
      "Cell \u001b[1;32mIn[69], line 2\u001b[0m\n\u001b[0;32m      1\u001b[0m \u001b[38;5;28;01mdel\u001b[39;00m animals\n\u001b[1;32m----> 2\u001b[0m animals\n",
      "\u001b[1;31mNameError\u001b[0m: name 'animals' is not defined"
     ]
    }
   ],
   "source": [
    "del animals\n",
    "animals"
   ]
  },
  {
   "cell_type": "code",
   "execution_count": 73,
   "id": "0ebe033e-6701-4fc6-9b79-7a1b43f8ec47",
   "metadata": {},
   "outputs": [
    {
     "data": {
      "text/plain": [
       "['cat', 'parrot', 'dog', 'elephant']"
      ]
     },
     "execution_count": 73,
     "metadata": {},
     "output_type": "execute_result"
    }
   ],
   "source": [
    "animals = [\"cat\",\"dog\",\"elephant\"]\n",
    "animals.insert(1,\"parrot\")\n",
    "animals"
   ]
  },
  {
   "cell_type": "markdown",
   "id": "c4dbbc9a-f83a-4b21-b03d-e2b1bfe341fa",
   "metadata": {},
   "source": [
    "# arithmatic operation"
   ]
  },
  {
   "cell_type": "code",
   "execution_count": 80,
   "id": "5af648dd-0aeb-47c3-8579-1f7276b64c12",
   "metadata": {},
   "outputs": [],
   "source": [
    "# list addition"
   ]
  },
  {
   "cell_type": "code",
   "execution_count": 84,
   "id": "6d525f08-3167-4a71-b0b0-e1dfac62b1f2",
   "metadata": {},
   "outputs": [
    {
     "data": {
      "text/plain": [
       "[1, 2, 3, 4, 5, 6, 7, 8]"
      ]
     },
     "execution_count": 84,
     "metadata": {},
     "output_type": "execute_result"
    }
   ],
   "source": [
    "list1 = [1,2,3,4]\n",
    "list2 =[5,6,7,8]\n",
    "result = list1+list2\n",
    "result"
   ]
  },
  {
   "cell_type": "code",
   "execution_count": 86,
   "id": "970023b9-8d94-4b79-a118-7517dd3b72f0",
   "metadata": {},
   "outputs": [
    {
     "data": {
      "text/plain": [
       "[1, 2, 3, 4, 1, 2, 3, 4, 1, 2, 3, 4, 1, 2, 3, 4]"
      ]
     },
     "execution_count": 86,
     "metadata": {},
     "output_type": "execute_result"
    }
   ],
   "source": [
    "# list multiplication\n",
    "list1 = [1,2,3,4]\n",
    "result = list1*4\n",
    "result"
   ]
  },
  {
   "cell_type": "code",
   "execution_count": null,
   "id": "46c5d43b-1963-4e88-95f8-0311c1fe4b26",
   "metadata": {},
   "outputs": [],
   "source": [
    "limitations (sub,div,module) not applicable"
   ]
  },
  {
   "cell_type": "code",
   "execution_count": null,
   "id": "2c391741-359b-457a-aeb3-160228b25f77",
   "metadata": {},
   "outputs": [],
   "source": [
    "membership operator in list\n",
    "*in\n",
    "*not in"
   ]
  },
  {
   "cell_type": "code",
   "execution_count": 94,
   "id": "6c2601d4-4320-4159-9871-26892711fe4a",
   "metadata": {},
   "outputs": [
    {
     "data": {
      "text/plain": [
       "True"
      ]
     },
     "execution_count": 94,
     "metadata": {},
     "output_type": "execute_result"
    }
   ],
   "source": [
    "list1 = [1,2,3,4]\n",
    "2 in list1"
   ]
  },
  {
   "cell_type": "code",
   "execution_count": 96,
   "id": "f541716e-c849-4c47-93bc-7968ab9cc9a4",
   "metadata": {},
   "outputs": [
    {
     "data": {
      "text/plain": [
       "True"
      ]
     },
     "execution_count": 96,
     "metadata": {},
     "output_type": "execute_result"
    }
   ],
   "source": [
    "list1 = [1,2,3,4]\n",
    "5 not in list1"
   ]
  },
  {
   "cell_type": "code",
   "execution_count": null,
   "id": "030d3138-ef46-469f-9e24-66cce8ef46e2",
   "metadata": {},
   "outputs": [],
   "source": [
    "#loop operation on list\n",
    "for loop\n",
    "while loop\n"
   ]
  },
  {
   "cell_type": "code",
   "execution_count": 108,
   "id": "2de2e093-0bd4-4969-b30b-8669d22a6ecb",
   "metadata": {},
   "outputs": [
    {
     "name": "stdout",
     "output_type": "stream",
     "text": [
      "['apple', 'banana', 'cherry', 'date']\n",
      "['apple', 'banana', 'cherry', 'date']\n",
      "['apple', 'banana', 'cherry', 'date']\n",
      "['apple', 'banana', 'cherry', 'date']\n"
     ]
    }
   ],
   "source": [
    "fruits = [\"apple\",\"banana\",\"cherry\",\"date\"]\n",
    "for i in fruits:\n",
    "         print(fruits)"
   ]
  },
  {
   "cell_type": "code",
   "execution_count": 110,
   "id": "545a5682-9d80-48dc-a22a-29227d820456",
   "metadata": {},
   "outputs": [
    {
     "name": "stdout",
     "output_type": "stream",
     "text": [
      "apple\n",
      "banana\n",
      "cherry\n",
      "date\n"
     ]
    }
   ],
   "source": [
    "fruits = [\"apple\",\"banana\",\"cherry\",\"date\"]\n",
    "i =0\n",
    "while i< len(fruits):\n",
    "    print(fruits[i])\n",
    "    i+=1"
   ]
  },
  {
   "cell_type": "code",
   "execution_count": 116,
   "id": "e2c3b906-5f1b-40c2-bbf1-cd0e92b57f6b",
   "metadata": {},
   "outputs": [
    {
     "name": "stdout",
     "output_type": "stream",
     "text": [
      "total sum 1\n",
      "total sum 3\n",
      "total sum 6\n",
      "total sum 10\n",
      "total sum 15\n"
     ]
    }
   ],
   "source": [
    "numbers = [1,2,3,4,5]\n",
    "total_sum = 0\n",
    "for number in numbers:\n",
    "    total_sum = total_sum+number\n",
    "    print(\"total sum\", total_sum)\n"
   ]
  },
  {
   "cell_type": "code",
   "execution_count": null,
   "id": "26730ee4-abf8-4cf2-a2a2-5f874f419fd6",
   "metadata": {},
   "outputs": [],
   "source": [
    "nested loops with lists"
   ]
  },
  {
   "cell_type": "code",
   "execution_count": 122,
   "id": "2619823b-9357-460f-8be0-11a7464ba33a",
   "metadata": {},
   "outputs": [
    {
     "name": "stdout",
     "output_type": "stream",
     "text": [
      "1 2 3 \n",
      "4 5 6 \n",
      "7 8 9 \n"
     ]
    }
   ],
   "source": [
    "matrix =[\n",
    "    [1,2,3],\n",
    "    [4,5,6],\n",
    "    [7,8,9]\n",
    "]\n",
    "for row in matrix:\n",
    "    for element in row:\n",
    "        print(element, end=\" \")\n",
    "    print()"
   ]
  },
  {
   "cell_type": "code",
   "execution_count": null,
   "id": "a15bae7f-cc27-4c23-bd08-69acd39133be",
   "metadata": {},
   "outputs": [],
   "source": []
  },
  {
   "cell_type": "code",
   "execution_count": null,
   "id": "c2dc1bf0-574c-4a16-b862-eb77f4b119f0",
   "metadata": {},
   "outputs": [],
   "source": []
  }
 ],
 "metadata": {
  "kernelspec": {
   "display_name": "Python [conda env:New folder]",
   "language": "python",
   "name": "conda-env-New_folder-py"
  },
  "language_info": {
   "codemirror_mode": {
    "name": "ipython",
    "version": 3
   },
   "file_extension": ".py",
   "mimetype": "text/x-python",
   "name": "python",
   "nbconvert_exporter": "python",
   "pygments_lexer": "ipython3",
   "version": "3.12.7"
  }
 },
 "nbformat": 4,
 "nbformat_minor": 5
}
