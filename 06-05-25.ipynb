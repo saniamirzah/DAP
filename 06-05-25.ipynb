{
 "cells": [
  {
   "cell_type": "markdown",
   "id": "f0c7e3e7-4288-4710-8bdc-fded228cd759",
   "metadata": {},
   "source": [
    "# loop operation on string"
   ]
  },
  {
   "cell_type": "code",
   "execution_count": null,
   "id": "c2ca7905-5ea4-41fa-9edf-66eec289d5c4",
   "metadata": {},
   "outputs": [],
   "source": [
    "1. for loop"
   ]
  },
  {
   "cell_type": "code",
   "execution_count": 33,
   "id": "ed6e8687-df40-4ecf-9f8a-41814147e642",
   "metadata": {},
   "outputs": [
    {
     "name": "stdout",
     "output_type": "stream",
     "text": [
      "1\n",
      "2\n",
      "3\n",
      "4\n"
     ]
    }
   ],
   "source": [
    "number = 1, 2 ,3,4\n",
    "for int in number: # we can use anything in place of char\n",
    "    print(int)"
   ]
  },
  {
   "cell_type": "code",
   "execution_count": 9,
   "id": "ec6ad8fe-9205-4c48-8848-c7e8ee7988f5",
   "metadata": {},
   "outputs": [
    {
     "name": "stdout",
     "output_type": "stream",
     "text": [
      "p\n",
      "y\n",
      "t\n",
      "h\n",
      "o\n",
      "n\n"
     ]
    }
   ],
   "source": [
    "text = \"python\"\n",
    "for char in text:\n",
    "    print(char)"
   ]
  },
  {
   "cell_type": "code",
   "execution_count": null,
   "id": "3b7a43b8-9608-44e9-812d-d0c4d20d00d9",
   "metadata": {},
   "outputs": [],
   "source": [
    "membership operator in string"
   ]
  },
  {
   "cell_type": "code",
   "execution_count": 21,
   "id": "b5ff9c55-6c5f-4d4e-a6ed-6ed24de093e6",
   "metadata": {},
   "outputs": [
    {
     "data": {
      "text/plain": [
       "True"
      ]
     },
     "execution_count": 21,
     "metadata": {},
     "output_type": "execute_result"
    }
   ],
   "source": [
    "# 1. in operator check if the word is present or not\n",
    "text =\"sania\"\n",
    "\"s\" in text"
   ]
  },
  {
   "cell_type": "code",
   "execution_count": 23,
   "id": "df70a178-2bb7-4465-878a-f88641745ba5",
   "metadata": {},
   "outputs": [
    {
     "data": {
      "text/plain": [
       "False"
      ]
     },
     "execution_count": 23,
     "metadata": {},
     "output_type": "execute_result"
    }
   ],
   "source": [
    "\"m\" in text"
   ]
  },
  {
   "cell_type": "code",
   "execution_count": 25,
   "id": "f6acd3f9-9e16-49c6-80c4-adfde2db1bdb",
   "metadata": {},
   "outputs": [
    {
     "data": {
      "text/plain": [
       "False"
      ]
     },
     "execution_count": 25,
     "metadata": {},
     "output_type": "execute_result"
    }
   ],
   "source": [
    "# not in operator \n",
    "text = \"hello word\"\n",
    "\"word\" not in text"
   ]
  },
  {
   "cell_type": "code",
   "execution_count": 27,
   "id": "2b2b8d14-e54e-41fb-939d-eace809afac0",
   "metadata": {},
   "outputs": [
    {
     "data": {
      "text/plain": [
       "True"
      ]
     },
     "execution_count": 27,
     "metadata": {},
     "output_type": "execute_result"
    }
   ],
   "source": [
    "\"text\" not in text"
   ]
  },
  {
   "cell_type": "code",
   "execution_count": null,
   "id": "89a8a891-0805-4a19-93e7-27762b0b0730",
   "metadata": {},
   "outputs": [],
   "source": [
    "acess the string\n",
    "1.start with str\n",
    "use (.)\n",
    "then () bracket to cll the fun"
   ]
  },
  {
   "cell_type": "code",
   "execution_count": null,
   "id": "e1b9bc71-2fb5-4fbc-b8f8-315d9f1e32c8",
   "metadata": {},
   "outputs": [],
   "source": [
    "str. title"
   ]
  },
  {
   "cell_type": "code",
   "execution_count": 59,
   "id": "42d302ec-2ba0-42f7-96bc-251704895151",
   "metadata": {},
   "outputs": [
    {
     "data": {
      "text/plain": [
       "'sania mirza'"
      ]
     },
     "execution_count": 59,
     "metadata": {},
     "output_type": "execute_result"
    }
   ],
   "source": [
    "text = \"sania mirza\" // convert 1st letter to cap\n",
    "text.title()\n",
    "text"
   ]
  },
  {
   "cell_type": "code",
   "execution_count": null,
   "id": "5ea49031-70f4-4860-adb8-66a93b1fd685",
   "metadata": {},
   "outputs": [],
   "source": [
    "str.strip() // removes unnecessary spaces"
   ]
  },
  {
   "cell_type": "code",
   "execution_count": 57,
   "id": "4eb758fd-85a5-481f-bb7a-4cff7c690d74",
   "metadata": {},
   "outputs": [
    {
     "data": {
      "text/plain": [
       "'sania mirza'"
      ]
     },
     "execution_count": 57,
     "metadata": {},
     "output_type": "execute_result"
    }
   ],
   "source": [
    "text = \"     sania mirza       \"\n",
    "text.strip()"
   ]
  },
  {
   "cell_type": "code",
   "execution_count": null,
   "id": "18f44068-0147-43d9-a508-a970fd5e6bc9",
   "metadata": {},
   "outputs": [],
   "source": [
    "// srt.replace"
   ]
  },
  {
   "cell_type": "code",
   "execution_count": 61,
   "id": "e52c9c47-bb41-4790-8516-48f4eea355f4",
   "metadata": {},
   "outputs": [
    {
     "data": {
      "text/plain": [
       "'sania sheikh'"
      ]
     },
     "execution_count": 61,
     "metadata": {},
     "output_type": "execute_result"
    }
   ],
   "source": [
    "text = \"sania mirza\" \n",
    "text.replace(\"mirza\" , \"sheikh\")"
   ]
  },
  {
   "cell_type": "code",
   "execution_count": null,
   "id": "610006be-8cbe-4037-905e-3482d65834e5",
   "metadata": {},
   "outputs": [],
   "source": [
    "//str.split(separator)"
   ]
  },
  {
   "cell_type": "code",
   "execution_count": 99,
   "id": "d39cfadd-27f7-4d73-b179-100282c44c8e",
   "metadata": {},
   "outputs": [
    {
     "data": {
      "text/plain": [
       "<function str.split(sep=None, maxsplit=-1)>"
      ]
     },
     "execution_count": 99,
     "metadata": {},
     "output_type": "execute_result"
    }
   ],
   "source": [
    "value = \"sania mirza\"\n",
    "split_text = value.split\n",
    "split_text"
   ]
  },
  {
   "cell_type": "code",
   "execution_count": null,
   "id": "e59b5d06-bd97-48d9-835a-9d0d1cdcdd1a",
   "metadata": {},
   "outputs": [],
   "source": [
    "sania,mirza"
   ]
  },
  {
   "cell_type": "code",
   "execution_count": 101,
   "id": "89ee3bc4-3fe9-467f-8597-bd0daa184312",
   "metadata": {},
   "outputs": [
    {
     "data": {
      "text/plain": [
       "['hello world this is a split method']"
      ]
     },
     "execution_count": 101,
     "metadata": {},
     "output_type": "execute_result"
    }
   ],
   "source": [
    "text = \"hello world this is a split method\"\n",
    "text_split = text.split(\"!\")\n",
    "text_split"
   ]
  },
  {
   "cell_type": "code",
   "execution_count": 93,
   "id": "137ac6b7-fcef-4f61-915e-d58faeb12a49",
   "metadata": {},
   "outputs": [],
   "source": [
    "# str.join(itrerable)\n",
    "words = ['hello','world']\n",
    "joined_text = '! '.join(words)"
   ]
  },
  {
   "cell_type": "code",
   "execution_count": 97,
   "id": "dc7f3089-a72b-4e24-a88a-3f9c254bb647",
   "metadata": {},
   "outputs": [
    {
     "data": {
      "text/plain": [
       "'hello! world'"
      ]
     },
     "execution_count": 97,
     "metadata": {},
     "output_type": "execute_result"
    }
   ],
   "source": [
    "joined_text"
   ]
  },
  {
   "cell_type": "code",
   "execution_count": 103,
   "id": "2a85cfe7-5c38-4af1-ba8d-23e6681ad1b9",
   "metadata": {},
   "outputs": [
    {
     "data": {
      "text/plain": [
       "6"
      ]
     },
     "execution_count": 103,
     "metadata": {},
     "output_type": "execute_result"
    }
   ],
   "source": [
    "#str.find(substring) finds particular word\n",
    "text = \"hello world\"\n",
    "index = text.find(\"world\")\n",
    "index"
   ]
  },
  {
   "cell_type": "code",
   "execution_count": 120,
   "id": "717ec04c-636d-4c81-8f52-7a319eef1f50",
   "metadata": {},
   "outputs": [
    {
     "data": {
      "text/plain": [
       "3"
      ]
     },
     "execution_count": 120,
     "metadata": {},
     "output_type": "execute_result"
    }
   ],
   "source": [
    "# str.count() count no of same letters appeard\n",
    "word = \"hello world\"\n",
    "word_count= word.count(\"l\")\n",
    "word_count"
   ]
  },
  {
   "cell_type": "code",
   "execution_count": null,
   "id": "62e6e63f-b3bc-469c-a1da-d66feeb77aec",
   "metadata": {},
   "outputs": [],
   "source": [
    "str.starts with()"
   ]
  },
  {
   "cell_type": "code",
   "execution_count": 138,
   "id": "f4542203-0360-4017-945c-a982eaba4fee",
   "metadata": {},
   "outputs": [
    {
     "data": {
      "text/plain": [
       "False"
      ]
     },
     "execution_count": 138,
     "metadata": {},
     "output_type": "execute_result"
    }
   ],
   "source": [
    "word = \"hello world\"\n",
    "word. startswith(\"world\")\n"
   ]
  },
  {
   "cell_type": "code",
   "execution_count": 134,
   "id": "ef482035-47e2-4cba-8be2-2c7df83857f4",
   "metadata": {},
   "outputs": [
    {
     "data": {
      "text/plain": [
       "True"
      ]
     },
     "execution_count": 134,
     "metadata": {},
     "output_type": "execute_result"
    }
   ],
   "source": [
    "# endswith(sub)\n",
    "text = \"hello world\"\n",
    "text.endswith(\"ld\")"
   ]
  },
  {
   "cell_type": "code",
   "execution_count": 146,
   "id": "7b580c36-2a82-41ca-b4eb-a38eb2fbf001",
   "metadata": {},
   "outputs": [
    {
     "data": {
      "text/plain": [
       "True"
      ]
     },
     "execution_count": 146,
     "metadata": {},
     "output_type": "execute_result"
    }
   ],
   "source": [
    "#str.isdigit() #returns true if digit are in str\n",
    "text =\"002\"\n",
    "text.isdigit()"
   ]
  },
  {
   "cell_type": "code",
   "execution_count": null,
   "id": "9df3ab28-bb04-4b20-aa59-3695bd0ce01e",
   "metadata": {},
   "outputs": [],
   "source": [
    "#is.alpha() returns true if all char in str are alphabetic"
   ]
  },
  {
   "cell_type": "code",
   "execution_count": 148,
   "id": "30cd91e3-9ddd-40eb-9471-4a586cebf853",
   "metadata": {},
   "outputs": [
    {
     "data": {
      "text/plain": [
       "True"
      ]
     },
     "execution_count": 148,
     "metadata": {},
     "output_type": "execute_result"
    }
   ],
   "source": [
    "text = \"hello\"\n",
    "text.isalpha()"
   ]
  },
  {
   "cell_type": "code",
   "execution_count": null,
   "id": "bb8f4345-dd09-47ff-86ce-4e9eac0fdebb",
   "metadata": {},
   "outputs": [],
   "source": [
    "str.islower() # returs true if all char r small"
   ]
  },
  {
   "cell_type": "code",
   "execution_count": 150,
   "id": "01cb8156-3aa5-4edc-881c-12e8e8a7f67d",
   "metadata": {},
   "outputs": [
    {
     "data": {
      "text/plain": [
       "True"
      ]
     },
     "execution_count": 150,
     "metadata": {},
     "output_type": "execute_result"
    }
   ],
   "source": [
    "text = \"hello\"\n",
    "text.islower()"
   ]
  },
  {
   "cell_type": "code",
   "execution_count": null,
   "id": "05ae3b37-fb5f-4c91-8298-819fca0c5fb8",
   "metadata": {},
   "outputs": [],
   "source": [
    "str.isupper #eturs true if all char r cap"
   ]
  },
  {
   "cell_type": "code",
   "execution_count": 152,
   "id": "06af7e84-16ac-423e-a744-57e31524b5f0",
   "metadata": {},
   "outputs": [
    {
     "data": {
      "text/plain": [
       "True"
      ]
     },
     "execution_count": 152,
     "metadata": {},
     "output_type": "execute_result"
    }
   ],
   "source": [
    "text = \"HELLO\"\n",
    "text.isupper()"
   ]
  },
  {
   "cell_type": "code",
   "execution_count": null,
   "id": "c3b8dfa4-7f41-40fd-b199-597b407fa62b",
   "metadata": {},
   "outputs": [],
   "source": [
    "str.zfill(width) #pads the str with zero on  the left, to make the str of the specified width isme 0 add hota jo num deko rate use fill karne"
   ]
  },
  {
   "cell_type": "code",
   "execution_count": 158,
   "id": "453637b5-eecb-4f4a-bfc8-e7c496ea3a4a",
   "metadata": {},
   "outputs": [
    {
     "data": {
      "text/plain": [
       "'000042'"
      ]
     },
     "execution_count": 158,
     "metadata": {},
     "output_type": "execute_result"
    }
   ],
   "source": [
    "text = '42'\n",
    "pad_text = text.zfill(6)\n",
    "pad_text"
   ]
  },
  {
   "cell_type": "code",
   "execution_count": null,
   "id": "8888d236-8031-4887-807a-eae9ba8aa50e",
   "metadata": {},
   "outputs": [],
   "source": [
    "str.rfind(substring)\n",
    "#finds the highest index wr the substr is found , returns -1 if the str is not found"
   ]
  },
  {
   "cell_type": "code",
   "execution_count": 160,
   "id": "1ead9d36-0083-44e0-8dc5-1fcf7c9b42a1",
   "metadata": {},
   "outputs": [],
   "source": [
    "text = \" hello hello world\"\n",
    "index = text.rfind(\"world\")"
   ]
  },
  {
   "cell_type": "code",
   "execution_count": 162,
   "id": "2001a8b1-b8b1-4efb-afed-14bec0365d02",
   "metadata": {},
   "outputs": [
    {
     "data": {
      "text/plain": [
       "13"
      ]
     },
     "execution_count": 162,
     "metadata": {},
     "output_type": "execute_result"
    }
   ],
   "source": [
    "index"
   ]
  },
  {
   "cell_type": "markdown",
   "id": "190f8229-ad76-40c8-a24f-85799c47f697",
   "metadata": {},
   "source": [
    "# common function"
   ]
  },
  {
   "cell_type": "code",
   "execution_count": null,
   "id": "3fcabe68-5ce9-4c2f-a886-9ebb95abed11",
   "metadata": {},
   "outputs": [],
   "source": [
    "#1. min"
   ]
  },
  {
   "cell_type": "code",
   "execution_count": 175,
   "id": "b103aaf2-062a-483c-9606-9ad5f9f82be1",
   "metadata": {},
   "outputs": [],
   "source": [
    "words = [\"apple\", \"banana\", \"cherry\"]\n",
    "smallest_char = min(words)"
   ]
  },
  {
   "cell_type": "code",
   "execution_count": 177,
   "id": "6dc60f64-5c39-4624-ba5c-55594861f7ca",
   "metadata": {},
   "outputs": [
    {
     "data": {
      "text/plain": [
       "['apple', 'banana', 'cherry']"
      ]
     },
     "execution_count": 177,
     "metadata": {},
     "output_type": "execute_result"
    }
   ],
   "source": [
    "words"
   ]
  },
  {
   "cell_type": "code",
   "execution_count": null,
   "id": "f440181b-3588-4033-9b76-98f65f120f0f",
   "metadata": {},
   "outputs": [],
   "source": [
    "#max()"
   ]
  },
  {
   "cell_type": "code",
   "execution_count": 179,
   "id": "9f9396ff-4736-4d68-8a6b-d85164b560cb",
   "metadata": {},
   "outputs": [
    {
     "data": {
      "text/plain": [
       "18"
      ]
     },
     "execution_count": 179,
     "metadata": {},
     "output_type": "execute_result"
    }
   ],
   "source": [
    "#len()\n",
    "text = \" hello hello world\"\n",
    "len(text)"
   ]
  },
  {
   "cell_type": "code",
   "execution_count": 183,
   "id": "5fdde43a-bbaa-41a6-a692-72537703b1bb",
   "metadata": {},
   "outputs": [
    {
     "data": {
      "text/plain": [
       "[2, 4, 6, 8]"
      ]
     },
     "execution_count": 183,
     "metadata": {},
     "output_type": "execute_result"
    }
   ],
   "source": [
    "#sorted\n",
    "list = [2,8,4,6]\n",
    "sorted(list)"
   ]
  },
  {
   "cell_type": "code",
   "execution_count": 191,
   "id": "ad7fdf8c-98de-425b-8fa2-16874bb5e568",
   "metadata": {},
   "outputs": [
    {
     "data": {
      "text/plain": [
       "'dlrow olleh olleh '"
      ]
     },
     "execution_count": 191,
     "metadata": {},
     "output_type": "execute_result"
    }
   ],
   "source": [
    "#reversed\n",
    "text = \" hello hello world\"\n",
    "rev_text = ''.join(reversed(text))\n",
    "rev_text"
   ]
  },
  {
   "cell_type": "code",
   "execution_count": 195,
   "id": "b3e65404-d315-49b8-b049-93a72d319e89",
   "metadata": {},
   "outputs": [
    {
     "data": {
      "text/plain": [
       "True"
      ]
     },
     "execution_count": 195,
     "metadata": {},
     "output_type": "execute_result"
    }
   ],
   "source": [
    "#all\n",
    "text =\"123456\"\n",
    "all_digit = all(char.isdigit() for char in text)\n",
    "all_digit"
   ]
  },
  {
   "cell_type": "code",
   "execution_count": 197,
   "id": "8295be3c-946b-40dc-8101-a3f13ac6ae0b",
   "metadata": {},
   "outputs": [
    {
     "data": {
      "text/plain": [
       "True"
      ]
     },
     "execution_count": 197,
     "metadata": {},
     "output_type": "execute_result"
    }
   ],
   "source": [
    "#any\n",
    "text =\"123456\"\n",
    "all_digit = any(char.isdigit() for char in text)\n",
    "all_digit\n"
   ]
  },
  {
   "cell_type": "code",
   "execution_count": 201,
   "id": "5ee124cc-c255-4ccf-9fc6-f9d136298cbc",
   "metadata": {},
   "outputs": [
    {
     "data": {
      "text/plain": [
       "137"
      ]
     },
     "execution_count": 201,
     "metadata": {},
     "output_type": "execute_result"
    }
   ],
   "source": [
    "#sum\n",
    "num = [11,74,52]\n",
    "total = sum(num)\n",
    "total"
   ]
  },
  {
   "cell_type": "code",
   "execution_count": 203,
   "id": "21cac3ac-e974-45e9-bb3f-cb3b8a2b2fde",
   "metadata": {},
   "outputs": [
    {
     "name": "stdout",
     "output_type": "stream",
     "text": [
      " Hello, john ! Welcome to python world!\n"
     ]
    }
   ],
   "source": [
    "#senario\n",
    "name = \"john\"\n",
    "print(f\" Hello, {name} ! Welcome to python world!\")"
   ]
  },
  {
   "cell_type": "code",
   "execution_count": 223,
   "id": "528e5bd5-eced-49c1-b7f2-f1a505fbda28",
   "metadata": {},
   "outputs": [],
   "source": [
    "#senario 2\n",
    "first_name =\"john\"\n",
    "second_name =\"Deo\"\n",
    "full_name = \"john\"  +\" \"  +   \"Deo\""
   ]
  },
  {
   "cell_type": "code",
   "execution_count": 225,
   "id": "fa3e9134-a59e-45bc-afdd-15182bd49aa4",
   "metadata": {},
   "outputs": [
    {
     "data": {
      "text/plain": [
       "'john Deo'"
      ]
     },
     "execution_count": 225,
     "metadata": {},
     "output_type": "execute_result"
    }
   ],
   "source": [
    "full_name"
   ]
  },
  {
   "cell_type": "code",
   "execution_count": null,
   "id": "e34485ec-6ad7-4daf-8818-3e1bc0704894",
   "metadata": {},
   "outputs": [],
   "source": []
  }
 ],
 "metadata": {
  "kernelspec": {
   "display_name": "Python [conda env:New folder]",
   "language": "python",
   "name": "conda-env-New_folder-py"
  },
  "language_info": {
   "codemirror_mode": {
    "name": "ipython",
    "version": 3
   },
   "file_extension": ".py",
   "mimetype": "text/x-python",
   "name": "python",
   "nbconvert_exporter": "python",
   "pygments_lexer": "ipython3",
   "version": "3.12.7"
  }
 },
 "nbformat": 4,
 "nbformat_minor": 5
}
