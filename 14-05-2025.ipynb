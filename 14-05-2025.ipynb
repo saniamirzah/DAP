{
 "cells": [
  {
   "cell_type": "markdown",
   "id": "421eef71-f284-46d7-9a88-4bb0eba39deb",
   "metadata": {},
   "source": [
    "# Dictionary"
   ]
  },
  {
   "cell_type": "code",
   "execution_count": 2,
   "id": "6be4ef1b-2484-4a35-9deb-1672ff41789c",
   "metadata": {},
   "outputs": [],
   "source": [
    "dict = {\"row_id\":1,\"order_id\":2}"
   ]
  },
  {
   "cell_type": "code",
   "execution_count": 4,
   "id": "c024a12c-27e7-4eb8-ad58-0208f8e80c68",
   "metadata": {},
   "outputs": [
    {
     "data": {
      "text/plain": [
       "{'row_id': 1, 'order_id': 2}"
      ]
     },
     "execution_count": 4,
     "metadata": {},
     "output_type": "execute_result"
    }
   ],
   "source": [
    "dict"
   ]
  },
  {
   "cell_type": "code",
   "execution_count": 6,
   "id": "93114db3-153f-4b6c-8e56-4df3420af8ce",
   "metadata": {},
   "outputs": [
    {
     "data": {
      "text/plain": [
       "dict"
      ]
     },
     "execution_count": 6,
     "metadata": {},
     "output_type": "execute_result"
    }
   ],
   "source": [
    "data_set = {\"name\":\"sania\",\"age\":21,\"sex\":\"f\",\"course\":\"BCA\"}\n",
    "type(data_set)"
   ]
  },
  {
   "cell_type": "code",
   "execution_count": 8,
   "id": "18b69f6d-9224-4fd9-bf7b-6a6558d8ff13",
   "metadata": {},
   "outputs": [
    {
     "data": {
      "text/plain": [
       "{'name': 'sania', 'age': 21, 'sex': 'f', 'course': 'BCA'}"
      ]
     },
     "execution_count": 8,
     "metadata": {},
     "output_type": "execute_result"
    }
   ],
   "source": [
    "data_set"
   ]
  },
  {
   "cell_type": "markdown",
   "id": "ffadd142-762f-41bf-b62d-368fd8efee98",
   "metadata": {},
   "source": [
    "# key character of dic"
   ]
  },
  {
   "cell_type": "code",
   "execution_count": null,
   "id": "bcb492b7-ed69-4d60-9aaf-0af836ea452a",
   "metadata": {},
   "outputs": [],
   "source": [
    "1. unordered do not maintain any order for their elements"
   ]
  },
  {
   "cell_type": "code",
   "execution_count": 13,
   "id": "4544363d-f868-4a5f-9e71-1ffd1456ab08",
   "metadata": {},
   "outputs": [
    {
     "data": {
      "text/plain": [
       "{'name': 'sania', 'age': 21, 'sex': 'f', 'course': 'BCA'}"
      ]
     },
     "execution_count": 13,
     "metadata": {},
     "output_type": "execute_result"
    }
   ],
   "source": [
    "data_set = {\"name\":\"sania\",\"age\":21,\"sex\":\"f\",\"course\":\"BCA\"}\n",
    "data_set"
   ]
  },
  {
   "cell_type": "code",
   "execution_count": null,
   "id": "f1e9621a-e970-4ff9-ab35-c6a358cec8fc",
   "metadata": {},
   "outputs": [],
   "source": [
    "2.mutable it can can be modified once creadted"
   ]
  },
  {
   "cell_type": "code",
   "execution_count": 17,
   "id": "6a27a5d6-e30f-4b51-b0a3-382d118afb68",
   "metadata": {},
   "outputs": [
    {
     "data": {
      "text/plain": [
       "{'name': 'sania', 'age': 31}"
      ]
     },
     "execution_count": 17,
     "metadata": {},
     "output_type": "execute_result"
    }
   ],
   "source": [
    "data_set"
   ]
  },
  {
   "cell_type": "code",
   "execution_count": 25,
   "id": "18e3f250-7b19-45c0-ad5c-9bac6830debb",
   "metadata": {},
   "outputs": [],
   "source": [
    "data_set[\"city\"] = \"bangalore\""
   ]
  },
  {
   "cell_type": "code",
   "execution_count": 27,
   "id": "442b5714-df2c-4dad-93c9-7b7a430ba0f1",
   "metadata": {},
   "outputs": [
    {
     "data": {
      "text/plain": [
       "{'name': 'sania', 'age': 31, 'city': 'bangalore'}"
      ]
     },
     "execution_count": 27,
     "metadata": {},
     "output_type": "execute_result"
    }
   ],
   "source": [
    "data_set"
   ]
  },
  {
   "cell_type": "code",
   "execution_count": null,
   "id": "65fa3fe3-dad0-4040-8696-c65ed469a28c",
   "metadata": {},
   "outputs": [],
   "source": [
    "3.unique key if u use the same key again the previous value will be over written"
   ]
  },
  {
   "cell_type": "code",
   "execution_count": 15,
   "id": "50fe4bdd-cc83-4dcc-9e1a-b50d45c56893",
   "metadata": {},
   "outputs": [
    {
     "data": {
      "text/plain": [
       "{'name': 'sania', 'age': 31}"
      ]
     },
     "execution_count": 15,
     "metadata": {},
     "output_type": "execute_result"
    }
   ],
   "source": [
    "data_set = {\"name\":\"sania\",\"age\":21,\"age\":25,\"age\":24,\"age\":31,}\n",
    "data_set #here last added value is printed"
   ]
  },
  {
   "cell_type": "code",
   "execution_count": null,
   "id": "980552f9-fa84-4deb-a742-a71f2950eacf",
   "metadata": {},
   "outputs": [],
   "source": [
    "4.immutable"
   ]
  },
  {
   "cell_type": "code",
   "execution_count": null,
   "id": "bcf4d5c1-67c8-46d0-a7de-3ad72a833578",
   "metadata": {},
   "outputs": [],
   "source": [
    "5.dynamic"
   ]
  },
  {
   "cell_type": "code",
   "execution_count": null,
   "id": "7570a86f-dcfa-4907-97a8-df0e56cc07c7",
   "metadata": {},
   "outputs": [],
   "source": [
    ">>>values in dic"
   ]
  },
  {
   "cell_type": "code",
   "execution_count": null,
   "id": "fd8d00df-a0dc-49e5-bcce-a80412473330",
   "metadata": {},
   "outputs": [],
   "source": [
    "*mutable and unmutable"
   ]
  },
  {
   "cell_type": "code",
   "execution_count": null,
   "id": "3aab1f88-1024-4c73-8507-e33c225bda80",
   "metadata": {},
   "outputs": [],
   "source": [
    "*key"
   ]
  },
  {
   "cell_type": "code",
   "execution_count": null,
   "id": "a4e5e1a4-39f6-4337-8a21-17f34b587ac9",
   "metadata": {},
   "outputs": [],
   "source": [
    "*values"
   ]
  },
  {
   "cell_type": "markdown",
   "id": "25c98744-0972-4bae-911b-436556aee26c",
   "metadata": {},
   "source": [
    "## accessing values in dictionary"
   ]
  },
  {
   "cell_type": "code",
   "execution_count": 32,
   "id": "85b21730-5ff8-4dfb-80d9-e240c124373c",
   "metadata": {},
   "outputs": [
    {
     "data": {
      "text/plain": [
       "20"
      ]
     },
     "execution_count": 32,
     "metadata": {},
     "output_type": "execute_result"
    }
   ],
   "source": [
    "my_dict ={\n",
    "    \"name\":\"sania\",\n",
    "    \"age\":20,\n",
    "    \"hobbies\":[\"playnig\",\"readng\",\"scrolling\"],\n",
    "    \"education\":\"bca\"\n",
    "}\n",
    "my_dict[\"age\"]"
   ]
  },
  {
   "cell_type": "markdown",
   "id": "127f7383-be30-4f9b-93f3-b1c536e078a7",
   "metadata": {},
   "source": [
    "### using get () method"
   ]
  },
  {
   "cell_type": "code",
   "execution_count": 35,
   "id": "2ec4fc53-1a20-4115-8fb7-9cde7ad5a74b",
   "metadata": {},
   "outputs": [],
   "source": [
    "my_dict ={\n",
    "    \"name\":\"sania\",\n",
    "    \"age\":20,\n",
    "    \"hobbies\":[\"playnig\",\"readng\",\"scrolling\"],\n",
    "    \"education\":\"bca\"\n",
    "}"
   ]
  },
  {
   "cell_type": "code",
   "execution_count": 37,
   "id": "b5d8e47b-296a-46ff-82ba-df485f4a451d",
   "metadata": {},
   "outputs": [
    {
     "data": {
      "text/plain": [
       "['playnig', 'readng', 'scrolling']"
      ]
     },
     "execution_count": 37,
     "metadata": {},
     "output_type": "execute_result"
    }
   ],
   "source": [
    "my_dict.get(\"hobbies\")"
   ]
  },
  {
   "cell_type": "markdown",
   "id": "470fad3f-e663-4d13-9694-94ddee5963c6",
   "metadata": {},
   "source": [
    "### Accessing all keys"
   ]
  },
  {
   "cell_type": "code",
   "execution_count": 44,
   "id": "535b777f-9c63-40ad-9e4f-72992eba2f32",
   "metadata": {},
   "outputs": [],
   "source": [
    "my_dict ={\n",
    "    \"name\":\"sania\",\n",
    "    \"age\":20,\n",
    "    \"hobbies\":[\"playnig\",\"readng\",\"scrolling\"],\n",
    "    \"education\":\"bca\"\n",
    "}"
   ]
  },
  {
   "cell_type": "code",
   "execution_count": 48,
   "id": "98341af0-5e97-433d-8fc3-cf9a94ee7fa9",
   "metadata": {},
   "outputs": [
    {
     "data": {
      "text/plain": [
       "dict_keys(['name', 'age', 'hobbies', 'education'])"
      ]
     },
     "execution_count": 48,
     "metadata": {},
     "output_type": "execute_result"
    }
   ],
   "source": [
    "my_dict.keys() #only keys are accessed"
   ]
  },
  {
   "cell_type": "markdown",
   "id": "5ee3f3f0-ac93-46e1-9366-e727d58c4870",
   "metadata": {},
   "source": [
    "### accessing all values"
   ]
  },
  {
   "cell_type": "code",
   "execution_count": 51,
   "id": "cade4fe0-c694-42be-aa7e-1c40cfc40770",
   "metadata": {},
   "outputs": [
    {
     "data": {
      "text/plain": [
       "dict_values(['sania', 20, ['playnig', 'readng', 'scrolling'], 'bca'])"
      ]
     },
     "execution_count": 51,
     "metadata": {},
     "output_type": "execute_result"
    }
   ],
   "source": [
    "my_dict ={\n",
    "    \"name\":\"sania\",\n",
    "    \"age\":20,\n",
    "    \"hobbies\":[\"playnig\",\"readng\",\"scrolling\"],\n",
    "    \"education\":\"bca\"\n",
    "}\n",
    "my_dict.values()"
   ]
  },
  {
   "cell_type": "markdown",
   "id": "5f5967d4-b272-45bc-97ca-ab8900f09c41",
   "metadata": {},
   "source": [
    "### Accessing all key-value pairs:"
   ]
  },
  {
   "cell_type": "code",
   "execution_count": 54,
   "id": "8abdc7ce-7a33-41eb-96de-045696de1930",
   "metadata": {},
   "outputs": [
    {
     "data": {
      "text/plain": [
       "dict_items([('name', 'sania'), ('age', 20), ('hobbies', ['playnig', 'readng', 'scrolling']), ('education', 'bca')])"
      ]
     },
     "execution_count": 54,
     "metadata": {},
     "output_type": "execute_result"
    }
   ],
   "source": [
    "my_dict.items()"
   ]
  },
  {
   "cell_type": "markdown",
   "id": "aafa13c4-d58f-4d31-9fa5-c37d6df6e22b",
   "metadata": {},
   "source": [
    "### Iterating over keys and values"
   ]
  },
  {
   "cell_type": "code",
   "execution_count": 59,
   "id": "bffe16ec-024f-4872-bb3e-d7dad6383ca8",
   "metadata": {},
   "outputs": [
    {
     "name": "stdout",
     "output_type": "stream",
     "text": [
      "name\n",
      "age\n",
      "hobbies\n",
      "education\n"
     ]
    }
   ],
   "source": [
    "my_dict ={\n",
    "    \"name\":\"sania\",\n",
    "    \"age\":20,\n",
    "    \"hobbies\":[\"playnig\",\"readng\",\"scrolling\"],\n",
    "    \"education\":\"bca\"\n",
    "}\n",
    "for i in my_dict:\n",
    "    print(i)"
   ]
  },
  {
   "cell_type": "code",
   "execution_count": 73,
   "id": "93af0fd3-9ab0-47ed-b0bb-7374971ccf61",
   "metadata": {},
   "outputs": [
    {
     "name": "stdout",
     "output_type": "stream",
     "text": [
      "sania\n",
      "20\n",
      "['playnig', 'readng', 'scrolling']\n",
      "bca\n"
     ]
    }
   ],
   "source": [
    "# iterating over value\n",
    "my_dict ={\n",
    "    \"name\":\"sania\",\n",
    "    \"age\":20,\n",
    "    \"hobbies\":[\"playnig\",\"readng\",\"scrolling\"],\n",
    "    \"education\":\"bca\"\n",
    "}\n",
    "for j in my_dict.values():\n",
    "    print(j)"
   ]
  },
  {
   "cell_type": "code",
   "execution_count": 71,
   "id": "ad721d1c-6bbb-4bb1-9d52-eddec641ca32",
   "metadata": {},
   "outputs": [
    {
     "name": "stdout",
     "output_type": "stream",
     "text": [
      "name: sania\n",
      "age: 20\n",
      "hobbies: ['playnig', 'readng', 'scrolling']\n",
      "education: bca\n"
     ]
    }
   ],
   "source": [
    "# iterating over key-vle pairs\n",
    "for i,j in my_dict.items():\n",
    "    print(f\"{i}: {j}\")"
   ]
  },
  {
   "cell_type": "markdown",
   "id": "ed60529b-b36c-4b91-9b85-72762aa154e5",
   "metadata": {},
   "source": [
    "## nested dic in python"
   ]
  },
  {
   "cell_type": "code",
   "execution_count": 76,
   "id": "7b835b68-04ae-4664-a0cc-ea40f0200008",
   "metadata": {},
   "outputs": [],
   "source": [
    "dict_new = {\"person1\":{\n",
    "    \"name\":\"sania\",\n",
    "    \"age\":20,\n",
    "    \"city\":\"bangalore\"\n",
    "},\n",
    "            \"person2\":{\n",
    "    \"name\":\"ren\",\n",
    "    \"age\":21,\n",
    "    \"city\":\"bangalore\"\n",
    "            }\n",
    "           }"
   ]
  },
  {
   "cell_type": "code",
   "execution_count": 78,
   "id": "9b250d4a-06c6-42dc-9c3f-7bad200ce6e8",
   "metadata": {},
   "outputs": [
    {
     "data": {
      "text/plain": [
       "{'person1': {'name': 'sania', 'age': 20, 'city': 'bangalore'},\n",
       " 'person2': {'name': 'ren', 'age': 21, 'city': 'bangalore'}}"
      ]
     },
     "execution_count": 78,
     "metadata": {},
     "output_type": "execute_result"
    }
   ],
   "source": [
    "dict_new"
   ]
  },
  {
   "cell_type": "markdown",
   "id": "f515106b-ee81-464f-b228-561bbb053b0b",
   "metadata": {},
   "source": [
    "### Accessing elements in dictionary"
   ]
  },
  {
   "cell_type": "code",
   "execution_count": 83,
   "id": "11a9fc64-eba5-4a6f-83ab-e0f92cd25550",
   "metadata": {},
   "outputs": [
    {
     "data": {
      "text/plain": [
       "20"
      ]
     },
     "execution_count": 83,
     "metadata": {},
     "output_type": "execute_result"
    }
   ],
   "source": [
    "dict_new[\"person1\"][\"age\"]\n"
   ]
  },
  {
   "cell_type": "code",
   "execution_count": 85,
   "id": "da4f2c65-0fe5-4227-a55b-34e03154cb08",
   "metadata": {},
   "outputs": [
    {
     "data": {
      "text/plain": [
       "'ren'"
      ]
     },
     "execution_count": 85,
     "metadata": {},
     "output_type": "execute_result"
    }
   ],
   "source": [
    "dict_new[\"person2\"][\"name\"]"
   ]
  },
  {
   "cell_type": "markdown",
   "id": "edfb2f25-de13-4f51-afa5-afd531bd0f2f",
   "metadata": {},
   "source": [
    "### modifying elements in dict"
   ]
  },
  {
   "cell_type": "code",
   "execution_count": 90,
   "id": "df00f008-46b1-44f1-8150-59bf434a773f",
   "metadata": {},
   "outputs": [],
   "source": [
    "dict_new[\"person2\"][\"name\"] = \"GHAMAD\""
   ]
  },
  {
   "cell_type": "code",
   "execution_count": 92,
   "id": "e8f2e26b-6c66-4ef7-b823-d90938272e2e",
   "metadata": {},
   "outputs": [
    {
     "data": {
      "text/plain": [
       "'GHAMAD'"
      ]
     },
     "execution_count": 92,
     "metadata": {},
     "output_type": "execute_result"
    }
   ],
   "source": [
    "dict_new[\"person2\"][\"name\"]"
   ]
  },
  {
   "cell_type": "markdown",
   "id": "f3d1cf70-502c-47b9-ad5c-d36e94b013aa",
   "metadata": {},
   "source": [
    "### adding a new dic to nested dictionary"
   ]
  },
  {
   "cell_type": "code",
   "execution_count": 95,
   "id": "70565775-6db4-47f9-90ea-876839278d42",
   "metadata": {},
   "outputs": [],
   "source": [
    "dict_new[\"person3\"] = {\n",
    "    \"name\":\"OPPA\",\n",
    "    \"age\":23,\n",
    "    \"city\":\"south\"\n",
    "            }"
   ]
  },
  {
   "cell_type": "code",
   "execution_count": 97,
   "id": "0aa86855-8a3d-4025-872a-ece13a6a53b5",
   "metadata": {},
   "outputs": [
    {
     "data": {
      "text/plain": [
       "{'person1': {'name': 'sania', 'age': 20, 'city': 'bangalore'},\n",
       " 'person2': {'name': 'GHAMAD', 'age': 21, 'city': 'bangalore'},\n",
       " 'person3': {'name': 'OPPA', 'age': 23, 'city': 'south'}}"
      ]
     },
     "execution_count": 97,
     "metadata": {},
     "output_type": "execute_result"
    }
   ],
   "source": [
    "dict_new"
   ]
  },
  {
   "cell_type": "markdown",
   "id": "e07aead0-4733-427a-818c-15626f0a5933",
   "metadata": {},
   "source": [
    "## usind del statement"
   ]
  },
  {
   "cell_type": "code",
   "execution_count": 107,
   "id": "86cc768a-26d4-4129-858f-8b346399e2de",
   "metadata": {},
   "outputs": [],
   "source": [
    "my_dict ={\n",
    "    \"name\":\"sania\",\n",
    "    \"age\":20,\n",
    "    \"hobbies\":[\"playnig\",\"readng\",\"scrolling\"],\n",
    "    \"education\":\"bca\"\n",
    "}\n"
   ]
  },
  {
   "cell_type": "code",
   "execution_count": 109,
   "id": "6cf56248-7627-41f1-b551-addcc2777b1b",
   "metadata": {},
   "outputs": [],
   "source": [
    "del my_dict[\"age\"]"
   ]
  },
  {
   "cell_type": "code",
   "execution_count": 111,
   "id": "f73bf25b-f7a5-4bb2-bbd6-bb4c71fdb936",
   "metadata": {},
   "outputs": [
    {
     "data": {
      "text/plain": [
       "{'name': 'sania',\n",
       " 'hobbies': ['playnig', 'readng', 'scrolling'],\n",
       " 'education': 'bca'}"
      ]
     },
     "execution_count": 111,
     "metadata": {},
     "output_type": "execute_result"
    }
   ],
   "source": [
    "my_dict"
   ]
  },
  {
   "cell_type": "markdown",
   "id": "d2ae75a3-3e7a-4953-bdb8-d466391a06e7",
   "metadata": {},
   "source": [
    "### membership operator on dictionary"
   ]
  },
  {
   "cell_type": "code",
   "execution_count": null,
   "id": "7f151fe4-38ec-4005-8290-b1d949bee12a",
   "metadata": {},
   "outputs": [],
   "source": [
    "*in operator\n",
    "*not in oprator"
   ]
  },
  {
   "cell_type": "code",
   "execution_count": 116,
   "id": "d460b62d-a574-45ec-9fc5-d122b868f1b1",
   "metadata": {},
   "outputs": [
    {
     "data": {
      "text/plain": [
       "True"
      ]
     },
     "execution_count": 116,
     "metadata": {},
     "output_type": "execute_result"
    }
   ],
   "source": [
    "my_dict ={\n",
    "    \"name\":\"sania\",\n",
    "    \"age\":20,\n",
    "    \"hobbies\":[\"playnig\",\"readng\",\"scrolling\"],\n",
    "    \"education\":\"bca\"\n",
    "}\n",
    "\"age\" in my_dict"
   ]
  },
  {
   "cell_type": "code",
   "execution_count": 118,
   "id": "510609ec-8ffb-457a-b3ef-3adb38d48aa6",
   "metadata": {},
   "outputs": [
    {
     "data": {
      "text/plain": [
       "False"
      ]
     },
     "execution_count": 118,
     "metadata": {},
     "output_type": "execute_result"
    }
   ],
   "source": [
    "my_dict ={\n",
    "    \"name\":\"sania\",\n",
    "    \"age\":20,\n",
    "    \"hobbies\":[\"playnig\",\"readng\",\"scrolling\"],\n",
    "    \"education\":\"bca\"\n",
    "}\n",
    "\"age\" not in my_dict"
   ]
  },
  {
   "cell_type": "markdown",
   "id": "9d86d9a6-6037-4606-a39f-cc862b25cfe3",
   "metadata": {},
   "source": [
    "## Dictionary comprehension"
   ]
  },
  {
   "cell_type": "code",
   "execution_count": null,
   "id": "e932f32a-635d-41bb-9247-dfa1d7e3df5b",
   "metadata": {},
   "outputs": [],
   "source": [
    "1. basic dictionary comprehensio"
   ]
  },
  {
   "cell_type": "code",
   "execution_count": 121,
   "id": "09cc3c4e-19f6-4437-9b31-86832a38b568",
   "metadata": {},
   "outputs": [
    {
     "data": {
      "text/plain": [
       "{1: 1, 2: 4, 3: 9, 4: 16, 5: 25}"
      ]
     },
     "execution_count": 121,
     "metadata": {},
     "output_type": "execute_result"
    }
   ],
   "source": [
    "{i: i**2 for i in range(1,6)}"
   ]
  },
  {
   "cell_type": "code",
   "execution_count": 123,
   "id": "568db3a6-ffdf-4a8f-ad32-ff2589cb33b6",
   "metadata": {},
   "outputs": [
    {
     "name": "stdout",
     "output_type": "stream",
     "text": [
      "{1: 1, 2: 4, 3: 9, 4: 16, 5: 25}\n"
     ]
    }
   ],
   "source": [
    "squares = {i:i**2 for i in range(1,6)}\n",
    "print(squares)"
   ]
  },
  {
   "cell_type": "markdown",
   "id": "f5c5f2f2-eab6-40bf-af8e-ae0f9a931c0b",
   "metadata": {},
   "source": [
    "### Dictionary comprehensionwith codition\n"
   ]
  },
  {
   "cell_type": "code",
   "execution_count": 128,
   "id": "b62d522b-07a5-434a-876f-1e285ba6e19c",
   "metadata": {},
   "outputs": [
    {
     "name": "stdout",
     "output_type": "stream",
     "text": [
      "{2: 8, 4: 64, 6: 216, 8: 512, 10: 1000}\n"
     ]
    }
   ],
   "source": [
    "cubes = {x: x**3 for x in range (1,11) if x%2 ==0}\n",
    "print(cubes)"
   ]
  },
  {
   "cell_type": "markdown",
   "id": "95ca984c-4875-4654-b549-5f15ac61116e",
   "metadata": {},
   "source": [
    "### Advantages of Dictionary"
   ]
  },
  {
   "cell_type": "code",
   "execution_count": null,
   "id": "a9e16aa6-9cd2-4eae-b5fe-85f295570e70",
   "metadata": {},
   "outputs": [],
   "source": [
    "*conciseness\n",
    "*readability\n",
    "*fficiency"
   ]
  }
 ],
 "metadata": {
  "kernelspec": {
   "display_name": "Python [conda env:New folder]",
   "language": "python",
   "name": "conda-env-New_folder-py"
  },
  "language_info": {
   "codemirror_mode": {
    "name": "ipython",
    "version": 3
   },
   "file_extension": ".py",
   "mimetype": "text/x-python",
   "name": "python",
   "nbconvert_exporter": "python",
   "pygments_lexer": "ipython3",
   "version": "3.12.7"
  }
 },
 "nbformat": 4,
 "nbformat_minor": 5
}
