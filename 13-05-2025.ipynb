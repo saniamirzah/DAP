{
 "cells": [
  {
   "cell_type": "markdown",
   "id": "6c604665-8c81-4d5b-921e-70f9d0964ab7",
   "metadata": {},
   "source": [
    "# sets in python"
   ]
  },
  {
   "cell_type": "code",
   "execution_count": 10,
   "id": "7f04c772-7ef8-42c9-9322-a98206a73f55",
   "metadata": {},
   "outputs": [
    {
     "data": {
      "text/plain": [
       "{1, 2, 3, 4, 5, 6, 7, 9, 10}"
      ]
     },
     "execution_count": 10,
     "metadata": {},
     "output_type": "execute_result"
    }
   ],
   "source": [
    "set = {1,2,3,4,5,6,7,4,3,2,9,10} # num are not repeated\n",
    "set"
   ]
  },
  {
   "cell_type": "code",
   "execution_count": null,
   "id": "fd15b3ea-04ed-4706-a704-8dd62c1d9ac4",
   "metadata": {},
   "outputs": [],
   "source": [
    "3. mutable"
   ]
  },
  {
   "cell_type": "code",
   "execution_count": 16,
   "id": "fdc98fae-e38f-493f-90d4-119624c277be",
   "metadata": {},
   "outputs": [
    {
     "data": {
      "text/plain": [
       "{1, 2, 3, 8}"
      ]
     },
     "execution_count": 16,
     "metadata": {},
     "output_type": "execute_result"
    }
   ],
   "source": [
    "my_set = {1,2,3}\n",
    "my_set.add(8)\n",
    "my_set"
   ]
  },
  {
   "cell_type": "code",
   "execution_count": null,
   "id": "93af2c35-c827-43ca-89cd-780e5fa0d308",
   "metadata": {},
   "outputs": [],
   "source": [
    "4.no indexing"
   ]
  },
  {
   "cell_type": "code",
   "execution_count": 18,
   "id": "cdf21783-8fdd-4521-bdb7-7b64d9a226ef",
   "metadata": {},
   "outputs": [
    {
     "name": "stdout",
     "output_type": "stream",
     "text": [
      "1\n",
      "2\n",
      "3\n"
     ]
    }
   ],
   "source": [
    "my_set = {1,2,3}\n",
    "for item in my_set:\n",
    "    print(item)"
   ]
  },
  {
   "cell_type": "code",
   "execution_count": null,
   "id": "34ea28cc-5aa7-4aaf-b52a-7b17f935aae6",
   "metadata": {},
   "outputs": [],
   "source": [
    "set itself is mutable it cannot hold mutable data types"
   ]
  },
  {
   "cell_type": "markdown",
   "id": "3486df60-27e2-458b-8898-2527903826e2",
   "metadata": {},
   "source": [
    "# set methods"
   ]
  },
  {
   "cell_type": "code",
   "execution_count": null,
   "id": "6bceda2f-78cc-48a6-82dc-37b82a5a6244",
   "metadata": {},
   "outputs": [],
   "source": [
    "1.add()"
   ]
  },
  {
   "cell_type": "code",
   "execution_count": 25,
   "id": "b26f0e41-ee9d-4f23-ba79-d1786e19ab90",
   "metadata": {},
   "outputs": [
    {
     "data": {
      "text/plain": [
       "{1, 2, 3, 6, 55}"
      ]
     },
     "execution_count": 25,
     "metadata": {},
     "output_type": "execute_result"
    }
   ],
   "source": [
    "my_set = {1,2,3}\n",
    "my_set.add(55) # only 1 value is added at once\n",
    "my_set.add(6)\n",
    "my_set"
   ]
  },
  {
   "cell_type": "code",
   "execution_count": null,
   "id": "1f9b0825-4be7-45b4-8141-4651ddceab60",
   "metadata": {},
   "outputs": [],
   "source": [
    "2.update() used to add multiple values"
   ]
  },
  {
   "cell_type": "code",
   "execution_count": 29,
   "id": "8fc0a708-fd8f-4430-bfa4-2e4cd429d2ba",
   "metadata": {},
   "outputs": [
    {
     "data": {
      "text/plain": [
       "{1, 2, 3, 4, 5, 6, 7}"
      ]
     },
     "execution_count": 29,
     "metadata": {},
     "output_type": "execute_result"
    }
   ],
   "source": [
    "my_set = {1,2,3}\n",
    "my_set.update([4,5,6,7]) #here square braket is important or else error is shown\n",
    "my_set"
   ]
  },
  {
   "cell_type": "code",
   "execution_count": null,
   "id": "d5dd75d7-a85f-4966-87ca-0e9a5dbb5c3e",
   "metadata": {},
   "outputs": [],
   "source": [
    "3.remove()"
   ]
  },
  {
   "cell_type": "code",
   "execution_count": 33,
   "id": "660f7ed1-317f-4c32-a9ba-becc2692a566",
   "metadata": {},
   "outputs": [
    {
     "data": {
      "text/plain": [
       "{2, 3}"
      ]
     },
     "execution_count": 33,
     "metadata": {},
     "output_type": "execute_result"
    }
   ],
   "source": [
    "my_set = {1,2,3}\n",
    "my_set.remove(1) #here only on argumet\n",
    "my_set"
   ]
  },
  {
   "cell_type": "code",
   "execution_count": null,
   "id": "171e0658-d09f-44ad-8ca0-5b47703eb4fe",
   "metadata": {},
   "outputs": [],
   "source": [
    "4.discard()"
   ]
  },
  {
   "cell_type": "code",
   "execution_count": 35,
   "id": "f96e0c5d-063b-4122-92fd-b0a0dfd3ed57",
   "metadata": {},
   "outputs": [
    {
     "data": {
      "text/plain": [
       "{1, 2, 3}"
      ]
     },
     "execution_count": 35,
     "metadata": {},
     "output_type": "execute_result"
    }
   ],
   "source": [
    "my_set = {1,2,3}\n",
    "my_set.discard(20) #it shows no error even if  the ele is not present\n",
    "my_set"
   ]
  },
  {
   "cell_type": "code",
   "execution_count": null,
   "id": "bf2f2b41-f4d2-4e1e-9b7b-c38d26c35fbd",
   "metadata": {},
   "outputs": [],
   "source": [
    "5.pop()"
   ]
  },
  {
   "cell_type": "code",
   "execution_count": 37,
   "id": "e231f6c6-3560-48b9-be49-4208605a852d",
   "metadata": {},
   "outputs": [
    {
     "data": {
      "text/plain": [
       "{2, 3}"
      ]
     },
     "execution_count": 37,
     "metadata": {},
     "output_type": "execute_result"
    }
   ],
   "source": [
    "my_set = {1,2,3}\n",
    "my_set.pop() #remove the random elment\n",
    "my_set"
   ]
  },
  {
   "cell_type": "code",
   "execution_count": 41,
   "id": "202066a2-57bf-4c52-b522-ab6bddaf2543",
   "metadata": {},
   "outputs": [
    {
     "data": {
      "text/plain": [
       "3"
      ]
     },
     "execution_count": 41,
     "metadata": {},
     "output_type": "execute_result"
    }
   ],
   "source": [
    "my_set.pop()"
   ]
  },
  {
   "cell_type": "code",
   "execution_count": 43,
   "id": "9be09bba-c362-48eb-bdfe-58f055cee5e3",
   "metadata": {},
   "outputs": [
    {
     "data": {
      "text/plain": [
       "set()"
      ]
     },
     "execution_count": 43,
     "metadata": {},
     "output_type": "execute_result"
    }
   ],
   "source": [
    "my_set"
   ]
  },
  {
   "cell_type": "code",
   "execution_count": null,
   "id": "7fcc9d7e-2e6a-4d1e-8d9f-be8f0c624cb7",
   "metadata": {},
   "outputs": [],
   "source": [
    "6.clear()"
   ]
  },
  {
   "cell_type": "code",
   "execution_count": 47,
   "id": "be67e8f6-426b-4b59-b267-4631fc1c276e",
   "metadata": {},
   "outputs": [
    {
     "data": {
      "text/plain": [
       "set()"
      ]
     },
     "execution_count": 47,
     "metadata": {},
     "output_type": "execute_result"
    }
   ],
   "source": [
    "my_set = {1,2,3}\n",
    "my_set.clear()\n",
    "my_set"
   ]
  },
  {
   "cell_type": "code",
   "execution_count": null,
   "id": "8a41de98-02fe-43d5-b758-9f2eefc88699",
   "metadata": {},
   "outputs": [],
   "source": [
    "7.union()"
   ]
  },
  {
   "cell_type": "code",
   "execution_count": 49,
   "id": "64064061-cc76-4055-8fdb-6c9c751fb244",
   "metadata": {},
   "outputs": [
    {
     "data": {
      "text/plain": [
       "{1, 2, 3, 4, 5, 6, 7, 8}"
      ]
     },
     "execution_count": 49,
     "metadata": {},
     "output_type": "execute_result"
    }
   ],
   "source": [
    "set1 = {1,2,3,4}\n",
    "set2 = {5,6,7,8} #it joins to set\n",
    "set1.union(set2)"
   ]
  },
  {
   "cell_type": "code",
   "execution_count": null,
   "id": "a66b8e7e-1539-45de-bc3a-6efe2e9050ef",
   "metadata": {},
   "outputs": [],
   "source": [
    "8.intersection()"
   ]
  },
  {
   "cell_type": "code",
   "execution_count": 53,
   "id": "658cc2b1-6dcb-47ac-9ac0-d829393551e2",
   "metadata": {},
   "outputs": [
    {
     "data": {
      "text/plain": [
       "{1, 2, 4}"
      ]
     },
     "execution_count": 53,
     "metadata": {},
     "output_type": "execute_result"
    }
   ],
   "source": [
    "set1 = {1,2,3,4}\n",
    "set2 = {1,4,2} \n",
    "set1.intersection(set2) # repeated ele are printed"
   ]
  },
  {
   "cell_type": "code",
   "execution_count": null,
   "id": "a955c14b-7bf6-4ba0-989c-57abcb5a8139",
   "metadata": {},
   "outputs": [],
   "source": [
    "9.difference()"
   ]
  },
  {
   "cell_type": "code",
   "execution_count": 63,
   "id": "5dd0bcbd-c55f-4d73-8c92-d6867b2020fc",
   "metadata": {},
   "outputs": [
    {
     "data": {
      "text/plain": [
       "{3, 5}"
      ]
     },
     "execution_count": 63,
     "metadata": {},
     "output_type": "execute_result"
    }
   ],
   "source": [
    "set1 = {1,2,3,4,5}\n",
    "set2 = {1,4,2} \n",
    "set1.difference(set2) #here ele which is not present in set 2 that is printed"
   ]
  },
  {
   "cell_type": "code",
   "execution_count": null,
   "id": "676d3061-5c58-4e06-ab87-37326834b404",
   "metadata": {},
   "outputs": [],
   "source": [
    "10.symmetric difference()"
   ]
  },
  {
   "cell_type": "code",
   "execution_count": 67,
   "id": "f09a1f4f-a31c-4eb5-99a8-85b4065c52a7",
   "metadata": {},
   "outputs": [
    {
     "data": {
      "text/plain": [
       "{3, 5, 6}"
      ]
     },
     "execution_count": 67,
     "metadata": {},
     "output_type": "execute_result"
    }
   ],
   "source": [
    "set1 = {1,2,3,4,5}\n",
    "set2 = {1,4,2,6} \n",
    "set1.symmetric_difference(set2) # here which ele is not common that r printed"
   ]
  },
  {
   "cell_type": "code",
   "execution_count": null,
   "id": "86d7270a-71c1-4b30-9ee6-b784f128dbac",
   "metadata": {},
   "outputs": [],
   "source": [
    "11.issubset()"
   ]
  },
  {
   "cell_type": "code",
   "execution_count": 69,
   "id": "af06bd54-c5eb-4e84-aa03-246ea5e35972",
   "metadata": {},
   "outputs": [
    {
     "data": {
      "text/plain": [
       "False"
      ]
     },
     "execution_count": 69,
     "metadata": {},
     "output_type": "execute_result"
    }
   ],
   "source": [
    "set1 = {1,2,3,4,5}\n",
    "set2 = {1,4,2,6} # if in both set ele are not equalit will print false\n",
    "set1.issubset(set2) "
   ]
  },
  {
   "cell_type": "code",
   "execution_count": 73,
   "id": "a0c927a3-90a7-444b-b645-7c4d21039263",
   "metadata": {},
   "outputs": [
    {
     "data": {
      "text/plain": [
       "True"
      ]
     },
     "execution_count": 73,
     "metadata": {},
     "output_type": "execute_result"
    }
   ],
   "source": [
    "set1 = {1,2,3,4,5}\n",
    "set2 = {1,2,3,4,5} # if in both set ele are not equalit will print false\n",
    "set1.issubset(set2) "
   ]
  },
  {
   "cell_type": "code",
   "execution_count": null,
   "id": "92f626e8-ecfc-48bf-a555-29b84733a983",
   "metadata": {},
   "outputs": [],
   "source": [
    "12.issuperset()"
   ]
  },
  {
   "cell_type": "code",
   "execution_count": 81,
   "id": "a5418572-4799-4746-8dce-3814ac686847",
   "metadata": {},
   "outputs": [
    {
     "data": {
      "text/plain": [
       "True"
      ]
     },
     "execution_count": 81,
     "metadata": {},
     "output_type": "execute_result"
    }
   ],
   "source": [
    "set1 ={1,2,3}\n",
    "set2 ={1,2,3} #here it checks if set1 has all the ele of set2 if not it gives false\n",
    "set1.issuperset(set2)"
   ]
  },
  {
   "cell_type": "code",
   "execution_count": null,
   "id": "f5873579-a01a-4940-a844-eb8c53a62072",
   "metadata": {},
   "outputs": [],
   "source": [
    "13.isdisjoint() returns true if the sets have no ele in common"
   ]
  },
  {
   "cell_type": "code",
   "execution_count": 83,
   "id": "cb979f8d-cf81-4fa3-9d10-7d88c2443f23",
   "metadata": {},
   "outputs": [
    {
     "data": {
      "text/plain": [
       "False"
      ]
     },
     "execution_count": 83,
     "metadata": {},
     "output_type": "execute_result"
    }
   ],
   "source": [
    "set1 ={1,2,3}\n",
    "set2 ={1,2,3} \n",
    "set1.isdisjoint(set2)"
   ]
  },
  {
   "cell_type": "code",
   "execution_count": 85,
   "id": "5c4f59d4-af5d-44f0-bbdd-d9d0801a9b02",
   "metadata": {},
   "outputs": [
    {
     "data": {
      "text/plain": [
       "True"
      ]
     },
     "execution_count": 85,
     "metadata": {},
     "output_type": "execute_result"
    }
   ],
   "source": [
    "set1 = {1,2,3,4}\n",
    "set2 = {5,6,7,8} #it joins to set\n",
    "set1.isdisjoint(set2)"
   ]
  },
  {
   "cell_type": "code",
   "execution_count": null,
   "id": "3d7b9abe-13e3-4326-941c-09f774051bb7",
   "metadata": {},
   "outputs": [],
   "source": [
    "14.copy() returns the copy of given set"
   ]
  },
  {
   "cell_type": "code",
   "execution_count": 89,
   "id": "33e64437-4052-4a2d-b0b2-c359cdf46a67",
   "metadata": {},
   "outputs": [
    {
     "data": {
      "text/plain": [
       "{1, 2, 3, 4}"
      ]
     },
     "execution_count": 89,
     "metadata": {},
     "output_type": "execute_result"
    }
   ],
   "source": [
    "set1 = {1,2,3,4}\n",
    "set_copy = set1.copy()\n",
    "set_copy"
   ]
  },
  {
   "cell_type": "code",
   "execution_count": null,
   "id": "7e3f3313-0235-4bce-be11-319dae06c712",
   "metadata": {},
   "outputs": [],
   "source": [
    ">>>frozenset() it converts mutable to immutable"
   ]
  },
  {
   "cell_type": "code",
   "execution_count": 91,
   "id": "c3e13a80-9201-4339-be67-2e1660376f96",
   "metadata": {},
   "outputs": [
    {
     "data": {
      "text/plain": [
       "{1, 2, 3, 8}"
      ]
     },
     "execution_count": 91,
     "metadata": {},
     "output_type": "execute_result"
    }
   ],
   "source": [
    "my_set = {1,2,3}\n",
    "my_set.add(8)\n",
    "my_set"
   ]
  },
  {
   "cell_type": "code",
   "execution_count": 93,
   "id": "9e2d7fb7-672a-4024-aa40-83b43636c7cb",
   "metadata": {},
   "outputs": [],
   "source": [
    "a = frozenset(my_set)"
   ]
  },
  {
   "cell_type": "code",
   "execution_count": 95,
   "id": "4bf3a791-29f0-4e44-8426-cdcb2aab5ef0",
   "metadata": {},
   "outputs": [
    {
     "data": {
      "text/plain": [
       "frozenset({1, 2, 3, 8})"
      ]
     },
     "execution_count": 95,
     "metadata": {},
     "output_type": "execute_result"
    }
   ],
   "source": [
    "a"
   ]
  },
  {
   "cell_type": "code",
   "execution_count": 97,
   "id": "5815d82c-7c43-4d8d-92ae-070126a31783",
   "metadata": {},
   "outputs": [
    {
     "ename": "AttributeError",
     "evalue": "'frozenset' object has no attribute 'add'",
     "output_type": "error",
     "traceback": [
      "\u001b[1;31m---------------------------------------------------------------------------\u001b[0m",
      "\u001b[1;31mAttributeError\u001b[0m                            Traceback (most recent call last)",
      "Cell \u001b[1;32mIn[97], line 1\u001b[0m\n\u001b[1;32m----> 1\u001b[0m a\u001b[38;5;241m.\u001b[39madd(\u001b[38;5;241m9\u001b[39m)\n",
      "\u001b[1;31mAttributeError\u001b[0m: 'frozenset' object has no attribute 'add'"
     ]
    }
   ],
   "source": [
    "a.add(9) #once frozen set is created it cannot be changed"
   ]
  },
  {
   "cell_type": "markdown",
   "id": "ea95164a-02da-48b1-bf5e-a0c5c4507250",
   "metadata": {},
   "source": [
    "# PYTHON FUNCTION ON SET"
   ]
  },
  {
   "cell_type": "code",
   "execution_count": 114,
   "id": "5769240c-00e4-4d32-8972-4feb9a3daf82",
   "metadata": {},
   "outputs": [],
   "source": [
    "1.len()"
   ]
  },
  {
   "cell_type": "code",
   "execution_count": 118,
   "id": "59692a4d-031f-4034-a16d-b5dbe207417f",
   "metadata": {},
   "outputs": [
    {
     "data": {
      "text/plain": [
       "5"
      ]
     },
     "execution_count": 118,
     "metadata": {},
     "output_type": "execute_result"
    }
   ],
   "source": [
    "set1 = {0,2,8,3,6,3}\n",
    "len(set1)"
   ]
  },
  {
   "cell_type": "code",
   "execution_count": null,
   "id": "92cbb90d-67e0-44df-b517-8633aa12881c",
   "metadata": {},
   "outputs": [],
   "source": [
    "2.max()"
   ]
  },
  {
   "cell_type": "code",
   "execution_count": 106,
   "id": "1ee04ffd-9af6-4b2d-b5a5-86bc1a083d76",
   "metadata": {},
   "outputs": [
    {
     "data": {
      "text/plain": [
       "7"
      ]
     },
     "execution_count": 106,
     "metadata": {},
     "output_type": "execute_result"
    }
   ],
   "source": [
    "set1 = {1,2,3,7}\n",
    "max(set1)"
   ]
  },
  {
   "cell_type": "code",
   "execution_count": null,
   "id": "d0643d1f-e76f-4fdb-8691-8169b0e8526e",
   "metadata": {},
   "outputs": [],
   "source": [
    "3.min()"
   ]
  },
  {
   "cell_type": "code",
   "execution_count": 108,
   "id": "340c16f1-0005-41e7-be15-b71562531aaf",
   "metadata": {},
   "outputs": [
    {
     "data": {
      "text/plain": [
       "1"
      ]
     },
     "execution_count": 108,
     "metadata": {},
     "output_type": "execute_result"
    }
   ],
   "source": [
    "set1 = {1,2,3,7}\n",
    "min(set1)"
   ]
  },
  {
   "cell_type": "code",
   "execution_count": null,
   "id": "0c39f2c7-d84a-4b20-8411-d73bd534ff21",
   "metadata": {},
   "outputs": [],
   "source": [
    "4.sum()"
   ]
  },
  {
   "cell_type": "code",
   "execution_count": 122,
   "id": "98387ddc-9ec1-4d3e-9a58-39d5168a064b",
   "metadata": {},
   "outputs": [
    {
     "data": {
      "text/plain": [
       "13"
      ]
     },
     "execution_count": 122,
     "metadata": {},
     "output_type": "execute_result"
    }
   ],
   "source": [
    "set1 = {1,2,3,7}\n",
    "sum(set1)"
   ]
  },
  {
   "cell_type": "code",
   "execution_count": null,
   "id": "f6051849-35bf-4c59-9d87-b70ef081dffa",
   "metadata": {},
   "outputs": [],
   "source": [
    "5.sorted()"
   ]
  },
  {
   "cell_type": "code",
   "execution_count": 124,
   "id": "883a3c66-7d77-4771-9cca-f478694a3ddb",
   "metadata": {},
   "outputs": [
    {
     "data": {
      "text/plain": [
       "[1, 2, 3, 5, 6, 7, 9, 10, 11]"
      ]
     },
     "execution_count": 124,
     "metadata": {},
     "output_type": "execute_result"
    }
   ],
   "source": [
    "set1 = {1,2,3,3,9,7,5,2,10,11,6}\n",
    "sorted(set1)"
   ]
  },
  {
   "cell_type": "code",
   "execution_count": null,
   "id": "6e0ebf51-eb9b-48fa-a669-6f0a79bccfa4",
   "metadata": {},
   "outputs": [],
   "source": [
    "6.any() returns true if any value in set i s true "
   ]
  },
  {
   "cell_type": "code",
   "execution_count": 128,
   "id": "d0766842-5bb5-424c-999f-e0edf8adab49",
   "metadata": {},
   "outputs": [
    {
     "data": {
      "text/plain": [
       "True"
      ]
     },
     "execution_count": 128,
     "metadata": {},
     "output_type": "execute_result"
    }
   ],
   "source": [
    "set1 = {1,2,3,3,9,7,5,2,10,11,6}\n",
    "any(set1)"
   ]
  },
  {
   "cell_type": "code",
   "execution_count": null,
   "id": "2f8b8654-ce38-4383-81c8-e056a63524ea",
   "metadata": {},
   "outputs": [],
   "source": [
    "7.all() returns true if all the value in the set is true"
   ]
  },
  {
   "cell_type": "code",
   "execution_count": 132,
   "id": "117a09b3-e1ad-4886-abe5-edeb93e55aea",
   "metadata": {},
   "outputs": [
    {
     "data": {
      "text/plain": [
       "False"
      ]
     },
     "execution_count": 132,
     "metadata": {},
     "output_type": "execute_result"
    }
   ],
   "source": [
    "set1 = {1,2,3,3,9,7,5,2,10,-1,False}\n",
    "all(set1)"
   ]
  },
  {
   "cell_type": "code",
   "execution_count": null,
   "id": "fbed80b4-da13-4f50-b4aa-1624dcf2d0a9",
   "metadata": {},
   "outputs": [],
   "source": [
    "9.set converts an iterable to a set removing duplicate"
   ]
  },
  {
   "cell_type": "code",
   "execution_count": 162,
   "id": "bcda8609-ae65-4572-9b65-7f110ee5bf78",
   "metadata": {},
   "outputs": [
    {
     "ename": "TypeError",
     "evalue": "'set' object is not callable",
     "output_type": "error",
     "traceback": [
      "\u001b[1;31m---------------------------------------------------------------------------\u001b[0m",
      "\u001b[1;31mTypeError\u001b[0m                                 Traceback (most recent call last)",
      "Cell \u001b[1;32mIn[162], line 2\u001b[0m\n\u001b[0;32m      1\u001b[0m my_list \u001b[38;5;241m=\u001b[39m [\u001b[38;5;241m1\u001b[39m,\u001b[38;5;241m2\u001b[39m,\u001b[38;5;241m1\u001b[39m,\u001b[38;5;241m2\u001b[39m,\u001b[38;5;241m3\u001b[39m,\u001b[38;5;241m4\u001b[39m,\u001b[38;5;241m3\u001b[39m,\u001b[38;5;241m5\u001b[39m,\u001b[38;5;241m6\u001b[39m,\u001b[38;5;241m5\u001b[39m,\u001b[38;5;241m7\u001b[39m,\u001b[38;5;241m9\u001b[39m,\u001b[38;5;241m7\u001b[39m,\u001b[38;5;241m8\u001b[39m,\u001b[38;5;241m9\u001b[39m]\n\u001b[1;32m----> 2\u001b[0m my_set \u001b[38;5;241m=\u001b[39m \u001b[38;5;28mset\u001b[39m(my_list)\n\u001b[0;32m      3\u001b[0m my_set\n",
      "\u001b[1;31mTypeError\u001b[0m: 'set' object is not callable"
     ]
    }
   ],
   "source": [
    "my_list = [1,2,1,2,3,4,3,5,6,5,7,9,7,8,9]\n",
    "my_set = set(my_list)\n",
    "my_set"
   ]
  },
  {
   "cell_type": "code",
   "execution_count": null,
   "id": "b88f130d-b526-47b7-9713-fbb7d7dd959d",
   "metadata": {},
   "outputs": [],
   "source": [
    "basic set comprehension"
   ]
  },
  {
   "cell_type": "code",
   "execution_count": 150,
   "id": "09ec2504-c9fb-4b44-8e26-f9a25345eff6",
   "metadata": {},
   "outputs": [
    {
     "name": "stdout",
     "output_type": "stream",
     "text": [
      "{1, 4, 9, 16, 25}\n"
     ]
    }
   ],
   "source": [
    "num = [1,2,3,4,5]\n",
    "squares_set = {x**2 for x in num}\n",
    "print(squares_set)"
   ]
  },
  {
   "cell_type": "code",
   "execution_count": null,
   "id": "239951c4-a3dc-47f0-af5a-4a3f59c1ac29",
   "metadata": {},
   "outputs": [],
   "source": [
    "set comprehension with a condition"
   ]
  },
  {
   "cell_type": "code",
   "execution_count": 154,
   "id": "79256bd4-6a78-4ca1-9a70-49e519ed6ed3",
   "metadata": {},
   "outputs": [
    {
     "data": {
      "text/plain": [
       "{4, 16}"
      ]
     },
     "execution_count": 154,
     "metadata": {},
     "output_type": "execute_result"
    }
   ],
   "source": [
    "num = [1,2,3,4,5]\n",
    "even_squares_set = {x**2 for x in num if x%2 ==0}\n",
    "even_squares_set"
   ]
  },
  {
   "cell_type": "code",
   "execution_count": null,
   "id": "9ec5e7bf-1fd4-4445-965c-f6f308a91025",
   "metadata": {},
   "outputs": [],
   "source": []
  },
  {
   "cell_type": "code",
   "execution_count": null,
   "id": "dca8d716-1108-441a-906b-344710defaad",
   "metadata": {},
   "outputs": [],
   "source": []
  },
  {
   "cell_type": "code",
   "execution_count": null,
   "id": "96c19ae9-49eb-4857-80ad-396442f80874",
   "metadata": {},
   "outputs": [],
   "source": []
  },
  {
   "cell_type": "code",
   "execution_count": null,
   "id": "357dec04-a3a2-415d-85be-8e28f9dea824",
   "metadata": {},
   "outputs": [],
   "source": []
  }
 ],
 "metadata": {
  "kernelspec": {
   "display_name": "Python [conda env:New folder]",
   "language": "python",
   "name": "conda-env-New_folder-py"
  },
  "language_info": {
   "codemirror_mode": {
    "name": "ipython",
    "version": 3
   },
   "file_extension": ".py",
   "mimetype": "text/x-python",
   "name": "python",
   "nbconvert_exporter": "python",
   "pygments_lexer": "ipython3",
   "version": "3.12.7"
  }
 },
 "nbformat": 4,
 "nbformat_minor": 5
}
