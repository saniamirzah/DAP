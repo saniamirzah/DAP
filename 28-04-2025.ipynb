{
 "cells": [
  {
   "cell_type": "markdown",
   "id": "72912946-125d-4c38-a1b3-a04eb62d8b59",
   "metadata": {},
   "source": [
    "## type conversion:\n",
    "converting 1 data type to another is known as type convertion"
   ]
  },
  {
   "cell_type": "code",
   "execution_count": 5,
   "id": "12ae917a-26cd-463a-b940-72dbfbb38160",
   "metadata": {},
   "outputs": [],
   "source": [
    "a = 555 "
   ]
  },
  {
   "cell_type": "code",
   "execution_count": 7,
   "id": "fcaf6358-817a-48d2-a0c4-ab93f8616e7e",
   "metadata": {},
   "outputs": [
    {
     "data": {
      "text/plain": [
       "int"
      ]
     },
     "execution_count": 7,
     "metadata": {},
     "output_type": "execute_result"
    }
   ],
   "source": [
    "type(a)"
   ]
  },
  {
   "cell_type": "code",
   "execution_count": 9,
   "id": "94ad88f9-2452-4249-9ff2-7dd6f94245eb",
   "metadata": {},
   "outputs": [
    {
     "data": {
      "text/plain": [
       "555.0"
      ]
     },
     "execution_count": 9,
     "metadata": {},
     "output_type": "execute_result"
    }
   ],
   "source": [
    "float(a) #coverting int to float"
   ]
  },
  {
   "cell_type": "code",
   "execution_count": 11,
   "id": "ee0a4e5f-c924-4b19-94be-24da4b4125c7",
   "metadata": {},
   "outputs": [
    {
     "data": {
      "text/plain": [
       "'555'"
      ]
     },
     "execution_count": 11,
     "metadata": {},
     "output_type": "execute_result"
    }
   ],
   "source": [
    "str(a) #converting int to str"
   ]
  },
  {
   "cell_type": "code",
   "execution_count": 19,
   "id": "be450795-fbfe-4504-8e5b-ddf5ce8a9a25",
   "metadata": {},
   "outputs": [],
   "source": [
    "a = 500"
   ]
  },
  {
   "cell_type": "code",
   "execution_count": 21,
   "id": "a82c0943-9560-4e09-b65b-3005ced9d2e7",
   "metadata": {},
   "outputs": [
    {
     "data": {
      "text/plain": [
       "int"
      ]
     },
     "execution_count": 21,
     "metadata": {},
     "output_type": "execute_result"
    }
   ],
   "source": [
    "type(a)"
   ]
  },
  {
   "cell_type": "code",
   "execution_count": 23,
   "id": "5a4c22a3-7247-4301-9cfc-7f54f8723030",
   "metadata": {},
   "outputs": [
    {
     "data": {
      "text/plain": [
       "500.0"
      ]
     },
     "execution_count": 23,
     "metadata": {},
     "output_type": "execute_result"
    }
   ],
   "source": [
    "float(a)"
   ]
  },
  {
   "cell_type": "code",
   "execution_count": 29,
   "id": "3917d778-1dd7-4468-a803-b1c5ac851cbc",
   "metadata": {},
   "outputs": [
    {
     "data": {
      "text/plain": [
       "'500'"
      ]
     },
     "execution_count": 29,
     "metadata": {},
     "output_type": "execute_result"
    }
   ],
   "source": [
    "str(a)"
   ]
  },
  {
   "cell_type": "code",
   "execution_count": 31,
   "id": "edb2f254-dc5e-41c9-84e5-2e2027e4fb06",
   "metadata": {},
   "outputs": [],
   "source": [
    "int_value=10 #integer data type"
   ]
  },
  {
   "cell_type": "code",
   "execution_count": 33,
   "id": "dc285446-6f3a-4592-b29c-1a7f1969a00c",
   "metadata": {},
   "outputs": [
    {
     "data": {
      "text/plain": [
       "int"
      ]
     },
     "execution_count": 33,
     "metadata": {},
     "output_type": "execute_result"
    }
   ],
   "source": [
    "type(int_value)"
   ]
  },
  {
   "cell_type": "code",
   "execution_count": 35,
   "id": "dd3f9775-088b-4a11-85bd-c67043ad478f",
   "metadata": {},
   "outputs": [],
   "source": [
    "float_value=float(int_value) #converting it to float DT"
   ]
  },
  {
   "cell_type": "code",
   "execution_count": 37,
   "id": "5c927058-1bfd-4f09-ba09-d9d3b5321a82",
   "metadata": {},
   "outputs": [
    {
     "data": {
      "text/plain": [
       "float"
      ]
     },
     "execution_count": 37,
     "metadata": {},
     "output_type": "execute_result"
    }
   ],
   "source": [
    "type(float_value)"
   ]
  },
  {
   "cell_type": "markdown",
   "id": "0224f9eb-4378-46ec-a2c4-e3b5a41e820b",
   "metadata": {},
   "source": [
    "## TYPES OF TYPE CONVERTION\n",
    "1) Implicit type: it is atype conversion done by the python"
   ]
  },
  {
   "cell_type": "code",
   "execution_count": 39,
   "id": "b0ac414b-5671-48f7-aeb3-a5f37ba8a82d",
   "metadata": {},
   "outputs": [
    {
     "name": "stdout",
     "output_type": "stream",
     "text": [
      "11.8\n"
     ]
    }
   ],
   "source": [
    "print(6+5.8) #example"
   ]
  },
  {
   "cell_type": "code",
   "execution_count": 41,
   "id": "27577952-bef6-42f1-bb10-3fdab6f4fc5a",
   "metadata": {},
   "outputs": [
    {
     "name": "stdout",
     "output_type": "stream",
     "text": [
      "<class 'int'> <class 'float'>\n"
     ]
    }
   ],
   "source": [
    "print(type(6),type(5.8))"
   ]
  },
  {
   "cell_type": "code",
   "execution_count": null,
   "id": "d7e2b5a0-60a8-41a4-8027-7babe6257bfa",
   "metadata": {},
   "outputs": [],
   "source": [
    "2) explicit type: when a programmer explicitly written by user"
   ]
  },
  {
   "cell_type": "code",
   "execution_count": 43,
   "id": "488ca0ed-9d6c-4ab6-80cc-c9bd0c20c9f8",
   "metadata": {},
   "outputs": [],
   "source": [
    "a = 10 #example"
   ]
  },
  {
   "cell_type": "code",
   "execution_count": 45,
   "id": "628c3887-d81a-4f46-8c23-755d656bbc0f",
   "metadata": {},
   "outputs": [
    {
     "data": {
      "text/plain": [
       "int"
      ]
     },
     "execution_count": 45,
     "metadata": {},
     "output_type": "execute_result"
    }
   ],
   "source": [
    "type(a)"
   ]
  },
  {
   "cell_type": "code",
   "execution_count": 51,
   "id": "7bd9697f-6982-4841-a82d-0452cee1c87d",
   "metadata": {},
   "outputs": [
    {
     "data": {
      "text/plain": [
       "'10.0'"
      ]
     },
     "execution_count": 51,
     "metadata": {},
     "output_type": "execute_result"
    }
   ],
   "source": [
    "str(a) #converting to string"
   ]
  },
  {
   "cell_type": "code",
   "execution_count": 53,
   "id": "89bb3148-649b-42a4-98c5-630398e9df98",
   "metadata": {},
   "outputs": [
    {
     "data": {
      "text/plain": [
       "10.0"
      ]
     },
     "execution_count": 53,
     "metadata": {},
     "output_type": "execute_result"
    }
   ],
   "source": [
    "float(a)"
   ]
  },
  {
   "cell_type": "markdown",
   "id": "88ef3866-26f3-4ff9-9144-2a20411431ea",
   "metadata": {},
   "source": [
    "## WHAT IS SYNTAX"
   ]
  },
  {
   "cell_type": "code",
   "execution_count": null,
   "id": "68b3b693-5942-4101-978a-6478c2ffa246",
   "metadata": {},
   "outputs": [],
   "source": [
    "syntax refers to the set of rules that defines the structure of valid statements"
   ]
  },
  {
   "cell_type": "code",
   "execution_count": 58,
   "id": "f0639f7e-648c-4749-a823-f0781c0d9a0e",
   "metadata": {},
   "outputs": [
    {
     "name": "stdout",
     "output_type": "stream",
     "text": [
      "hello world !\n"
     ]
    }
   ],
   "source": [
    "print(\"hello world !\") # syntax to print "
   ]
  },
  {
   "cell_type": "markdown",
   "id": "6a96ec0d-7b44-4950-a4f9-0ba0c30fb9ac",
   "metadata": {},
   "source": [
    "# literals"
   ]
  },
  {
   "cell_type": "code",
   "execution_count": null,
   "id": "31d37d3d-abf6-4caf-81d5-069f17a9a455",
   "metadata": {},
   "outputs": [],
   "source": [
    "a literal is a fixed value that is directly written into the code ,snd represnt a specific data type "
   ]
  },
  {
   "cell_type": "code",
   "execution_count": 61,
   "id": "f4e2269d-7c8d-430e-aa20-2897e7596029",
   "metadata": {},
   "outputs": [],
   "source": [
    "age = 30 # 30 is an integer literal"
   ]
  },
  {
   "cell_type": "markdown",
   "id": "5e7cb37c-cbfd-4921-aecd-cd9d36484308",
   "metadata": {},
   "source": [
    "## operators"
   ]
  },
  {
   "cell_type": "code",
   "execution_count": null,
   "id": "b570aee4-5eed-4f8a-a1dd-5be028b236e0",
   "metadata": {},
   "outputs": [],
   "source": [
    "an operator is a symbol that perform operation"
   ]
  },
  {
   "cell_type": "code",
   "execution_count": null,
   "id": "88c3069b-71ff-458b-ac24-dfc152b9f7ef",
   "metadata": {},
   "outputs": [],
   "source": [
    "> ARITHMETIC OPERARION: "
   ]
  },
  {
   "cell_type": "code",
   "execution_count": null,
   "id": "9f600cf2-64a5-4e0b-9d4a-9d84816ff732",
   "metadata": {},
   "outputs": [],
   "source": [
    "* addition"
   ]
  },
  {
   "cell_type": "code",
   "execution_count": 64,
   "id": "1fc99315-67c4-4c1e-9638-27a854c627e3",
   "metadata": {},
   "outputs": [],
   "source": [
    "a=10 # example"
   ]
  },
  {
   "cell_type": "code",
   "execution_count": 66,
   "id": "0e823adb-7dde-4fa6-bff2-b230661bab6d",
   "metadata": {},
   "outputs": [],
   "source": [
    "b=20"
   ]
  },
  {
   "cell_type": "code",
   "execution_count": 68,
   "id": "3c01d5fd-9b84-4c39-8cf4-3f61ab60ed8f",
   "metadata": {},
   "outputs": [
    {
     "data": {
      "text/plain": [
       "30"
      ]
     },
     "execution_count": 68,
     "metadata": {},
     "output_type": "execute_result"
    }
   ],
   "source": [
    "a+b "
   ]
  },
  {
   "cell_type": "code",
   "execution_count": 70,
   "id": "4d7ae710-e942-4249-aa69-18355e0240f2",
   "metadata": {},
   "outputs": [],
   "source": [
    "#subtraction"
   ]
  },
  {
   "cell_type": "code",
   "execution_count": 72,
   "id": "45425353-aa0a-4298-877d-731ead0da0e3",
   "metadata": {},
   "outputs": [
    {
     "data": {
      "text/plain": [
       "-10"
      ]
     },
     "execution_count": 72,
     "metadata": {},
     "output_type": "execute_result"
    }
   ],
   "source": [
    "a-b"
   ]
  },
  {
   "cell_type": "code",
   "execution_count": 74,
   "id": "11e263e2-401e-4d06-98a6-275e46bb4874",
   "metadata": {},
   "outputs": [],
   "source": [
    "#multiplication"
   ]
  },
  {
   "cell_type": "code",
   "execution_count": 76,
   "id": "33341a2a-4adb-4b1e-8490-62fdc6360381",
   "metadata": {},
   "outputs": [
    {
     "data": {
      "text/plain": [
       "200"
      ]
     },
     "execution_count": 76,
     "metadata": {},
     "output_type": "execute_result"
    }
   ],
   "source": [
    "a*b"
   ]
  },
  {
   "cell_type": "code",
   "execution_count": 78,
   "id": "4055cc20-48ca-4f2a-9834-ad2f7f2853d2",
   "metadata": {},
   "outputs": [],
   "source": [
    "#division"
   ]
  },
  {
   "cell_type": "code",
   "execution_count": 80,
   "id": "92baf0b1-62dd-4d34-a3ba-dac3bc82da17",
   "metadata": {},
   "outputs": [
    {
     "data": {
      "text/plain": [
       "0.5"
      ]
     },
     "execution_count": 80,
     "metadata": {},
     "output_type": "execute_result"
    }
   ],
   "source": [
    "a/b"
   ]
  },
  {
   "cell_type": "code",
   "execution_count": 82,
   "id": "e3ff27fd-bb4a-470a-b09b-7ee2f96d95a4",
   "metadata": {},
   "outputs": [],
   "source": [
    "#module"
   ]
  },
  {
   "cell_type": "code",
   "execution_count": 84,
   "id": "ddbc6b6a-3cd8-4376-828a-a34667e18bb1",
   "metadata": {},
   "outputs": [
    {
     "data": {
      "text/plain": [
       "10"
      ]
     },
     "execution_count": 84,
     "metadata": {},
     "output_type": "execute_result"
    }
   ],
   "source": [
    "a%b"
   ]
  },
  {
   "cell_type": "code",
   "execution_count": 86,
   "id": "710fdba4-7e17-4e5f-ad34-148e6fa805de",
   "metadata": {},
   "outputs": [],
   "source": [
    "# floor division(//) : this operator divides the first number by the second and returns the largest less than"
   ]
  },
  {
   "cell_type": "code",
   "execution_count": 88,
   "id": "61f72147-4f88-4ea6-8ff5-7c5c23f4a059",
   "metadata": {},
   "outputs": [],
   "source": [
    "result = 16//22 #example"
   ]
  },
  {
   "cell_type": "code",
   "execution_count": 90,
   "id": "42913cde-2366-40c1-9f4a-defa7fe2ee0a",
   "metadata": {},
   "outputs": [
    {
     "data": {
      "text/plain": [
       "0"
      ]
     },
     "execution_count": 90,
     "metadata": {},
     "output_type": "execute_result"
    }
   ],
   "source": [
    "result"
   ]
  },
  {
   "cell_type": "code",
   "execution_count": 92,
   "id": "fd2fd299-ed60-41c1-818e-f98878135639",
   "metadata": {},
   "outputs": [],
   "source": [
    "result = 16//3"
   ]
  },
  {
   "cell_type": "code",
   "execution_count": 94,
   "id": "3b45debe-7b8f-40e2-887d-634746ead3b9",
   "metadata": {},
   "outputs": [
    {
     "data": {
      "text/plain": [
       "5"
      ]
     },
     "execution_count": 94,
     "metadata": {},
     "output_type": "execute_result"
    }
   ],
   "source": [
    "result"
   ]
  },
  {
   "cell_type": "code",
   "execution_count": 96,
   "id": "4cb528d5-d3ac-407f-a978-e63400b0fab0",
   "metadata": {},
   "outputs": [
    {
     "data": {
      "text/plain": [
       "0.7272727272727273"
      ]
     },
     "execution_count": 96,
     "metadata": {},
     "output_type": "execute_result"
    }
   ],
   "source": [
    "16/22 #normal division"
   ]
  },
  {
   "cell_type": "code",
   "execution_count": 98,
   "id": "fa32af1c-a7c5-4324-a458-85ec59064567",
   "metadata": {},
   "outputs": [
    {
     "data": {
      "text/plain": [
       "5.333333333333333"
      ]
     },
     "execution_count": 98,
     "metadata": {},
     "output_type": "execute_result"
    }
   ],
   "source": [
    "16/3 #normal division"
   ]
  },
  {
   "cell_type": "code",
   "execution_count": 102,
   "id": "71ebd802-93a9-4c57-8dfb-ad62b70f6ae7",
   "metadata": {},
   "outputs": [],
   "source": [
    "#exponential(**)"
   ]
  },
  {
   "cell_type": "code",
   "execution_count": 104,
   "id": "86fafd45-a307-49a6-b809-de61f0c73b41",
   "metadata": {},
   "outputs": [],
   "source": [
    "# example\n",
    "value =2**4 # it multiplies the 1st num to the times of 2nd one\n",
    "2*2*2*2"
   ]
  },
  {
   "cell_type": "code",
   "execution_count": 106,
   "id": "8abecdf1-b2ee-4769-9c9d-e7ac6853f0c3",
   "metadata": {},
   "outputs": [
    {
     "data": {
      "text/plain": [
       "16"
      ]
     },
     "execution_count": 106,
     "metadata": {},
     "output_type": "execute_result"
    }
   ],
   "source": [
    "value"
   ]
  },
  {
   "cell_type": "markdown",
   "id": "1bf92ea9-61b5-4bb9-9a23-6f2013392e4e",
   "metadata": {},
   "source": [
    "# combining Arithmetic operators"
   ]
  },
  {
   "cell_type": "code",
   "execution_count": 109,
   "id": "d1e48480-da3a-453f-b151-1f3e8e780e31",
   "metadata": {},
   "outputs": [],
   "source": [
    "#example\n",
    "result = 5+3-8/4"
   ]
  },
  {
   "cell_type": "code",
   "execution_count": 111,
   "id": "8708c163-5463-4b3d-9924-e4d469cc6f6a",
   "metadata": {},
   "outputs": [
    {
     "data": {
      "text/plain": [
       "6.0"
      ]
     },
     "execution_count": 111,
     "metadata": {},
     "output_type": "execute_result"
    }
   ],
   "source": [
    "result # here division as 1st preference then multiplication ,addition and subtraction"
   ]
  },
  {
   "cell_type": "code",
   "execution_count": null,
   "id": "7f42fbaf-3f11-49cb-a0db-f5d2dfe84d48",
   "metadata": {},
   "outputs": [],
   "source": [
    ">> EXCERCISE\n",
    "#scenario \n",
    "#exam:85 90 78 92 88"
   ]
  },
  {
   "cell_type": "code",
   "execution_count": 121,
   "id": "486fd857-0251-4d1c-bbb6-6040ff6c23b3",
   "metadata": {},
   "outputs": [
    {
     "data": {
      "text/plain": [
       "86.6"
      ]
     },
     "execution_count": 121,
     "metadata": {},
     "output_type": "execute_result"
    }
   ],
   "source": [
    "(85+90+78+92+88)/5"
   ]
  },
  {
   "cell_type": "code",
   "execution_count": 129,
   "id": "15f7195a-0bf7-47f5-b066-4e2ced7fe6b3",
   "metadata": {},
   "outputs": [],
   "source": [
    "scores = [85,90,78,92,88]"
   ]
  },
  {
   "cell_type": "code",
   "execution_count": 131,
   "id": "67124739-59b2-4899-95a8-40cf255a1f5d",
   "metadata": {},
   "outputs": [],
   "source": [
    "total_score = sum(scores)"
   ]
  },
  {
   "cell_type": "raw",
   "id": "e5bda832-0aff-49ae-8bc0-ddb51ccfa173",
   "metadata": {},
   "source": [
    "total_score "
   ]
  },
  {
   "cell_type": "code",
   "execution_count": null,
   "id": "162df950-2340-442e-9f29-7692ecdcd5e4",
   "metadata": {},
   "outputs": [],
   "source": [
    ">scenario u have a omntly budget of $,200 \n",
    "you spend $350 on groceries\n",
    "$150 on utilities and 200 on transport"
   ]
  },
  {
   "cell_type": "code",
   "execution_count": 157,
   "id": "02b464d3-83bf-4635-b193-e86d44d163fb",
   "metadata": {},
   "outputs": [],
   "source": [
    "#start\n",
    "budget =1200"
   ]
  },
  {
   "cell_type": "code",
   "execution_count": 159,
   "id": "cbd48696-5148-4e01-ab99-df552751136f",
   "metadata": {},
   "outputs": [],
   "source": [
    "#expenses\n",
    "groceries = 350\n",
    "utilities =150\n",
    "transport =200"
   ]
  },
  {
   "cell_type": "code",
   "execution_count": 161,
   "id": "909d0838-e10c-42e0-8dd0-55ee2378d8b6",
   "metadata": {},
   "outputs": [
    {
     "ename": "TypeError",
     "evalue": "unsupported operand type(s) for -: 'int' and 'tuple'",
     "output_type": "error",
     "traceback": [
      "\u001b[1;31m---------------------------------------------------------------------------\u001b[0m",
      "\u001b[1;31mTypeError\u001b[0m                                 Traceback (most recent call last)",
      "Cell \u001b[1;32mIn[161], line 1\u001b[0m\n\u001b[1;32m----> 1\u001b[0m remaining_budget\u001b[38;5;241m=\u001b[39m budget\u001b[38;5;241m-\u001b[39m(groceries,utilities,transport)\n",
      "\u001b[1;31mTypeError\u001b[0m: unsupported operand type(s) for -: 'int' and 'tuple'"
     ]
    }
   ],
   "source": [
    "remaining_budget= budget-(groceries,utilities,transport)"
   ]
  },
  {
   "cell_type": "code",
   "execution_count": 163,
   "id": "2e929c5e-adaf-4841-9cd2-14af12e650a2",
   "metadata": {},
   "outputs": [
    {
     "ename": "NameError",
     "evalue": "name 'remaining_budget' is not defined",
     "output_type": "error",
     "traceback": [
      "\u001b[1;31m---------------------------------------------------------------------------\u001b[0m",
      "\u001b[1;31mNameError\u001b[0m                                 Traceback (most recent call last)",
      "Cell \u001b[1;32mIn[163], line 1\u001b[0m\n\u001b[1;32m----> 1\u001b[0m \u001b[38;5;28mprint\u001b[39m(\u001b[38;5;124m\"\u001b[39m\u001b[38;5;124mremaining budget:\u001b[39m\u001b[38;5;124m\"\u001b[39m, remaining_budget)\n",
      "\u001b[1;31mNameError\u001b[0m: name 'remaining_budget' is not defined"
     ]
    }
   ],
   "source": [
    "print(\"remaining budget:\", remaining_budget)"
   ]
  },
  {
   "cell_type": "code",
   "execution_count": 143,
   "id": "eca53d31-0088-44b5-9a54-cf869859ea63",
   "metadata": {},
   "outputs": [],
   "source": [
    "#initial \n",
    "book_price = 23.75"
   ]
  },
  {
   "cell_type": "code",
   "execution_count": 145,
   "id": "98b90f5e-9c2a-41f8-a665-d8fd2ad79c7f",
   "metadata": {},
   "outputs": [],
   "source": [
    "#bill\n",
    "paid_bill = 50"
   ]
  },
  {
   "cell_type": "code",
   "execution_count": 147,
   "id": "690ab494-b0d0-4a42-868b-538bf7f4fd06",
   "metadata": {},
   "outputs": [],
   "source": [
    "change = (paid_bill-book_price)"
   ]
  },
  {
   "cell_type": "code",
   "execution_count": 149,
   "id": "9b3accbd-ae7e-4a70-b385-9150ba66f741",
   "metadata": {},
   "outputs": [
    {
     "data": {
      "text/plain": [
       "26.25"
      ]
     },
     "execution_count": 149,
     "metadata": {},
     "output_type": "execute_result"
    }
   ],
   "source": [
    "change"
   ]
  },
  {
   "cell_type": "code",
   "execution_count": 153,
   "id": "da2ad6e1-0332-480f-9d2a-4440ac0d759a",
   "metadata": {},
   "outputs": [],
   "source": [
    "#dimension of garden\n",
    "width=10\n",
    "length=15"
   ]
  },
  {
   "cell_type": "code",
   "execution_count": 155,
   "id": "af4bb97e-912b-428c-85b3-22d105fab228",
   "metadata": {},
   "outputs": [],
   "source": [
    "area = width*length"
   ]
  },
  {
   "cell_type": "raw",
   "id": "1c9f10a3-383a-48d2-a7a5-59829cb1306a",
   "metadata": {},
   "source": [
    "area"
   ]
  },
  {
   "cell_type": "code",
   "execution_count": 165,
   "id": "9775c339-90c0-4f52-a082-2815d0fef7ec",
   "metadata": {},
   "outputs": [],
   "source": [
    "#cost\n",
    "cost_price =120\n",
    "selling_price =180"
   ]
  },
  {
   "cell_type": "code",
   "execution_count": 167,
   "id": "b708a49c-a75f-4710-a2f3-e3ed6f090c1b",
   "metadata": {},
   "outputs": [],
   "source": [
    "#calculate rofit\n",
    "profit= selling_price-cost_price"
   ]
  },
  {
   "cell_type": "code",
   "execution_count": 169,
   "id": "228704b4-bd80-4ffd-98db-2b9a368e628c",
   "metadata": {},
   "outputs": [
    {
     "name": "stdout",
     "output_type": "stream",
     "text": [
      "profit: 60\n"
     ]
    }
   ],
   "source": [
    "print(\"profit:\",profit)"
   ]
  },
  {
   "cell_type": "code",
   "execution_count": null,
   "id": "e31c0ce5-7f6f-4d11-be26-e72d932ac814",
   "metadata": {},
   "outputs": [],
   "source": []
  }
 ],
 "metadata": {
  "kernelspec": {
   "display_name": "Python [conda env:New folder]",
   "language": "python",
   "name": "conda-env-New_folder-py"
  },
  "language_info": {
   "codemirror_mode": {
    "name": "ipython",
    "version": 3
   },
   "file_extension": ".py",
   "mimetype": "text/x-python",
   "name": "python",
   "nbconvert_exporter": "python",
   "pygments_lexer": "ipython3",
   "version": "3.12.7"
  }
 },
 "nbformat": 4,
 "nbformat_minor": 5
}
