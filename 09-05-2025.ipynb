{
 "cells": [
  {
   "cell_type": "markdown",
   "id": "f09c62fc-c6e1-4747-963f-8b102acad533",
   "metadata": {},
   "source": [
    "# list method"
   ]
  },
  {
   "cell_type": "code",
   "execution_count": null,
   "id": "d189143c-b154-4eb2-a72a-3d4e7468a3ea",
   "metadata": {},
   "outputs": [],
   "source": [
    "1. append adds item to the end of list"
   ]
  },
  {
   "cell_type": "code",
   "execution_count": 4,
   "id": "8f4407e0-cc21-4de8-9e9d-a014d70729dc",
   "metadata": {},
   "outputs": [
    {
     "data": {
      "text/plain": [
       "['apple', 'banana', 'cherry']"
      ]
     },
     "execution_count": 4,
     "metadata": {},
     "output_type": "execute_result"
    }
   ],
   "source": [
    "fruits = ['apple', 'banana']\n",
    "fruits.append('cherry') #here only 1 element can be added\n",
    "fruits"
   ]
  },
  {
   "cell_type": "code",
   "execution_count": null,
   "id": "73e82f10-5c5d-4d4f-aa07-e61ded9088f1",
   "metadata": {},
   "outputs": [],
   "source": [
    "2. extend extends the list by appending ele from another iterable"
   ]
  },
  {
   "cell_type": "code",
   "execution_count": 8,
   "id": "6ff4e9e8-a7e7-42bf-894d-2e22612e8589",
   "metadata": {},
   "outputs": [
    {
     "data": {
      "text/plain": [
       "['apple', 'banana', 12, 23, 45, 67, 89]"
      ]
     },
     "execution_count": 8,
     "metadata": {},
     "output_type": "execute_result"
    }
   ],
   "source": [
    "fruits = ['apple', 'banana']\n",
    "fruits.extend([12,23,45,67,89]) #here it should be in parantheses or it will trow an error\n",
    "fruits"
   ]
  },
  {
   "cell_type": "code",
   "execution_count": null,
   "id": "52b8eee7-2e30-4c17-b361-60ddd88ae05c",
   "metadata": {},
   "outputs": [],
   "source": [
    "3. insert(index,item) insert item in certain index"
   ]
  },
  {
   "cell_type": "code",
   "execution_count": 12,
   "id": "77982409-01a7-47ab-8720-799023cef988",
   "metadata": {},
   "outputs": [
    {
     "data": {
      "text/plain": [
       "['mango', 'apple', 'banana']"
      ]
     },
     "execution_count": 12,
     "metadata": {},
     "output_type": "execute_result"
    }
   ],
   "source": [
    "fruits = ['apple', 'banana']\n",
    "fruits.insert(0,'mango')\n",
    "fruits"
   ]
  },
  {
   "cell_type": "code",
   "execution_count": null,
   "id": "0e8d896f-8b7b-41b1-988a-67dc00c1b37e",
   "metadata": {},
   "outputs": [],
   "source": [
    "4. remove(item) removes an item in list"
   ]
  },
  {
   "cell_type": "code",
   "execution_count": 21,
   "id": "77b558ab-5762-4ef4-ab5f-f8e34d8a57ec",
   "metadata": {},
   "outputs": [
    {
     "data": {
      "text/plain": [
       "['apple']"
      ]
     },
     "execution_count": 21,
     "metadata": {},
     "output_type": "execute_result"
    }
   ],
   "source": [
    "fruits = ['apple', 'banana']\n",
    "fruits.remove('banana') #here item name should be given \n",
    "fruits"
   ]
  },
  {
   "cell_type": "code",
   "execution_count": null,
   "id": "5bd8d2ac-739a-4788-b97c-77477e7ea0e7",
   "metadata": {},
   "outputs": [],
   "source": [
    "5.pop(index=-1) removes and return the item at specified index"
   ]
  },
  {
   "cell_type": "code",
   "execution_count": 23,
   "id": "b931ae2e-c47e-4bae-9a7b-91d438d8b682",
   "metadata": {},
   "outputs": [
    {
     "data": {
      "text/plain": [
       "['apple', 'banana']"
      ]
     },
     "execution_count": 23,
     "metadata": {},
     "output_type": "execute_result"
    }
   ],
   "source": [
    "fruits = ['apple', 'banana','cherry']\n",
    "fruits.pop() #it removes the last item\n",
    "fruits"
   ]
  },
  {
   "cell_type": "code",
   "execution_count": null,
   "id": "40ca6a58-029b-423d-8df7-eeffce5b85b5",
   "metadata": {},
   "outputs": [],
   "source": [
    "6.clear removes all items from list"
   ]
  },
  {
   "cell_type": "code",
   "execution_count": 33,
   "id": "13a37143-29b1-4790-b202-56c9b318ad6b",
   "metadata": {},
   "outputs": [
    {
     "data": {
      "text/plain": [
       "[]"
      ]
     },
     "execution_count": 33,
     "metadata": {},
     "output_type": "execute_result"
    }
   ],
   "source": [
    "fruits = ['apple', 'banana']\n",
    "fruits.clear()\n",
    "fruits"
   ]
  },
  {
   "cell_type": "code",
   "execution_count": null,
   "id": "39b87e2a-59c7-4f13-9624-802b7258f55e",
   "metadata": {},
   "outputs": [],
   "source": [
    "7. index(item,start=0,end=len(list)) finding the index no of item"
   ]
  },
  {
   "cell_type": "code",
   "execution_count": 29,
   "id": "01e5bf45-40d0-4712-ae28-a699ad48a54b",
   "metadata": {},
   "outputs": [
    {
     "data": {
      "text/plain": [
       "1"
      ]
     },
     "execution_count": 29,
     "metadata": {},
     "output_type": "execute_result"
    }
   ],
   "source": [
    "fruits = ['apple', 'banana','cherry']\n",
    "fruits.index('banana')\n",
    "# here no need of print "
   ]
  },
  {
   "cell_type": "code",
   "execution_count": null,
   "id": "3233eed1-5826-42c0-ac02-1bbb6b98df27",
   "metadata": {},
   "outputs": [],
   "source": [
    "8.count(item) returns how many time the item appeard"
   ]
  },
  {
   "cell_type": "code",
   "execution_count": 37,
   "id": "9f74f220-597f-4d9c-b8ab-b2483351132d",
   "metadata": {},
   "outputs": [
    {
     "data": {
      "text/plain": [
       "3"
      ]
     },
     "execution_count": 37,
     "metadata": {},
     "output_type": "execute_result"
    }
   ],
   "source": [
    "fruits = ['apple', 'banana','cherry','cherry','cherry']\n",
    "fruits.count('cherry')"
   ]
  },
  {
   "cell_type": "code",
   "execution_count": null,
   "id": "ab7190d6-f0b7-440f-9368-4f9ceb5a335d",
   "metadata": {},
   "outputs": [],
   "source": [
    "9. sort(key=none, reversed=False)"
   ]
  },
  {
   "cell_type": "code",
   "execution_count": 51,
   "id": "18c02f5a-941b-46ee-93da-ab4ff628f79c",
   "metadata": {},
   "outputs": [
    {
     "data": {
      "text/plain": [
       "[1, 3, 3, 4, 5, 5, 6, 9, 12]"
      ]
     },
     "execution_count": 51,
     "metadata": {},
     "output_type": "execute_result"
    }
   ],
   "source": [
    "numbers =[4,3,5,1,5,3,6,9,12]\n",
    "numbers.sort()\n",
    "numbers"
   ]
  },
  {
   "cell_type": "code",
   "execution_count": 49,
   "id": "5fd7d6c4-e30e-40bd-bb3d-f046b736dc5e",
   "metadata": {},
   "outputs": [
    {
     "data": {
      "text/plain": [
       "['d', 'e', 'f', 'r', 't', 'u', 'y']"
      ]
     },
     "execution_count": 49,
     "metadata": {},
     "output_type": "execute_result"
    }
   ],
   "source": [
    "alpha = ['d','f','t','e','r','y','u'] #char within \"\"\n",
    "alpha.sort()\n",
    "alpha"
   ]
  },
  {
   "cell_type": "code",
   "execution_count": null,
   "id": "3117b24e-2867-4a4d-9559-ba75f9084799",
   "metadata": {},
   "outputs": [],
   "source": [
    "10.reverse()"
   ]
  },
  {
   "cell_type": "code",
   "execution_count": 53,
   "id": "0a8b5467-c92b-4957-8b3b-b828dfefeee2",
   "metadata": {},
   "outputs": [
    {
     "data": {
      "text/plain": [
       "[12, 9, 6, 3, 5, 1, 5, 3, 4]"
      ]
     },
     "execution_count": 53,
     "metadata": {},
     "output_type": "execute_result"
    }
   ],
   "source": [
    "numbers =[4,3,5,1,5,3,6,9,12]\n",
    "numbers.reverse()\n",
    "numbers\n"
   ]
  },
  {
   "cell_type": "code",
   "execution_count": null,
   "id": "6f05624c-a99a-4ca1-8819-e07dfe26a26b",
   "metadata": {},
   "outputs": [],
   "source": [
    "12.join()"
   ]
  },
  {
   "cell_type": "code",
   "execution_count": 57,
   "id": "b5f6b94f-cd63-4c68-aecb-be9b853d2f94",
   "metadata": {},
   "outputs": [
    {
     "data": {
      "text/plain": [
       "'apple!banana!cherry'"
      ]
     },
     "execution_count": 57,
     "metadata": {},
     "output_type": "execute_result"
    }
   ],
   "source": [
    "fruits = ['apple', 'banana','cherry']\n",
    "fruit_string ='!'.join(fruits)\n",
    "fruit_string"
   ]
  },
  {
   "cell_type": "markdown",
   "id": "4e760f90-3c28-42fb-869c-5b1700ea5ed7",
   "metadata": {},
   "source": [
    "13.max()"
   ]
  },
  {
   "cell_type": "code",
   "execution_count": 61,
   "id": "9d6e63cc-8c60-4a59-a291-7ff8954c0686",
   "metadata": {},
   "outputs": [
    {
     "data": {
      "text/plain": [
       "12"
      ]
     },
     "execution_count": 61,
     "metadata": {},
     "output_type": "execute_result"
    }
   ],
   "source": [
    "numbers =[4,3,5,1,5,3,6,9,12]\n",
    "max(numbers)"
   ]
  },
  {
   "cell_type": "code",
   "execution_count": null,
   "id": "a5cf0d2c-87dc-46d0-b160-846fb257688c",
   "metadata": {},
   "outputs": [],
   "source": [
    "14.min()"
   ]
  },
  {
   "cell_type": "code",
   "execution_count": 63,
   "id": "07b4febe-2ffc-43cc-a5fe-b7f1ab86e26b",
   "metadata": {},
   "outputs": [
    {
     "data": {
      "text/plain": [
       "1"
      ]
     },
     "execution_count": 63,
     "metadata": {},
     "output_type": "execute_result"
    }
   ],
   "source": [
    "numbers =[4,3,5,1,5,3,6,9,12]\n",
    "min(numbers)"
   ]
  },
  {
   "cell_type": "code",
   "execution_count": null,
   "id": "e98b68de-fa7e-45b8-b28f-337f07d94a82",
   "metadata": {},
   "outputs": [],
   "source": [
    "15.sum"
   ]
  },
  {
   "cell_type": "code",
   "execution_count": 65,
   "id": "32a7385a-e243-482c-99d7-37dd5c3f945e",
   "metadata": {},
   "outputs": [
    {
     "data": {
      "text/plain": [
       "48"
      ]
     },
     "execution_count": 65,
     "metadata": {},
     "output_type": "execute_result"
    }
   ],
   "source": [
    "numbers =[4,3,5,1,5,3,6,9,12]\n",
    "sum(numbers)"
   ]
  },
  {
   "cell_type": "code",
   "execution_count": null,
   "id": "02da08ec-e1d3-414e-8d2f-d231edfeb001",
   "metadata": {},
   "outputs": [],
   "source": [
    "16.len()"
   ]
  },
  {
   "cell_type": "code",
   "execution_count": 67,
   "id": "6b3e9ddc-e4bf-4e2d-8126-6e224fd59785",
   "metadata": {},
   "outputs": [
    {
     "data": {
      "text/plain": [
       "9"
      ]
     },
     "execution_count": 67,
     "metadata": {},
     "output_type": "execute_result"
    }
   ],
   "source": [
    "numbers =[4,3,5,1,5,3,6,9,12]\n",
    "len(numbers)"
   ]
  },
  {
   "cell_type": "code",
   "execution_count": null,
   "id": "e4ae9cd8-71e7-42b8-87ab-da53244cb4f9",
   "metadata": {},
   "outputs": [],
   "source": [
    "17.all()"
   ]
  },
  {
   "cell_type": "code",
   "execution_count": 77,
   "id": "7082e696-d343-40df-8bfe-fd4863f95673",
   "metadata": {},
   "outputs": [
    {
     "data": {
      "text/plain": [
       "True"
      ]
     },
     "execution_count": 77,
     "metadata": {},
     "output_type": "execute_result"
    }
   ],
   "source": [
    "numbers =[4,3,5,1,5,3,6,9,12]\n",
    "all(numbers)"
   ]
  },
  {
   "cell_type": "code",
   "execution_count": null,
   "id": "3a7f2017-6d33-4b47-9271-83d0daf16912",
   "metadata": {},
   "outputs": [],
   "source": [
    "18.any()"
   ]
  },
  {
   "cell_type": "code",
   "execution_count": 89,
   "id": "de7dddda-4450-4421-98ee-99b9d9f1581a",
   "metadata": {},
   "outputs": [
    {
     "data": {
      "text/plain": [
       "True"
      ]
     },
     "execution_count": 89,
     "metadata": {},
     "output_type": "execute_result"
    }
   ],
   "source": [
    "alpha = ['False','False','False'] \n",
    "any(alpha)"
   ]
  },
  {
   "cell_type": "code",
   "execution_count": null,
   "id": "4643ae13-2c0b-487c-b471-36400c725643",
   "metadata": {},
   "outputs": [],
   "source": [
    "19. del statement"
   ]
  },
  {
   "cell_type": "code",
   "execution_count": null,
   "id": "e817727c-3304-44d8-a8df-e58fe8ebd8d1",
   "metadata": {},
   "outputs": [],
   "source": [
    "20. sorted"
   ]
  },
  {
   "cell_type": "code",
   "execution_count": null,
   "id": "23648760-104e-45c7-ae78-736020658cdd",
   "metadata": {},
   "outputs": [],
   "source": [
    "numbers =[4,3,5,1,5,3,6,9,12]"
   ]
  },
  {
   "cell_type": "code",
   "execution_count": 102,
   "id": "abf89911-cd3b-4289-82b9-086285c63c45",
   "metadata": {},
   "outputs": [
    {
     "data": {
      "text/plain": [
       "[1, 3, 3, 4, 5, 5, 6, 9, 12]"
      ]
     },
     "execution_count": 102,
     "metadata": {},
     "output_type": "execute_result"
    }
   ],
   "source": [
    "numbers.sort()\n",
    "numbers"
   ]
  },
  {
   "cell_type": "markdown",
   "id": "a55eec1f-0fb2-48d5-8301-40dcd07f8273",
   "metadata": {},
   "source": [
    "# list comprehension"
   ]
  },
  {
   "cell_type": "code",
   "execution_count": 108,
   "id": "76ac6ee3-dda8-482e-aa8f-480da13fc5e2",
   "metadata": {},
   "outputs": [
    {
     "data": {
      "text/plain": [
       "[1, 4, 9, 16, 25, 36]"
      ]
     },
     "execution_count": 108,
     "metadata": {},
     "output_type": "execute_result"
    }
   ],
   "source": [
    "#example\n",
    "squares =[i**2 for i in range(1,7)]\n",
    "squares          "
   ]
  },
  {
   "cell_type": "code",
   "execution_count": 110,
   "id": "03410269-67b9-48ba-ae3c-82fded7c56ba",
   "metadata": {},
   "outputs": [
    {
     "data": {
      "text/plain": [
       "[4, 5, 6, 7, 8, 9, 10, 11, 12]"
      ]
     },
     "execution_count": 110,
     "metadata": {},
     "output_type": "execute_result"
    }
   ],
   "source": [
    "#ex2\n",
    "my_list = [j+3 for j in range(1,10)]\n",
    "my_list"
   ]
  },
  {
   "cell_type": "code",
   "execution_count": null,
   "id": "2506a322-0397-4588-97af-9428dfd114f0",
   "metadata": {},
   "outputs": [],
   "source": [
    "list comprehenson with condition"
   ]
  },
  {
   "cell_type": "code",
   "execution_count": 114,
   "id": "e616d579-54e3-41ff-b853-0a4ba45d1095",
   "metadata": {},
   "outputs": [
    {
     "data": {
      "text/plain": [
       "[4, 16, 36, 64]"
      ]
     },
     "execution_count": 114,
     "metadata": {},
     "output_type": "execute_result"
    }
   ],
   "source": [
    "even_square=[]\n",
    "for i in range(1,10):\n",
    "    if i%2==0:\n",
    "        even_square.append(i**2)\n",
    "even_square        "
   ]
  },
  {
   "cell_type": "code",
   "execution_count": null,
   "id": "85937724-07c9-4a17-9e5f-329f0654afb6",
   "metadata": {},
   "outputs": [],
   "source": [
    "zip()"
   ]
  },
  {
   "cell_type": "code",
   "execution_count": 118,
   "id": "9d6adb2a-d2e0-47c4-b17f-bf74452e9036",
   "metadata": {},
   "outputs": [
    {
     "data": {
      "text/plain": [
       "[('red', 'apple'), ('blue', 'banana'), ('red', 'mango')]"
      ]
     },
     "execution_count": 118,
     "metadata": {},
     "output_type": "execute_result"
    }
   ],
   "source": [
    "fruits = ['apple','banana', 'mango']\n",
    "colors = ['red','blue','red']\n",
    "combined=list(zip(colors,fruits))\n",
    "combined"
   ]
  },
  {
   "cell_type": "code",
   "execution_count": null,
   "id": "07dc2d6d-3e9c-4436-a7cd-519127e27bb5",
   "metadata": {},
   "outputs": [],
   "source": [
    "using nested for loops"
   ]
  },
  {
   "cell_type": "code",
   "execution_count": 127,
   "id": "7e167f04-5478-4520-8a27-6db29ec7ce85",
   "metadata": {},
   "outputs": [
    {
     "data": {
      "text/plain": [
       "[[0, 2, 4], [0, 2, 4], [0, 2, 4]]"
      ]
     },
     "execution_count": 127,
     "metadata": {},
     "output_type": "execute_result"
    }
   ],
   "source": [
    "matrix = []\n",
    "for i in range(3): \n",
    " row =[]\n",
    "for j in range(3):\n",
    "    row.append(i*j)\n",
    "    matrix.append(row)\n",
    "matrix"
   ]
  },
  {
   "cell_type": "code",
   "execution_count": null,
   "id": "ec1f5ee0-58f5-4192-ad37-b1b76cfd9ced",
   "metadata": {},
   "outputs": [],
   "source": [
    "usind nested list comprehensions"
   ]
  },
  {
   "cell_type": "code",
   "execution_count": 135,
   "id": "8b59758d-1c67-42a4-aa63-0d47411a7107",
   "metadata": {},
   "outputs": [
    {
     "data": {
      "text/plain": [
       "[[0, 0, 0], [0, 1, 2], [0, 2, 4]]"
      ]
     },
     "execution_count": 135,
     "metadata": {},
     "output_type": "execute_result"
    }
   ],
   "source": [
    "matrix = [[i*j for j in range(3)] for i in range(3)]\n",
    "matrix"
   ]
  },
  {
   "cell_type": "markdown",
   "id": "9b4b9cdb-e345-4af8-891d-160b2a943067",
   "metadata": {},
   "source": [
    "# Advantages of list comprehension"
   ]
  },
  {
   "cell_type": "code",
   "execution_count": null,
   "id": "f806d449-0eac-49cf-8857-1d1361f6ec26",
   "metadata": {},
   "outputs": [],
   "source": [
    "*conciseness\n",
    "*performance\n",
    "*pythonic style"
   ]
  },
  {
   "cell_type": "markdown",
   "id": "548be066-2c1e-47c0-af78-3632d0452f71",
   "metadata": {},
   "source": [
    "# Disadvantages"
   ]
  },
  {
   "cell_type": "code",
   "execution_count": null,
   "id": "5b90dc59-6cff-4fd3-b1cf-54ef74f38d1a",
   "metadata": {},
   "outputs": [],
   "source": [
    "*memory consumption\n",
    "*performace degradation with large list"
   ]
  },
  {
   "cell_type": "code",
   "execution_count": 143,
   "id": "ef51bddf-2771-4696-b26e-199ccb7eadeb",
   "metadata": {},
   "outputs": [
    {
     "data": {
      "text/plain": [
       "['wake up', 'brush teeth', 'have breakfast', 'go for a run', 'start working']"
      ]
     },
     "execution_count": 143,
     "metadata": {},
     "output_type": "execute_result"
    }
   ],
   "source": [
    "#scenario\n",
    "task = [\"wake up\",\"brush teeth\",\"go for a run\",\"start working\"]\n",
    "task.insert(2,\"have breakfast\")\n",
    "task"
   ]
  },
  {
   "cell_type": "code",
   "execution_count": null,
   "id": "de6acdbf-7e5d-463e-87e3-878112c2ba26",
   "metadata": {},
   "outputs": [],
   "source": []
  },
  {
   "cell_type": "code",
   "execution_count": null,
   "id": "317da824-4ee9-439b-b2b5-9cefb08f26b4",
   "metadata": {},
   "outputs": [],
   "source": []
  },
  {
   "cell_type": "code",
   "execution_count": null,
   "id": "b2fe3f34-7653-4bef-84cc-de76248ab1df",
   "metadata": {},
   "outputs": [],
   "source": []
  },
  {
   "cell_type": "code",
   "execution_count": null,
   "id": "d9ef218a-fbdc-4201-bd4e-52d786177f59",
   "metadata": {},
   "outputs": [],
   "source": []
  },
  {
   "cell_type": "code",
   "execution_count": null,
   "id": "bd74c2bc-eaa6-4672-96d9-16b1c3a9a185",
   "metadata": {},
   "outputs": [],
   "source": []
  }
 ],
 "metadata": {
  "kernelspec": {
   "display_name": "Python [conda env:New folder]",
   "language": "python",
   "name": "conda-env-New_folder-py"
  },
  "language_info": {
   "codemirror_mode": {
    "name": "ipython",
    "version": 3
   },
   "file_extension": ".py",
   "mimetype": "text/x-python",
   "name": "python",
   "nbconvert_exporter": "python",
   "pygments_lexer": "ipython3",
   "version": "3.12.7"
  }
 },
 "nbformat": 4,
 "nbformat_minor": 5
}
