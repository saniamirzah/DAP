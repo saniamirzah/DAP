{
 "cells": [
  {
   "cell_type": "markdown",
   "id": "759ecc2f-8d63-4478-8c99-507e95479e28",
   "metadata": {},
   "source": [
    "# Array"
   ]
  },
  {
   "cell_type": "code",
   "execution_count": 3,
   "id": "77033ec1-c6b0-462a-bd54-d116d2b3662a",
   "metadata": {},
   "outputs": [],
   "source": [
    "import numpy as np"
   ]
  },
  {
   "cell_type": "code",
   "execution_count": 5,
   "id": "ad425d5a-75b5-4c4a-8527-acc08ee88b8e",
   "metadata": {},
   "outputs": [],
   "source": [
    "zeros_array = np.zeros((3,3))"
   ]
  },
  {
   "cell_type": "code",
   "execution_count": null,
   "id": "1ac38991-c4ec-4486-bdd2-07db90bd1a4c",
   "metadata": {},
   "outputs": [],
   "source": [
    "ones_array = np.ones((2,4))"
   ]
  },
  {
   "cell_type": "code",
   "execution_count": null,
   "id": "cf5128b0-e6dc-43f8-8b30-796768e75d3f",
   "metadata": {},
   "outputs": [],
   "source": []
  },
  {
   "cell_type": "code",
   "execution_count": null,
   "id": "5928ca8a-862e-4d82-93c9-d84953e32d33",
   "metadata": {},
   "outputs": [],
   "source": [
    "#using function to generate data "
   ]
  },
  {
   "cell_type": "code",
   "execution_count": 102,
   "id": "18ea379a-328b-477c-bc9b-cd7b9b3db28b",
   "metadata": {},
   "outputs": [],
   "source": [
    "a33 = np.ones((3,4))"
   ]
  },
  {
   "cell_type": "code",
   "execution_count": 104,
   "id": "26c119cf-f384-46aa-9046-118b2234c038",
   "metadata": {},
   "outputs": [
    {
     "data": {
      "text/plain": [
       "array([[1., 1., 1., 1.],\n",
       "       [1., 1., 1., 1.],\n",
       "       [1., 1., 1., 1.]])"
      ]
     },
     "execution_count": 104,
     "metadata": {},
     "output_type": "execute_result"
    }
   ],
   "source": [
    "a33"
   ]
  },
  {
   "cell_type": "code",
   "execution_count": 108,
   "id": "bc25c7cd-6f05-4331-967c-c6ba80aa1d71",
   "metadata": {},
   "outputs": [
    {
     "data": {
      "text/plain": [
       "numpy.ndarray"
      ]
     },
     "execution_count": 108,
     "metadata": {},
     "output_type": "execute_result"
    }
   ],
   "source": [
    "type(a33)"
   ]
  },
  {
   "cell_type": "code",
   "execution_count": 47,
   "id": "84775722-4084-4cd5-a794-b10b8b5e44d0",
   "metadata": {},
   "outputs": [],
   "source": [
    "a44 =  np.zeros((2,4))"
   ]
  },
  {
   "cell_type": "code",
   "execution_count": 49,
   "id": "4dbcd30e-17a8-433f-a319-7886c03ae3d2",
   "metadata": {},
   "outputs": [
    {
     "data": {
      "text/plain": [
       "array([[0., 0., 0., 0.],\n",
       "       [0., 0., 0., 0.]])"
      ]
     },
     "execution_count": 49,
     "metadata": {},
     "output_type": "execute_result"
    }
   ],
   "source": [
    "a44"
   ]
  },
  {
   "cell_type": "code",
   "execution_count": 51,
   "id": "9b2dd111-ba57-42a5-9567-67b341d48dcc",
   "metadata": {},
   "outputs": [
    {
     "data": {
      "text/plain": [
       "numpy.ndarray"
      ]
     },
     "execution_count": 51,
     "metadata": {},
     "output_type": "execute_result"
    }
   ],
   "source": [
    "type(a44)"
   ]
  },
  {
   "cell_type": "code",
   "execution_count": null,
   "id": "9f5949e2-acd0-4723-a398-d5443360639e",
   "metadata": {},
   "outputs": [],
   "source": []
  },
  {
   "cell_type": "code",
   "execution_count": 13,
   "id": "14b2e476-6ab7-422c-b620-264b30c6161a",
   "metadata": {},
   "outputs": [],
   "source": [
    "l = [1,2,3,4]"
   ]
  },
  {
   "cell_type": "code",
   "execution_count": 15,
   "id": "48f3b7fe-8c21-4bd2-a0e0-36c336a06f22",
   "metadata": {},
   "outputs": [
    {
     "data": {
      "text/plain": [
       "array([1, 2, 3, 4])"
      ]
     },
     "execution_count": 15,
     "metadata": {},
     "output_type": "execute_result"
    }
   ],
   "source": [
    "np.array(l,dtype=np.int32)"
   ]
  },
  {
   "cell_type": "code",
   "execution_count": 21,
   "id": "2027ad70-3319-45db-9513-79386eed6878",
   "metadata": {},
   "outputs": [],
   "source": [
    "import numpy as np\n",
    "int_array= np.array([1,2,3], dtype=np.int32)\n",
    "float_array = np.array([0.1,0.2,0.3], dtype=np.float64)"
   ]
  },
  {
   "cell_type": "code",
   "execution_count": null,
   "id": "109a4dc6-8c46-4a1b-a53d-185a52585254",
   "metadata": {},
   "outputs": [],
   "source": []
  },
  {
   "cell_type": "code",
   "execution_count": 9,
   "id": "7d78dde1-7b77-406a-b31e-3f37f3987e3c",
   "metadata": {},
   "outputs": [
    {
     "data": {
      "text/plain": [
       "array([ 0.,  2.,  4.,  6.,  8., 10.])"
      ]
     },
     "execution_count": 9,
     "metadata": {},
     "output_type": "execute_result"
    }
   ],
   "source": [
    "import numpy as np\n",
    "linespace_array_2 = np.linspace(0,10,6)\n",
    "linespace_array_2"
   ]
  },
  {
   "cell_type": "code",
   "execution_count": null,
   "id": "b8d0d9cf-64f6-4b24-8a5a-607a8da8bd4a",
   "metadata": {},
   "outputs": [],
   "source": []
  },
  {
   "cell_type": "code",
   "execution_count": 29,
   "id": "fdecb15e-c40a-4dc9-8922-250277e7dca6",
   "metadata": {},
   "outputs": [],
   "source": [
    "zerros_array = np.zeros((3,3))\n",
    "ones_array = np.ones((2,4))\n",
    "identity_matrix = np.eye(3)"
   ]
  },
  {
   "cell_type": "code",
   "execution_count": 43,
   "id": "cb28f401-582c-480e-84a5-0cb27bd07a59",
   "metadata": {},
   "outputs": [
    {
     "data": {
      "text/plain": [
       "array([[1., 0., 0.],\n",
       "       [0., 1., 0.],\n",
       "       [0., 0., 1.]])"
      ]
     },
     "execution_count": 43,
     "metadata": {},
     "output_type": "execute_result"
    }
   ],
   "source": [
    "identity_matrix"
   ]
  },
  {
   "cell_type": "code",
   "execution_count": 31,
   "id": "0e19197a-9675-46c0-8e5d-fbb4da22f176",
   "metadata": {},
   "outputs": [],
   "source": [
    "random_array = np.random.rand(4,4)"
   ]
  },
  {
   "cell_type": "code",
   "execution_count": 33,
   "id": "ceb36755-3848-45ae-a00a-a24e656d4a5f",
   "metadata": {},
   "outputs": [
    {
     "data": {
      "text/plain": [
       "array([[0.22955152, 0.85447737, 0.51859598, 0.75605154],\n",
       "       [0.09073022, 0.71426958, 0.21130957, 0.14440178],\n",
       "       [0.88393496, 0.44118613, 0.94601198, 0.36131809],\n",
       "       [0.14922505, 0.92919364, 0.2349324 , 0.25242983]])"
      ]
     },
     "execution_count": 33,
     "metadata": {},
     "output_type": "execute_result"
    }
   ],
   "source": [
    "random_array"
   ]
  },
  {
   "cell_type": "code",
   "execution_count": 37,
   "id": "22834083-0de4-4e57-a24e-228d3518cac1",
   "metadata": {},
   "outputs": [
    {
     "data": {
      "text/plain": [
       "array([[0., 0., 0.],\n",
       "       [0., 0., 0.],\n",
       "       [0., 0., 0.]])"
      ]
     },
     "execution_count": 37,
     "metadata": {},
     "output_type": "execute_result"
    }
   ],
   "source": [
    "zerros_array"
   ]
  },
  {
   "cell_type": "code",
   "execution_count": null,
   "id": "cb8fecf5-8d45-47a2-b967-a23e30b3538a",
   "metadata": {},
   "outputs": [],
   "source": []
  },
  {
   "cell_type": "markdown",
   "id": "bf548e0d-43d9-4203-91d8-989568519e70",
   "metadata": {},
   "source": [
    "## NumPy array indexing "
   ]
  },
  {
   "cell_type": "markdown",
   "id": "c282aff2-cf77-4350-86fb-205a90eb1f49",
   "metadata": {},
   "source": [
    "### Basic Indexing"
   ]
  },
  {
   "cell_type": "code",
   "execution_count": 70,
   "id": "c8542dd1-1c1c-496a-abff-37de808ff3a1",
   "metadata": {},
   "outputs": [
    {
     "name": "stdout",
     "output_type": "stream",
     "text": [
      "10\n",
      "40\n"
     ]
    }
   ],
   "source": [
    "\n",
    "\n",
    "arr = np.array ([10,20,30,40])\n",
    "print(arr[0])\n",
    "print(arr[-1])"
   ]
  },
  {
   "cell_type": "markdown",
   "id": "235a9de8-af6d-41d9-9be2-86348bea57da",
   "metadata": {},
   "source": [
    "### 2D Example"
   ]
  },
  {
   "cell_type": "code",
   "execution_count": 73,
   "id": "0c76380e-58dc-4234-a639-52a1dc1cf49f",
   "metadata": {},
   "outputs": [
    {
     "name": "stdout",
     "output_type": "stream",
     "text": [
      "2\n",
      "6\n"
     ]
    }
   ],
   "source": [
    "\n",
    "\n",
    "matrix = np.array([[1,2,3],\n",
    "                  [4,5,6]])\n",
    "print(matrix[0,1])\n",
    "print(matrix[1,2])"
   ]
  },
  {
   "cell_type": "markdown",
   "id": "9bed44b9-3d58-4516-b6ef-06a830466a21",
   "metadata": {},
   "source": [
    "### 1D Array Slicing"
   ]
  },
  {
   "cell_type": "code",
   "execution_count": 76,
   "id": "89af8db9-419e-4690-b338-bf3408190909",
   "metadata": {},
   "outputs": [
    {
     "name": "stdout",
     "output_type": "stream",
     "text": [
      "[20 30 40]\n",
      "[10 20 30]\n",
      "[10 30 50]\n",
      "[50 40 30 20 10]\n"
     ]
    }
   ],
   "source": [
    "\n",
    "\n",
    "arr = np.array([10,20,30,40,50])\n",
    "\n",
    "print(arr[1:4])\n",
    "print(arr[:3])\n",
    "print(arr[::2])\n",
    "print(arr[::-1])\n"
   ]
  },
  {
   "cell_type": "code",
   "execution_count": 56,
   "id": "8f100982-5df8-4168-b54b-74ede3e6fb12",
   "metadata": {},
   "outputs": [],
   "source": [
    "arr = np.array([10,20,30,40,50])"
   ]
  },
  {
   "cell_type": "code",
   "execution_count": 58,
   "id": "0d49394a-6daa-46ea-b694-3812200ec57f",
   "metadata": {},
   "outputs": [
    {
     "name": "stdout",
     "output_type": "stream",
     "text": [
      "[20 30 40]\n"
     ]
    }
   ],
   "source": [
    "print(arr[1:4])"
   ]
  },
  {
   "cell_type": "code",
   "execution_count": 60,
   "id": "63d8a665-54a6-44eb-b7f0-d5a155bca641",
   "metadata": {},
   "outputs": [
    {
     "name": "stdout",
     "output_type": "stream",
     "text": [
      "[10 20 30]\n"
     ]
    }
   ],
   "source": [
    "print(arr[:3])\n"
   ]
  },
  {
   "cell_type": "code",
   "execution_count": 62,
   "id": "4192a6e5-727f-442b-b6d1-fad5d4e0a56a",
   "metadata": {},
   "outputs": [
    {
     "name": "stdout",
     "output_type": "stream",
     "text": [
      "[10 30 50]\n"
     ]
    }
   ],
   "source": [
    "print(arr[::2])"
   ]
  },
  {
   "cell_type": "code",
   "execution_count": 64,
   "id": "ba0c4568-1c6e-4b3c-b729-b026825890e8",
   "metadata": {},
   "outputs": [
    {
     "name": "stdout",
     "output_type": "stream",
     "text": [
      "[50 40 30 20 10]\n"
     ]
    }
   ],
   "source": [
    "print(arr[::-1])"
   ]
  },
  {
   "cell_type": "markdown",
   "id": "f46b8b53-b83b-40ce-b79f-57ae2126c8d8",
   "metadata": {},
   "source": [
    "### 2D Array Slicing "
   ]
  },
  {
   "cell_type": "code",
   "execution_count": 81,
   "id": "1300914b-4f92-498d-8532-33c5bbf140c0",
   "metadata": {},
   "outputs": [
    {
     "name": "stdout",
     "output_type": "stream",
     "text": [
      "[[2 3]\n",
      " [5 6]]\n"
     ]
    }
   ],
   "source": [
    "matrix = np.array([[1,2,3],\n",
    "                   [4,5,6],\n",
    "                   [7,8,9]])\n",
    "\n",
    "print(matrix[0:2, 1:3])\n",
    "\n",
    "#Slicing returns a view(not a copy), unless explicitly copied "
   ]
  },
  {
   "cell_type": "code",
   "execution_count": 93,
   "id": "23733c28-f8d1-414a-8d6d-dcc3842a81aa",
   "metadata": {},
   "outputs": [
    {
     "name": "stdout",
     "output_type": "stream",
     "text": [
      "[[5 6]]\n"
     ]
    }
   ],
   "source": [
    "print(matrix[1:2, 1:3])"
   ]
  },
  {
   "cell_type": "code",
   "execution_count": 106,
   "id": "63641cc5-0e5f-4013-9917-ef7fdbb65df6",
   "metadata": {},
   "outputs": [
    {
     "name": "stdout",
     "output_type": "stream",
     "text": [
      "[[8]]\n"
     ]
    }
   ],
   "source": [
    "print(matrix[2:3, 1:2])"
   ]
  },
  {
   "cell_type": "code",
   "execution_count": null,
   "id": "3f8c5416-cd9a-4950-aa07-3007ac5f71b7",
   "metadata": {},
   "outputs": [],
   "source": [
    "print(matrix[1:3, 1:"
   ]
  },
  {
   "cell_type": "code",
   "execution_count": null,
   "id": "f217418b-3dcf-4762-b9a7-3d3aef7f099d",
   "metadata": {},
   "outputs": [],
   "source": []
  },
  {
   "cell_type": "markdown",
   "id": "2e639194-ad92-4460-a841-cfc42aac7ea1",
   "metadata": {},
   "source": [
    "### copy vs view"
   ]
  },
  {
   "cell_type": "code",
   "execution_count": 112,
   "id": "8c853838-ab7e-4a45-9c07-f8aa3a03ed20",
   "metadata": {},
   "outputs": [],
   "source": [
    "a = np.array([1,2,3,4])\n"
   ]
  },
  {
   "cell_type": "code",
   "execution_count": 114,
   "id": "03c885b3-b3a0-433c-b36a-a64b9fa33424",
   "metadata": {},
   "outputs": [],
   "source": [
    "b = a[1:3] #view "
   ]
  },
  {
   "cell_type": "code",
   "execution_count": 118,
   "id": "d9849467-343a-4c00-aa6c-7d46d2b921ec",
   "metadata": {},
   "outputs": [],
   "source": [
    "b[0]=99"
   ]
  },
  {
   "cell_type": "code",
   "execution_count": 120,
   "id": "563898e0-e058-437a-8140-0de179482c0f",
   "metadata": {},
   "outputs": [
    {
     "name": "stdout",
     "output_type": "stream",
     "text": [
      "[ 1 99  3  4]\n"
     ]
    }
   ],
   "source": [
    "print(a)"
   ]
  },
  {
   "cell_type": "code",
   "execution_count": 122,
   "id": "ed13dcd3-4d9a-4f88-a559-ab6282cafa75",
   "metadata": {},
   "outputs": [],
   "source": [
    "\n",
    "a = np.array([1,2,3,4])"
   ]
  },
  {
   "cell_type": "code",
   "execution_count": 126,
   "id": "cd44e111-1c89-4fde-aaee-97001ff1cfed",
   "metadata": {},
   "outputs": [],
   "source": [
    "b = a[1:3].copy()"
   ]
  },
  {
   "cell_type": "code",
   "execution_count": 128,
   "id": "66dc4928-faf1-45f4-8a91-ee0b97a8e5ed",
   "metadata": {},
   "outputs": [],
   "source": [
    "b[0]=99"
   ]
  },
  {
   "cell_type": "code",
   "execution_count": 130,
   "id": "0a8c4d6e-cb12-4ef1-85ed-e6932a1789ef",
   "metadata": {},
   "outputs": [
    {
     "name": "stdout",
     "output_type": "stream",
     "text": [
      "[1 2 3 4]\n"
     ]
    }
   ],
   "source": [
    "print(a)"
   ]
  },
  {
   "cell_type": "code",
   "execution_count": 132,
   "id": "d2b02dd5-b171-4df2-8ce1-a8d243ded21b",
   "metadata": {},
   "outputs": [
    {
     "name": "stdout",
     "output_type": "stream",
     "text": [
      "[99  3]\n"
     ]
    }
   ],
   "source": [
    "print(b)"
   ]
  },
  {
   "cell_type": "code",
   "execution_count": null,
   "id": "02635599-4c5d-4c8b-b084-01097061526f",
   "metadata": {},
   "outputs": [],
   "source": [
    "use copy() when u want to modify data without affecting the original"
   ]
  },
  {
   "cell_type": "markdown",
   "id": "6baed969-57f2-46b3-a0fd-9e29f70f3477",
   "metadata": {},
   "source": [
    "### NumPy Shape"
   ]
  },
  {
   "cell_type": "code",
   "execution_count": 137,
   "id": "1b36f495-ab7f-43f0-ac8e-4cb6406576b9",
   "metadata": {},
   "outputs": [
    {
     "name": "stdout",
     "output_type": "stream",
     "text": [
      "(2, 3)\n"
     ]
    }
   ],
   "source": [
    "# shape tells dimention of array \n",
    "\n",
    "arr= np.array([[1,2,3], [4,5,6]])\n",
    "print(arr.shape)"
   ]
  },
  {
   "cell_type": "markdown",
   "id": "4e64c1c0-96a4-4460-8467-da14a826b6a6",
   "metadata": {},
   "source": []
  },
  {
   "cell_type": "markdown",
   "id": "33b7ac08-4852-4fa7-bd03-56453e3d1c38",
   "metadata": {},
   "source": [
    "### Reshaping Arrays"
   ]
  },
  {
   "cell_type": "code",
   "execution_count": 140,
   "id": "ca47935f-b535-4cfb-bc64-a249de1a31db",
   "metadata": {},
   "outputs": [
    {
     "name": "stdout",
     "output_type": "stream",
     "text": [
      "[[ 0  1  2  3]\n",
      " [ 4  5  6  7]\n",
      " [ 8  9 10 11]]\n"
     ]
    }
   ],
   "source": [
    "a = np.arange(12)\n",
    "b = a.reshape(3,4)\n",
    "print(b)"
   ]
  },
  {
   "cell_type": "code",
   "execution_count": 142,
   "id": "27440015-5678-4e12-afdd-ef62fccd0e12",
   "metadata": {},
   "outputs": [],
   "source": [
    "a = np.arange(12)"
   ]
  },
  {
   "cell_type": "code",
   "execution_count": 144,
   "id": "54a8f192-fe72-4e5a-bc78-4a6075feb26d",
   "metadata": {},
   "outputs": [
    {
     "data": {
      "text/plain": [
       "array([ 0,  1,  2,  3,  4,  5,  6,  7,  8,  9, 10, 11])"
      ]
     },
     "execution_count": 144,
     "metadata": {},
     "output_type": "execute_result"
    }
   ],
   "source": [
    "a"
   ]
  },
  {
   "cell_type": "code",
   "execution_count": 148,
   "id": "21c850b1-fb5f-4b95-904f-40262c6c2a2f",
   "metadata": {},
   "outputs": [],
   "source": [
    "b= a.reshape(3,4)"
   ]
  },
  {
   "cell_type": "code",
   "execution_count": 150,
   "id": "bcfc2231-79b0-46fa-8fb3-bd63c7a06714",
   "metadata": {},
   "outputs": [
    {
     "data": {
      "text/plain": [
       "array([[ 0,  1,  2,  3],\n",
       "       [ 4,  5,  6,  7],\n",
       "       [ 8,  9, 10, 11]])"
      ]
     },
     "execution_count": 150,
     "metadata": {},
     "output_type": "execute_result"
    }
   ],
   "source": [
    "b"
   ]
  },
  {
   "cell_type": "code",
   "execution_count": null,
   "id": "b6b786a5-71f5-4297-8312-559b9a737ed3",
   "metadata": {},
   "outputs": [],
   "source": []
  },
  {
   "cell_type": "markdown",
   "id": "99ab59a3-fb05-453c-9d2e-3cdaeed9ce4b",
   "metadata": {},
   "source": [
    "### transpose"
   ]
  },
  {
   "cell_type": "code",
   "execution_count": 153,
   "id": "843aa424-7848-4a30-95f4-e15db8fe6894",
   "metadata": {},
   "outputs": [],
   "source": [
    "arr_3d = np.array([[0,1,2,3],\n",
    "                  [4,5,6,7],\n",
    "                  [8,9,10,11]])"
   ]
  },
  {
   "cell_type": "code",
   "execution_count": 155,
   "id": "940534f8-f970-42e4-aaf5-199e40277278",
   "metadata": {},
   "outputs": [
    {
     "data": {
      "text/plain": [
       "array([[ 0,  4,  8],\n",
       "       [ 1,  5,  9],\n",
       "       [ 2,  6, 10],\n",
       "       [ 3,  7, 11]])"
      ]
     },
     "execution_count": 155,
     "metadata": {},
     "output_type": "execute_result"
    }
   ],
   "source": [
    "arr_3d.transpose()"
   ]
  },
  {
   "cell_type": "code",
   "execution_count": null,
   "id": "5cddebd3-ed4a-45cc-b29a-fc850d4e42e8",
   "metadata": {},
   "outputs": [],
   "source": []
  }
 ],
 "metadata": {
  "kernelspec": {
   "display_name": "Python [conda env:base] *",
   "language": "python",
   "name": "conda-base-py"
  },
  "language_info": {
   "codemirror_mode": {
    "name": "ipython",
    "version": 3
   },
   "file_extension": ".py",
   "mimetype": "text/x-python",
   "name": "python",
   "nbconvert_exporter": "python",
   "pygments_lexer": "ipython3",
   "version": "3.12.7"
  }
 },
 "nbformat": 4,
 "nbformat_minor": 5
}
