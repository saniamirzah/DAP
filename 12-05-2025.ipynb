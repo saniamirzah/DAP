{
 "cells": [
  {
   "cell_type": "markdown",
   "id": "ad30f4e1-e147-4a2c-92e1-6af9bf3bd237",
   "metadata": {},
   "source": [
    "## tuple in python"
   ]
  },
  {
   "cell_type": "code",
   "execution_count": null,
   "id": "27759fb7-f0b7-4021-9a4a-619c172fdd41",
   "metadata": {},
   "outputs": [],
   "source": [
    "1. orderd\n",
    "2. immutable"
   ]
  },
  {
   "cell_type": "code",
   "execution_count": 9,
   "id": "132701de-a792-4719-9f22-f37a6509e054",
   "metadata": {},
   "outputs": [
    {
     "ename": "TypeError",
     "evalue": "'tuple' object does not support item assignment",
     "output_type": "error",
     "traceback": [
      "\u001b[1;31m---------------------------------------------------------------------------\u001b[0m",
      "\u001b[1;31mTypeError\u001b[0m                                 Traceback (most recent call last)",
      "Cell \u001b[1;32mIn[9], line 2\u001b[0m\n\u001b[0;32m      1\u001b[0m my_tuple \u001b[38;5;241m=\u001b[39m (\u001b[38;5;241m1\u001b[39m,\u001b[38;5;241m2\u001b[39m,\u001b[38;5;241m3\u001b[39m)\n\u001b[1;32m----> 2\u001b[0m my_tuple[\u001b[38;5;241m0\u001b[39m] \u001b[38;5;241m=\u001b[39m \u001b[38;5;241m225\u001b[39m\n",
      "\u001b[1;31mTypeError\u001b[0m: 'tuple' object does not support item assignment"
     ]
    }
   ],
   "source": [
    "my_tuple = (1,2,3) #here once value is assigned it cannot be changed thats y error\n",
    "my_tuple[0] = 225"
   ]
  },
  {
   "cell_type": "code",
   "execution_count": null,
   "id": "9238adee-2ba9-4058-bc6a-f482401ccd72",
   "metadata": {},
   "outputs": [],
   "source": [
    "3. heterogeneous it can have diff data types"
   ]
  },
  {
   "cell_type": "code",
   "execution_count": 11,
   "id": "b7811af7-3c59-436a-81f1-88f943cab644",
   "metadata": {},
   "outputs": [
    {
     "data": {
      "text/plain": [
       "(1, 'hello', 3.14)"
      ]
     },
     "execution_count": 11,
     "metadata": {},
     "output_type": "execute_result"
    }
   ],
   "source": [
    "tup = (1,\"hello\",3.14)\n",
    "tup"
   ]
  },
  {
   "cell_type": "code",
   "execution_count": null,
   "id": "5386ad76-8909-462c-8b32-2896451b4131",
   "metadata": {},
   "outputs": [],
   "source": [
    "4. indexing and slicing"
   ]
  },
  {
   "cell_type": "code",
   "execution_count": 15,
   "id": "9918ce03-093a-4536-8438-41bb6ccd6f3b",
   "metadata": {},
   "outputs": [
    {
     "name": "stdout",
     "output_type": "stream",
     "text": [
      "30\n",
      "(20, 30, 40)\n"
     ]
    }
   ],
   "source": [
    "my_tuple = (10,20,30,40)\n",
    "print(my_tuple[2]) # accesed by index\n",
    "print(my_tuple[1:4]) # here part is sliced"
   ]
  },
  {
   "cell_type": "code",
   "execution_count": null,
   "id": "0e11cad7-90fe-4ccb-abb4-f9cfbd891fc3",
   "metadata": {},
   "outputs": [],
   "source": [
    "5. packing and unpacking"
   ]
  },
  {
   "cell_type": "code",
   "execution_count": 19,
   "id": "950c9495-602b-42fa-a27f-b6516e19ab92",
   "metadata": {},
   "outputs": [
    {
     "data": {
      "text/plain": [
       "tuple"
      ]
     },
     "execution_count": 19,
     "metadata": {},
     "output_type": "execute_result"
    }
   ],
   "source": [
    "#packing\n",
    "my_tuple = 1,2,3 # here (,) is defined as tuple\n",
    "type(my_tuple)"
   ]
  },
  {
   "cell_type": "code",
   "execution_count": 21,
   "id": "30b137cb-e4f6-4706-83d7-a62977a68145",
   "metadata": {},
   "outputs": [
    {
     "name": "stdout",
     "output_type": "stream",
     "text": [
      "1 2 3\n"
     ]
    }
   ],
   "source": [
    "# unpacking\n",
    "a,b,c = my_tuple\n",
    "print(a,b,c)"
   ]
  },
  {
   "cell_type": "code",
   "execution_count": 23,
   "id": "fcc462c7-bfe2-426b-902a-55a9a3fd871a",
   "metadata": {},
   "outputs": [
    {
     "data": {
      "text/plain": [
       "1"
      ]
     },
     "execution_count": 23,
     "metadata": {},
     "output_type": "execute_result"
    }
   ],
   "source": [
    "a"
   ]
  },
  {
   "cell_type": "code",
   "execution_count": 26,
   "id": "41daf757-e593-4627-84b7-96b115e96b18",
   "metadata": {},
   "outputs": [
    {
     "data": {
      "text/plain": [
       "2"
      ]
     },
     "execution_count": 26,
     "metadata": {},
     "output_type": "execute_result"
    }
   ],
   "source": [
    "b"
   ]
  },
  {
   "cell_type": "code",
   "execution_count": 28,
   "id": "d4d53de5-981b-4e7d-b508-3f911d2d592f",
   "metadata": {},
   "outputs": [
    {
     "data": {
      "text/plain": [
       "3"
      ]
     },
     "execution_count": 28,
     "metadata": {},
     "output_type": "execute_result"
    }
   ],
   "source": [
    "c"
   ]
  },
  {
   "cell_type": "code",
   "execution_count": null,
   "id": "b185ac1e-34f2-45a2-a4b8-e43f115f21b6",
   "metadata": {},
   "outputs": [],
   "source": [
    "when to use tuple : if we dont want to modify the data then we use tupple"
   ]
  },
  {
   "cell_type": "code",
   "execution_count": 30,
   "id": "d709b885-20d2-4a0e-af08-f033f6292c5f",
   "metadata": {},
   "outputs": [
    {
     "name": "stdout",
     "output_type": "stream",
     "text": [
      "sania\n",
      "20\n",
      "bca\n"
     ]
    }
   ],
   "source": [
    "person = (\"sania\",20,\"bca\")\n",
    "print(person[0])\n",
    "print(person[1])\n",
    "print(person[2])"
   ]
  },
  {
   "cell_type": "code",
   "execution_count": 32,
   "id": "5676a269-f1d0-4447-8a02-19888f420aa4",
   "metadata": {},
   "outputs": [
    {
     "name": "stdout",
     "output_type": "stream",
     "text": [
      "10 20 30\n"
     ]
    }
   ],
   "source": [
    "coordinates = (10,20,30)\n",
    "x = coordinates[0]\n",
    "y = coordinates[1]\n",
    "z = coordinates[2]\n",
    "print(x,y,z)"
   ]
  },
  {
   "cell_type": "code",
   "execution_count": 44,
   "id": "b3990296-1152-4a75-8873-5ae47b499499",
   "metadata": {},
   "outputs": [
    {
     "data": {
      "text/plain": [
       "1"
      ]
     },
     "execution_count": 44,
     "metadata": {},
     "output_type": "execute_result"
    }
   ],
   "source": [
    "value = [[1,2,3,4],[5,6,7,8,[11,12,13]]]\n",
    "value[0][0]"
   ]
  },
  {
   "cell_type": "code",
   "execution_count": 68,
   "id": "60cc8b45-5f15-4083-ba5b-e761e5089795",
   "metadata": {},
   "outputs": [
    {
     "data": {
      "text/plain": [
       "6"
      ]
     },
     "execution_count": 68,
     "metadata": {},
     "output_type": "execute_result"
    }
   ],
   "source": [
    "value [1][1]\n"
   ]
  },
  {
   "cell_type": "code",
   "execution_count": 78,
   "id": "3356406f-0033-42b3-8230-d47eec64d686",
   "metadata": {},
   "outputs": [
    {
     "data": {
      "text/plain": [
       "5"
      ]
     },
     "execution_count": 78,
     "metadata": {},
     "output_type": "execute_result"
    }
   ],
   "source": [
    "value [1][0]"
   ]
  },
  {
   "cell_type": "code",
   "execution_count": null,
   "id": "446476d9-2478-4020-885a-e908ebd06c1e",
   "metadata": {},
   "outputs": [],
   "source": [
    "# slicing in tuple"
   ]
  },
  {
   "cell_type": "code",
   "execution_count": 164,
   "id": "3e9d738b-bb73-4c8c-821c-02dc81c25b27",
   "metadata": {},
   "outputs": [],
   "source": [
    "my_tuple = (1,2,3,4,5,6,7,8,9)"
   ]
  },
  {
   "cell_type": "code",
   "execution_count": 168,
   "id": "d54844c5-ce13-44bf-b336-0f6af3c84e29",
   "metadata": {},
   "outputs": [
    {
     "name": "stdout",
     "output_type": "stream",
     "text": [
      "(1, 2, 3)\n",
      "(4, 5, 6, 7, 8, 9)\n"
     ]
    }
   ],
   "source": [
    "slice_1 = my_tuple[0:3]\n",
    "print(slice_1)\n",
    "slice_2 = my_tuple[3:]\n",
    "print(slice_2)"
   ]
  },
  {
   "cell_type": "code",
   "execution_count": 94,
   "id": "bf282436-c947-4c91-b329-863a887b1211",
   "metadata": {},
   "outputs": [
    {
     "name": "stdout",
     "output_type": "stream",
     "text": [
      "cherry\n"
     ]
    }
   ],
   "source": [
    "# scenario\n",
    "fruits = (\"apple\",\"banana\",\"cherry\",\"date\",\"elderberry\")\n",
    "print(fruits[2])"
   ]
  },
  {
   "cell_type": "code",
   "execution_count": 110,
   "id": "0693dbbd-457e-45ab-bb4d-8dd5915ff5e3",
   "metadata": {},
   "outputs": [
    {
     "name": "stdout",
     "output_type": "stream",
     "text": [
      "(10, 20, 30)\n"
     ]
    }
   ],
   "source": [
    "#scenario\n",
    "numbers = (10,20,30,40,50)\n",
    "new_tuple = numbers[:3]\n",
    "print(new_tuple)"
   ]
  },
  {
   "cell_type": "code",
   "execution_count": 112,
   "id": "b1a16b12-7b37-450b-ac26-cc431e8e49df",
   "metadata": {},
   "outputs": [
    {
     "data": {
      "text/plain": [
       "'purple'"
      ]
     },
     "execution_count": 112,
     "metadata": {},
     "output_type": "execute_result"
    }
   ],
   "source": [
    "#scenario\n",
    "colors = (\"red\",\"green\",\"blue\",\"yellow\",\"purple\")\n",
    "colors[-1]"
   ]
  },
  {
   "cell_type": "code",
   "execution_count": 120,
   "id": "6c646a19-5c7a-4ba8-b964-2cda5dfe1b8b",
   "metadata": {},
   "outputs": [
    {
     "data": {
      "text/plain": [
       "5"
      ]
     },
     "execution_count": 120,
     "metadata": {},
     "output_type": "execute_result"
    }
   ],
   "source": [
    "#scenario\n",
    "nested_tuple = (1,(2,3),(4,(5,6),7),8)\n",
    "nested_tuple[2][1][0]"
   ]
  },
  {
   "cell_type": "code",
   "execution_count": 122,
   "id": "9a763b61-c9f0-41ec-bee2-34d217fbfdb2",
   "metadata": {},
   "outputs": [
    {
     "data": {
      "text/plain": [
       "('charlie', 'diana', 'eve')"
      ]
     },
     "execution_count": 122,
     "metadata": {},
     "output_type": "execute_result"
    }
   ],
   "source": [
    "names = (\"alice\",\"bob\",\"charlie\",\"diana\",\"eve\")\n",
    "last_three = names[-3:]\n",
    "last_three"
   ]
  },
  {
   "cell_type": "code",
   "execution_count": null,
   "id": "97853963-fa6e-4d86-939c-954c9bb075ec",
   "metadata": {},
   "outputs": [],
   "source": [
    "1. covrt tuple to list , modify,and covert again"
   ]
  },
  {
   "cell_type": "code",
   "execution_count": 126,
   "id": "9e9cbb3b-5865-4a78-a4f3-ebbb13648cdc",
   "metadata": {},
   "outputs": [],
   "source": [
    "#original tuple\n",
    "fruits = (\"apple\",\"banana\",\"cherry\")"
   ]
  },
  {
   "cell_type": "code",
   "execution_count": 128,
   "id": "6c44a6ea-26ba-47c6-b122-056706d292f2",
   "metadata": {},
   "outputs": [
    {
     "data": {
      "text/plain": [
       "tuple"
      ]
     },
     "execution_count": 128,
     "metadata": {},
     "output_type": "execute_result"
    }
   ],
   "source": [
    "type(fruits)"
   ]
  },
  {
   "cell_type": "code",
   "execution_count": 130,
   "id": "5accd1ce-1938-4dc5-ab9e-f91d04ce8b4a",
   "metadata": {},
   "outputs": [],
   "source": [
    "a = list(fruits)"
   ]
  },
  {
   "cell_type": "code",
   "execution_count": 132,
   "id": "4e6abb3d-7104-4b02-8f64-c21103571b9e",
   "metadata": {},
   "outputs": [
    {
     "data": {
      "text/plain": [
       "list"
      ]
     },
     "execution_count": 132,
     "metadata": {},
     "output_type": "execute_result"
    }
   ],
   "source": [
    "type(a)"
   ]
  },
  {
   "cell_type": "code",
   "execution_count": 134,
   "id": "9ac4fbc5-93be-4a6a-86d7-d093693512a4",
   "metadata": {},
   "outputs": [
    {
     "data": {
      "text/plain": [
       "['apple', 'banana', 'cherry', 'mango']"
      ]
     },
     "execution_count": 134,
     "metadata": {},
     "output_type": "execute_result"
    }
   ],
   "source": [
    "a.append(\"mango\")\n",
    "a"
   ]
  },
  {
   "cell_type": "code",
   "execution_count": 136,
   "id": "00b97e8c-4a36-4e42-8bd6-b914c48e40d0",
   "metadata": {},
   "outputs": [],
   "source": [
    "b = tuple(a)"
   ]
  },
  {
   "cell_type": "code",
   "execution_count": 138,
   "id": "c28bcfc7-b9ff-42e2-b8d8-0f6809e694d2",
   "metadata": {},
   "outputs": [
    {
     "data": {
      "text/plain": [
       "tuple"
      ]
     },
     "execution_count": 138,
     "metadata": {},
     "output_type": "execute_result"
    }
   ],
   "source": [
    "type(b)"
   ]
  },
  {
   "cell_type": "code",
   "execution_count": 142,
   "id": "3267d22b-fc98-41fd-8fb0-278f39b53a78",
   "metadata": {},
   "outputs": [
    {
     "data": {
      "text/plain": [
       "('apple', 'banana', 'cherry', 'mango')"
      ]
     },
     "execution_count": 142,
     "metadata": {},
     "output_type": "execute_result"
    }
   ],
   "source": [
    "b"
   ]
  },
  {
   "cell_type": "code",
   "execution_count": null,
   "id": "c310351e-b352-4b83-8477-6ad853e81e18",
   "metadata": {},
   "outputs": [],
   "source": [
    "2.concatenate slices of tuple"
   ]
  },
  {
   "cell_type": "code",
   "execution_count": 160,
   "id": "4857a8eb-29ba-4143-99e2-9755ba95901c",
   "metadata": {},
   "outputs": [
    {
     "name": "stdout",
     "output_type": "stream",
     "text": [
      "('apple', 'blueberry', 'cherry')\n"
     ]
    }
   ],
   "source": [
    "fruits = (\"apple\",\"banana\",\"cherry\")\n",
    "fruits_new = fruits[:1] + (\"blueberry\",) + fruits[2:] #here , is important else error will be thrown\n",
    "print(fruits_new)"
   ]
  },
  {
   "cell_type": "code",
   "execution_count": null,
   "id": "4456379a-4b70-472c-a205-9b7cfe0c24f8",
   "metadata": {},
   "outputs": [],
   "source": [
    "3.using concatenationnn to add ele"
   ]
  },
  {
   "cell_type": "code",
   "execution_count": 170,
   "id": "50d459a3-bbc6-4cbb-8ea9-dea37bb59cab",
   "metadata": {},
   "outputs": [
    {
     "name": "stdout",
     "output_type": "stream",
     "text": [
      "('apple', 'banana', 'cherry', 'date')\n"
     ]
    }
   ],
   "source": [
    "fruits = (\"apple\",\"banana\",\"cherry\")\n",
    "fruits1 = fruits + (\"date\",)\n",
    "print(fruits1)"
   ]
  },
  {
   "cell_type": "code",
   "execution_count": null,
   "id": "353ec9f0-6880-4188-a09c-2a0762a877dd",
   "metadata": {},
   "outputs": [],
   "source": [
    "4.deleting a tuple we can delete entire tuple not an single element"
   ]
  },
  {
   "cell_type": "markdown",
   "id": "5c4def47-4c3e-4f04-9a40-5bf400e3da4f",
   "metadata": {},
   "source": [
    "# tuple arithmetic operation"
   ]
  },
  {
   "cell_type": "code",
   "execution_count": null,
   "id": "d6f4e4d0-3d89-404b-bfb9-33178f6ac04c",
   "metadata": {},
   "outputs": [],
   "source": [
    "*addition\n",
    "*multiplication\n",
    "(subtraction and division is not used in tuple)"
   ]
  },
  {
   "cell_type": "markdown",
   "id": "f0adacab-9c9d-4f31-a72b-9f15f41c10b2",
   "metadata": {},
   "source": [
    "# membership in tuple"
   ]
  },
  {
   "cell_type": "code",
   "execution_count": null,
   "id": "3bf42a09-4103-426d-8b14-9b7ba58663d0",
   "metadata": {},
   "outputs": [],
   "source": [
    "*in operator\n",
    "* not in operator\n"
   ]
  },
  {
   "cell_type": "markdown",
   "id": "1e784306-e130-474c-be31-fc9f9744f63a",
   "metadata": {},
   "source": [
    "# methods in tuple"
   ]
  },
  {
   "cell_type": "code",
   "execution_count": null,
   "id": "dd398d5d-21b3-4c19-bf4d-5bc7f67b0e6f",
   "metadata": {},
   "outputs": [],
   "source": [
    "1.count()\n",
    "2.index()"
   ]
  },
  {
   "cell_type": "code",
   "execution_count": 177,
   "id": "96296dbd-8470-4c50-b1e7-3db56e2d3f2b",
   "metadata": {},
   "outputs": [
    {
     "data": {
      "text/plain": [
       "3"
      ]
     },
     "execution_count": 177,
     "metadata": {},
     "output_type": "execute_result"
    }
   ],
   "source": [
    "name = (\"sania\")\n",
    "name.index(\"i\")"
   ]
  },
  {
   "cell_type": "markdown",
   "id": "b8596157-549a-4803-baf3-7d84cddfbdc2",
   "metadata": {},
   "source": [
    "# function on tuple"
   ]
  },
  {
   "cell_type": "code",
   "execution_count": null,
   "id": "dd2fdcb5-6a85-4126-b9a4-03ef9a596024",
   "metadata": {},
   "outputs": [],
   "source": [
    "1. len()"
   ]
  },
  {
   "cell_type": "code",
   "execution_count": 180,
   "id": "e8430cac-1608-4683-8883-fb648a547944",
   "metadata": {},
   "outputs": [
    {
     "data": {
      "text/plain": [
       "5"
      ]
     },
     "execution_count": 180,
     "metadata": {},
     "output_type": "execute_result"
    }
   ],
   "source": [
    "name = (\"sania\")\n",
    "len(name)"
   ]
  },
  {
   "cell_type": "code",
   "execution_count": null,
   "id": "84ca5bb3-1c9b-4064-8ab7-efee72870062",
   "metadata": {},
   "outputs": [],
   "source": [
    "2.max()"
   ]
  },
  {
   "cell_type": "code",
   "execution_count": 186,
   "id": "06f0d56e-dac1-4d53-a345-a0e683de6884",
   "metadata": {},
   "outputs": [
    {
     "data": {
      "text/plain": [
       "'z'"
      ]
     },
     "execution_count": 186,
     "metadata": {},
     "output_type": "execute_result"
    }
   ],
   "source": [
    "name = (\"sania mirza.h\")\n",
    "max(name)"
   ]
  },
  {
   "cell_type": "code",
   "execution_count": null,
   "id": "8757e81e-39de-4384-b0f6-7fd74103a98a",
   "metadata": {},
   "outputs": [],
   "source": [
    "3.min()"
   ]
  },
  {
   "cell_type": "code",
   "execution_count": 192,
   "id": "45d78bc1-7372-4ac1-a381-184441ba4104",
   "metadata": {},
   "outputs": [
    {
     "data": {
      "text/plain": [
       "'a'"
      ]
     },
     "execution_count": 192,
     "metadata": {},
     "output_type": "execute_result"
    }
   ],
   "source": [
    "name = (\"sheikhsania\")\n",
    "min(name)"
   ]
  },
  {
   "cell_type": "code",
   "execution_count": null,
   "id": "0db9c84b-1d75-4bc5-be30-fae75d3c0895",
   "metadata": {},
   "outputs": [],
   "source": [
    "4.sum()"
   ]
  },
  {
   "cell_type": "code",
   "execution_count": 200,
   "id": "f7106088-3427-4edb-8e5e-9111073fcc70",
   "metadata": {},
   "outputs": [
    {
     "data": {
      "text/plain": [
       "45"
      ]
     },
     "execution_count": 200,
     "metadata": {},
     "output_type": "execute_result"
    }
   ],
   "source": [
    "my_tuple = (1,2,3,4,5,6,7,8,9)\n",
    "sum(my_tuple)"
   ]
  },
  {
   "cell_type": "code",
   "execution_count": null,
   "id": "63108c14-19a2-4aa2-90f7-a9c89d0abeb9",
   "metadata": {},
   "outputs": [],
   "source": [
    "5.sorted() here sort will not work because it is immutable"
   ]
  },
  {
   "cell_type": "code",
   "execution_count": null,
   "id": "bbbe6296-3c43-47b0-875c-8151320d0712",
   "metadata": {},
   "outputs": [],
   "source": [
    "6. any()"
   ]
  },
  {
   "cell_type": "code",
   "execution_count": 202,
   "id": "5e01211b-09bc-4c12-b480-b88beebbf474",
   "metadata": {},
   "outputs": [
    {
     "data": {
      "text/plain": [
       "False"
      ]
     },
     "execution_count": 202,
     "metadata": {},
     "output_type": "execute_result"
    }
   ],
   "source": [
    "tuple = (0,0,0)\n",
    "any(tuple)"
   ]
  },
  {
   "cell_type": "code",
   "execution_count": null,
   "id": "a68ba1e0-9e51-4300-9f5d-9b1e50e1b8d2",
   "metadata": {},
   "outputs": [],
   "source": [
    "7.all()"
   ]
  },
  {
   "cell_type": "code",
   "execution_count": 208,
   "id": "4cd8c3a4-3251-4f90-8ce8-85be26b5967f",
   "metadata": {},
   "outputs": [
    {
     "data": {
      "text/plain": [
       "True"
      ]
     },
     "execution_count": 208,
     "metadata": {},
     "output_type": "execute_result"
    }
   ],
   "source": [
    "tuple = (1,1,1)\n",
    "all(tuple)"
   ]
  },
  {
   "cell_type": "code",
   "execution_count": 218,
   "id": "82fb80cb-935b-4090-b0f9-f516ec80b31d",
   "metadata": {},
   "outputs": [
    {
     "name": "stdout",
     "output_type": "stream",
     "text": [
      "highest: 92\n"
     ]
    }
   ],
   "source": [
    "#scenario\n",
    "scores = (88,76,92,85,79)\n",
    "highest = max(scores)\n",
    "print(\"highest:\",highest)"
   ]
  },
  {
   "cell_type": "code",
   "execution_count": 220,
   "id": "6c93190d-000e-4f11-b3f2-c3087afa7b67",
   "metadata": {},
   "outputs": [
    {
     "name": "stdout",
     "output_type": "stream",
     "text": [
      "lowest: 76\n"
     ]
    }
   ],
   "source": [
    "lowest = min(scores)\n",
    "print(\"lowest:\",lowest)"
   ]
  },
  {
   "cell_type": "code",
   "execution_count": 230,
   "id": "ec29d85e-2e75-4dd7-830a-422434b602d8",
   "metadata": {},
   "outputs": [
    {
     "name": "stdout",
     "output_type": "stream",
     "text": [
      "paris is located in cities :  True\n"
     ]
    }
   ],
   "source": [
    "#scenario\n",
    "cities = (\"new york\",\"los angeles\",\"paris\",\"london\",\"tokyo\")\n",
    "search_paris = \"paris\" in cities\n",
    "print(\"paris is located in cities : \",(search_paris))"
   ]
  }
 ],
 "metadata": {
  "kernelspec": {
   "display_name": "Python [conda env:New folder]",
   "language": "python",
   "name": "conda-env-New_folder-py"
  },
  "language_info": {
   "codemirror_mode": {
    "name": "ipython",
    "version": 3
   },
   "file_extension": ".py",
   "mimetype": "text/x-python",
   "name": "python",
   "nbconvert_exporter": "python",
   "pygments_lexer": "ipython3",
   "version": "3.12.7"
  }
 },
 "nbformat": 4,
 "nbformat_minor": 5
}
